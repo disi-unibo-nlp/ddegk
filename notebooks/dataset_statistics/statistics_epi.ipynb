{
  "cells": [
    {
      "cell_type": "code",
      "execution_count": null,
      "metadata": {
        "id": "CE0_Mtj8Nsvu"
      },
      "outputs": [],
      "source": [
        "import numpy as np\n",
        "import networkx as nx\n",
        "import json\n",
        "import pandas as pd"
      ]
    },
    {
      "cell_type": "code",
      "execution_count": null,
      "metadata": {
        "id": "SZD3MlWGK_Ih"
      },
      "outputs": [],
      "source": [
        "DIR = ''"
      ]
    },
    {
      "cell_type": "code",
      "execution_count": null,
      "metadata": {
        "id": "21u2927XMN7t"
      },
      "outputs": [],
      "source": [
        "dataset = 'epi_stratified_sample.json'"
      ]
    },
    {
      "cell_type": "code",
      "execution_count": null,
      "metadata": {
        "id": "Tv7CqXr1Z2Es"
      },
      "outputs": [],
      "source": [
        "graphs = []"
      ]
    },
    {
      "cell_type": "code",
      "execution_count": null,
      "metadata": {
        "id": "5kdmr6rKMCry"
      },
      "outputs": [],
      "source": [
        "with open(DIR + dataset) as ff:\n",
        "    temp = [g for g in json.load(ff)]\n",
        "    graphs.extend(temp)"
      ]
    },
    {
      "cell_type": "code",
      "execution_count": null,
      "metadata": {
        "id": "Db6K5-vgO0Ex"
      },
      "outputs": [],
      "source": [
        "df = pd.DataFrame(graphs)"
      ]
    },
    {
      "cell_type": "code",
      "execution_count": null,
      "metadata": {
        "colab": {
          "base_uri": "https://localhost:8080/",
          "height": 205
        },
        "id": "RAoBPOkTZ8DR",
        "outputId": "22d7546f-c09e-4f68-82c3-a1a2b07c955c"
      },
      "outputs": [
        {
          "data": {
            "text/html": [
              "<div>\n",
              "<style scoped>\n",
              "    .dataframe tbody tr th:only-of-type {\n",
              "        vertical-align: middle;\n",
              "    }\n",
              "\n",
              "    .dataframe tbody tr th {\n",
              "        vertical-align: top;\n",
              "    }\n",
              "\n",
              "    .dataframe thead th {\n",
              "        text-align: right;\n",
              "    }\n",
              "</style>\n",
              "<table border=\"1\" class=\"dataframe\">\n",
              "  <thead>\n",
              "    <tr style=\"text-align: right;\">\n",
              "      <th></th>\n",
              "      <th>directed</th>\n",
              "      <th>multigraph</th>\n",
              "      <th>graph</th>\n",
              "      <th>nodes</th>\n",
              "      <th>links</th>\n",
              "    </tr>\n",
              "  </thead>\n",
              "  <tbody>\n",
              "    <tr>\n",
              "      <th>0</th>\n",
              "      <td>True</td>\n",
              "      <td>False</td>\n",
              "      <td>{'source_doc': 'PMID-19196961', 'dataset': 'ep...</td>\n",
              "      <td>[{'type': 'Ubiquitination', 'name': 'ubiquitin...</td>\n",
              "      <td>[{'key': 'Theme', 'event_id': 'E3', 'source': ...</td>\n",
              "    </tr>\n",
              "    <tr>\n",
              "      <th>1</th>\n",
              "      <td>True</td>\n",
              "      <td>False</td>\n",
              "      <td>{'source_doc': 'PMID-17989425', 'dataset': 'ep...</td>\n",
              "      <td>[{'type': 'Protein', 'name': 'p53', 'embedding...</td>\n",
              "      <td>[{'key': 'Theme', 'event_id': 'E1', 'source': ...</td>\n",
              "    </tr>\n",
              "    <tr>\n",
              "      <th>2</th>\n",
              "      <td>True</td>\n",
              "      <td>False</td>\n",
              "      <td>{'source_doc': 'PMID-17601874', 'dataset': 'ep...</td>\n",
              "      <td>[{'type': 'Protein', 'name': 'TbPRMT5', 'embed...</td>\n",
              "      <td>[{'key': 'Theme', 'event_id': 'E1', 'source': ...</td>\n",
              "    </tr>\n",
              "    <tr>\n",
              "      <th>3</th>\n",
              "      <td>True</td>\n",
              "      <td>False</td>\n",
              "      <td>{'source_doc': 'PMID-19786094', 'dataset': 'ep...</td>\n",
              "      <td>[{'type': 'Phosphorylation', 'name': 'phosphor...</td>\n",
              "      <td>[{'key': 'Theme', 'event_id': 'E11', 'source':...</td>\n",
              "    </tr>\n",
              "    <tr>\n",
              "      <th>4</th>\n",
              "      <td>True</td>\n",
              "      <td>False</td>\n",
              "      <td>{'source_doc': 'PMID-18805587', 'dataset': 'ep...</td>\n",
              "      <td>[{'type': 'Catalysis', 'name': 'auto-hydroxyla...</td>\n",
              "      <td>[{'key': 'Theme', 'event_id': 'E4', 'source': ...</td>\n",
              "    </tr>\n",
              "  </tbody>\n",
              "</table>\n",
              "</div>"
            ],
            "text/plain": [
              "   directed  ...                                              links\n",
              "0      True  ...  [{'key': 'Theme', 'event_id': 'E3', 'source': ...\n",
              "1      True  ...  [{'key': 'Theme', 'event_id': 'E1', 'source': ...\n",
              "2      True  ...  [{'key': 'Theme', 'event_id': 'E1', 'source': ...\n",
              "3      True  ...  [{'key': 'Theme', 'event_id': 'E11', 'source':...\n",
              "4      True  ...  [{'key': 'Theme', 'event_id': 'E4', 'source': ...\n",
              "\n",
              "[5 rows x 5 columns]"
            ]
          },
          "execution_count": 7,
          "metadata": {},
          "output_type": "execute_result"
        }
      ],
      "source": [
        "df.head()"
      ]
    },
    {
      "cell_type": "markdown",
      "metadata": {
        "id": "YgDLPe4SOgVC"
      },
      "source": [
        "# # Event graphs"
      ]
    },
    {
      "cell_type": "code",
      "execution_count": null,
      "metadata": {
        "colab": {
          "base_uri": "https://localhost:8080/"
        },
        "id": "2Rt0oXamOmFs",
        "outputId": "d9d66eee-db8e-41da-a46b-f52e4190156e"
      },
      "outputs": [
        {
          "data": {
            "text/plain": [
              "1002"
            ]
          },
          "execution_count": 8,
          "metadata": {},
          "output_type": "execute_result"
        }
      ],
      "source": [
        "num_graphs = len(df)\n",
        "num_graphs"
      ]
    },
    {
      "cell_type": "markdown",
      "metadata": {
        "id": "-nugvQqoO09K"
      },
      "source": [
        "##Average nodes"
      ]
    },
    {
      "cell_type": "code",
      "execution_count": null,
      "metadata": {
        "id": "22JeyA7vZHuD"
      },
      "outputs": [],
      "source": [
        "# Obtain a list with the information of each node in each graph\n",
        "nodes_list = [n[1] for n in df['nodes'].items()]"
      ]
    },
    {
      "cell_type": "code",
      "execution_count": null,
      "metadata": {
        "id": "Pt7q9XuObD2d"
      },
      "outputs": [],
      "source": [
        "len_nodes = [len(nodes_list[i]) for i in range(len(df))]"
      ]
    },
    {
      "cell_type": "code",
      "execution_count": null,
      "metadata": {
        "colab": {
          "base_uri": "https://localhost:8080/"
        },
        "id": "ePmvDnMe9KS6",
        "outputId": "542d549a-123a-47b5-c2e2-75203531fc52"
      },
      "outputs": [
        {
          "data": {
            "text/plain": [
              "(6, 2)"
            ]
          },
          "execution_count": 11,
          "metadata": {},
          "output_type": "execute_result"
        }
      ],
      "source": [
        "max(len_nodes), min(len_nodes)"
      ]
    },
    {
      "cell_type": "code",
      "execution_count": null,
      "metadata": {
        "colab": {
          "base_uri": "https://localhost:8080/"
        },
        "id": "6VzUTt2nbTTC",
        "outputId": "ab53ad15-4ef5-4602-8e21-488fa26157a0"
      },
      "outputs": [
        {
          "data": {
            "text/plain": [
              "2.845309381237525"
            ]
          },
          "execution_count": 12,
          "metadata": {},
          "output_type": "execute_result"
        }
      ],
      "source": [
        "avg_nodes = np.mean(len_nodes)\n",
        "avg_nodes"
      ]
    },
    {
      "cell_type": "markdown",
      "metadata": {
        "id": "HXrl9wR3ccJf"
      },
      "source": [
        "# Average edges"
      ]
    },
    {
      "cell_type": "code",
      "execution_count": null,
      "metadata": {
        "id": "JGgZWbVj0R-K"
      },
      "outputs": [],
      "source": [
        "edges_list = [n[1] for n in df['links'].items()]"
      ]
    },
    {
      "cell_type": "code",
      "execution_count": null,
      "metadata": {
        "id": "n-3HIMpl0dpK"
      },
      "outputs": [],
      "source": [
        "len_edges = [len(edges_list[i]) for i in range(len(df))]"
      ]
    },
    {
      "cell_type": "code",
      "execution_count": null,
      "metadata": {
        "colab": {
          "base_uri": "https://localhost:8080/"
        },
        "id": "mmRZj3uH1tiI",
        "outputId": "03e6caec-0f3c-4e51-cea6-01f0760dd259"
      },
      "outputs": [
        {
          "data": {
            "text/plain": [
              "1.8562874251497006"
            ]
          },
          "execution_count": 15,
          "metadata": {},
          "output_type": "execute_result"
        }
      ],
      "source": [
        "avg_edges = np.mean(len_edges)\n",
        "avg_edges"
      ]
    },
    {
      "cell_type": "markdown",
      "metadata": {
        "id": "xEfVuMc82FGN"
      },
      "source": [
        "# # Event types (root)"
      ]
    },
    {
      "cell_type": "code",
      "execution_count": null,
      "metadata": {
        "id": "ErngWp7Rq8jW"
      },
      "outputs": [],
      "source": [
        "roots = [g[1]['root'] for g in df['graph'].items()]"
      ]
    },
    {
      "cell_type": "code",
      "execution_count": null,
      "metadata": {
        "id": "D5uCW8l1ZJBG"
      },
      "outputs": [],
      "source": [
        "# For each event graph, we take the type information from the trigger node (id matching)\n",
        "event_type = [n['type'] for i in range(len(graphs)) for n in nodes_list[i] if n['id'] == roots[i]] "
      ]
    },
    {
      "cell_type": "code",
      "execution_count": null,
      "metadata": {
        "id": "cuESOxNDrQs-"
      },
      "outputs": [],
      "source": [
        "df['event_type'] = event_type"
      ]
    },
    {
      "cell_type": "code",
      "execution_count": null,
      "metadata": {
        "colab": {
          "base_uri": "https://localhost:8080/"
        },
        "id": "RuuRQwWf6OJB",
        "outputId": "238652b2-b9b5-498a-d316-c4a6f1d66bb3"
      },
      "outputs": [
        {
          "data": {
            "text/plain": [
              "{'Acetylation',\n",
              " 'Catalysis',\n",
              " 'DNA_methylation',\n",
              " 'Deacetylation',\n",
              " 'Deglycosylation',\n",
              " 'Glycosylation',\n",
              " 'Hydroxylation',\n",
              " 'Methylation',\n",
              " 'Phosphorylation',\n",
              " 'Ubiquitination'}"
            ]
          },
          "execution_count": 19,
          "metadata": {},
          "output_type": "execute_result"
        }
      ],
      "source": [
        "set(event_type)"
      ]
    },
    {
      "cell_type": "code",
      "execution_count": null,
      "metadata": {
        "colab": {
          "base_uri": "https://localhost:8080/"
        },
        "id": "mkwdd4hi6Ji2",
        "outputId": "f008eba5-0511-42f1-845e-317d522fcbbe"
      },
      "outputs": [
        {
          "data": {
            "text/plain": [
              "10"
            ]
          },
          "execution_count": 20,
          "metadata": {},
          "output_type": "execute_result"
        }
      ],
      "source": [
        "len(set(event_type))"
      ]
    },
    {
      "cell_type": "markdown",
      "metadata": {
        "id": "1TfqSHR-2aa1"
      },
      "source": [
        "# # Entity types (root)"
      ]
    },
    {
      "cell_type": "code",
      "execution_count": null,
      "metadata": {
        "id": "jTikrUzH7UYq"
      },
      "outputs": [],
      "source": [
        "# For each event graph, we take the type information from all the nodes except the trigger node (id matching)\n",
        "entity_type = [n['type'] for i in range(len(graphs)) for n in nodes_list[i] if n['id'] != roots[i]] "
      ]
    },
    {
      "cell_type": "code",
      "execution_count": null,
      "metadata": {
        "colab": {
          "base_uri": "https://localhost:8080/"
        },
        "id": "8oPd3b-_7cIP",
        "outputId": "2fbc7c03-a9ec-416d-dff4-291acc2b8c61"
      },
      "outputs": [
        {
          "data": {
            "text/plain": [
              "{'Acetylation',\n",
              " 'DNA_methylation',\n",
              " 'Deglycosylation',\n",
              " 'Demethylation',\n",
              " 'Deubiquitination',\n",
              " 'Entity',\n",
              " 'Hydroxylation',\n",
              " 'Methylation',\n",
              " 'Phosphorylation',\n",
              " 'Protein',\n",
              " 'Ubiquitination'}"
            ]
          },
          "execution_count": 22,
          "metadata": {},
          "output_type": "execute_result"
        }
      ],
      "source": [
        "set(entity_type)"
      ]
    },
    {
      "cell_type": "code",
      "execution_count": null,
      "metadata": {
        "colab": {
          "base_uri": "https://localhost:8080/"
        },
        "id": "ow7dmyOx7cIR",
        "outputId": "dc34ef62-b37a-461f-a228-9320e6f048ba"
      },
      "outputs": [
        {
          "data": {
            "text/plain": [
              "11"
            ]
          },
          "execution_count": 23,
          "metadata": {},
          "output_type": "execute_result"
        }
      ],
      "source": [
        "len(set(entity_type))"
      ]
    },
    {
      "cell_type": "markdown",
      "metadata": {
        "id": "YaNMluWe2pMx"
      },
      "source": [
        "# Edge labels"
      ]
    },
    {
      "cell_type": "code",
      "execution_count": null,
      "metadata": {
        "id": "vtee76yu9N8R"
      },
      "outputs": [],
      "source": [
        "edges_type = [el[0]['key'] for el in edges_list]"
      ]
    },
    {
      "cell_type": "code",
      "execution_count": null,
      "metadata": {
        "colab": {
          "base_uri": "https://localhost:8080/"
        },
        "id": "0rS21Wz9-ORV",
        "outputId": "a90524b9-8ff9-48ac-ba3e-85e78cb9e0cf"
      },
      "outputs": [
        {
          "data": {
            "text/plain": [
              "1"
            ]
          },
          "execution_count": 25,
          "metadata": {},
          "output_type": "execute_result"
        }
      ],
      "source": [
        "len(set(edges_type))"
      ]
    },
    {
      "cell_type": "markdown",
      "metadata": {
        "id": "T35uPjUrMS6L"
      },
      "source": [
        "### Node range "
      ]
    },
    {
      "cell_type": "code",
      "execution_count": null,
      "metadata": {
        "id": "DUD82rtIbYLV"
      },
      "outputs": [],
      "source": [
        "lenghts = [len(nodes_list[i]) for i in range(len(df))]"
      ]
    },
    {
      "cell_type": "code",
      "execution_count": null,
      "metadata": {
        "id": "r4Zd0rFlbxZx"
      },
      "outputs": [],
      "source": [
        "df['len'] = lenghts"
      ]
    },
    {
      "cell_type": "markdown",
      "metadata": {
        "id": "yE-UnDCFX3Ga"
      },
      "source": [
        "### Introducing a range for event graph size"
      ]
    },
    {
      "cell_type": "markdown",
      "metadata": {
        "id": "vLdAjGrCGEcz"
      },
      "source": [
        "Starting from the event graph distribution for each graph size, a reasonable splitting on #nodes is 2, 3, 4, 5, 6, > 7."
      ]
    },
    {
      "cell_type": "code",
      "execution_count": null,
      "metadata": {
        "id": "Uz_aRKqf-nqM"
      },
      "outputs": [],
      "source": [
        "df['range_len'] = df['len'].copy()"
      ]
    },
    {
      "cell_type": "code",
      "execution_count": null,
      "metadata": {
        "colab": {
          "base_uri": "https://localhost:8080/"
        },
        "id": "q3h0qvyo-xOu",
        "outputId": "c5224957-70d2-41ff-cdfb-ce45232b0961"
      },
      "outputs": [
        {
          "name": "stderr",
          "output_type": "stream",
          "text": [
            "/usr/local/lib/python3.7/dist-packages/ipykernel_launcher.py:1: SettingWithCopyWarning: \n",
            "A value is trying to be set on a copy of a slice from a DataFrame\n",
            "\n",
            "See the caveats in the documentation: https://pandas.pydata.org/pandas-docs/stable/user_guide/indexing.html#returning-a-view-versus-a-copy\n",
            "  \"\"\"Entry point for launching an IPython kernel.\n"
          ]
        }
      ],
      "source": [
        "df['range_len'][df['len'] >= 7] = 7"
      ]
    },
    {
      "cell_type": "code",
      "execution_count": null,
      "metadata": {
        "id": "MxVDHtuuAJKj"
      },
      "outputs": [],
      "source": [
        "df['range_len'] = [str(n) for n in df['range_len']]"
      ]
    },
    {
      "cell_type": "markdown",
      "metadata": {
        "id": "hMLFz2WW_MB2"
      },
      "source": [
        "## Distribution"
      ]
    },
    {
      "cell_type": "code",
      "execution_count": null,
      "metadata": {
        "colab": {
          "base_uri": "https://localhost:8080/"
        },
        "id": "gS4CIpJe__Rt",
        "outputId": "5247b82d-3eb2-4f61-e5ed-8bf22bf0fcac"
      },
      "outputs": [
        {
          "name": "stdout",
          "output_type": "stream",
          "text": [
            "Methylation        176\n",
            "DNA_methylation    166\n",
            "Glycosylation      141\n",
            "Acetylation        137\n",
            "Catalysis          131\n",
            "Ubiquitination      93\n",
            "Phosphorylation     67\n",
            "Hydroxylation       66\n",
            "Deacetylation       15\n",
            "Deglycosylation     10\n",
            "Name: event_type, dtype: int64\n"
          ]
        }
      ],
      "source": [
        "print(df['event_type'].value_counts())"
      ]
    },
    {
      "cell_type": "code",
      "execution_count": null,
      "metadata": {
        "colab": {
          "base_uri": "https://localhost:8080/",
          "height": 677
        },
        "id": "yP_Jq1x4tXiM",
        "outputId": "067987c9-d4d9-45e3-9af9-674aed590995"
      },
      "outputs": [
        {
          "data": {
            "text/plain": [
              "<matplotlib.axes._subplots.AxesSubplot at 0x7f137aeb0250>"
            ]
          },
          "execution_count": 32,
          "metadata": {},
          "output_type": "execute_result"
        },
        {
          "data": {
            "image/png": "[encoded data removed]",
            "text/plain": [
              "<Figure size 432x288 with 1 Axes>"
            ]
          },
          "metadata": {},
          "output_type": "display_data"
        }
      ],
      "source": [
        "df['event_type'].value_counts().plot.pie(autopct='%1.1f%%',radius=3.3)"
      ]
    },
    {
      "cell_type": "code",
      "execution_count": null,
      "metadata": {
        "colab": {
          "base_uri": "https://localhost:8080/"
        },
        "id": "S3DhIT-1AuKp",
        "outputId": "5698bcd8-80a0-4b49-e887-3e94ae2083c8"
      },
      "outputs": [
        {
          "name": "stdout",
          "output_type": "stream",
          "text": [
            "2    443\n",
            "3    347\n",
            "4    149\n",
            "5     50\n",
            "6     13\n",
            "Name: range_len, dtype: int64\n"
          ]
        }
      ],
      "source": [
        "print(df['range_len'].value_counts())"
      ]
    }
  ],
  "metadata": {
    "colab": {
      "collapsed_sections": [
        "T35uPjUrMS6L",
        "yE-UnDCFX3Ga"
      ],
      "name": "statistics_epi.ipynb",
      "provenance": []
    },
    "kernelspec": {
      "display_name": "Python 3",
      "language": "python",
      "name": "python3"
    },
    "language_info": {
      "codemirror_mode": {
        "name": "ipython",
        "version": 3
      },
      "file_extension": ".py",
      "mimetype": "text/x-python",
      "name": "python",
      "nbconvert_exporter": "python",
      "pygments_lexer": "ipython3",
      "version": "3.8.8"
    }
  },
  "nbformat": 4,
  "nbformat_minor": 0
}