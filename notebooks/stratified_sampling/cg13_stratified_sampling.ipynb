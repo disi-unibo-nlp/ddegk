{
  "nbformat": 4,
  "nbformat_minor": 0,
  "metadata": {
    "colab": {
      "name": "cg_stratified_sampling.ipynb",
      "provenance": []
    },
    "kernelspec": {
      "name": "python3",
      "display_name": "Python 3"
    },
    "language_info": {
      "name": "python"
    }
  },
  "cells": [
    {
      "cell_type": "markdown",
      "metadata": {
        "id": "pXLwNVjaXcOQ"
      },
      "source": [
        "## R magic"
      ]
    },
    {
      "cell_type": "code",
      "metadata": {
        "id": "ZFvHUORmKHvN",
        "colab": {
          "base_uri": "https://localhost:8080/"
        },
        "outputId": "850f2291-d452-4999-cf16-f6c0916dc7ee"
      },
      "source": [
        "%load_ext rpy2.ipython"
      ],
      "execution_count": null,
      "outputs": [
        {
          "output_type": "stream",
          "name": "stdout",
          "text": [
            "The rpy2.ipython extension is already loaded. To reload it, use:\n",
            "  %reload_ext rpy2.ipython\n"
          ]
        }
      ]
    },
    {
      "cell_type": "markdown",
      "metadata": {
        "id": "snzQnWMpmpx0"
      },
      "source": [
        "## Imports"
      ]
    },
    {
      "cell_type": "code",
      "metadata": {
        "id": "m1J4ifOJmpVg"
      },
      "source": [
        "import json\n",
        "import pandas as pd\n",
        "import numpy as np\n",
        "import random\n",
        "from itertools import product\n",
        "import sklearn\n",
        "import math\n",
        "import re\n",
        "import rpy2\n",
        "import rpy2.robjects as robjects\n",
        "from rpy2.robjects.packages import importr\n",
        "from rpy2.robjects import numpy2ri\n",
        "from rpy2.robjects import pandas2ri"
      ],
      "execution_count": null,
      "outputs": []
    },
    {
      "cell_type": "markdown",
      "metadata": {
        "id": "Fff_nsbQmw4r"
      },
      "source": [
        "## Loading events from 9 EE datasets"
      ]
    },
    {
      "cell_type": "code",
      "metadata": {
        "id": "7b3dvkBAHn_2"
      },
      "source": [
        "file_names = ['cg_train_graphs.json']"
      ],
      "execution_count": null,
      "outputs": []
    },
    {
      "cell_type": "code",
      "metadata": {
        "id": "UFRDZJfsIItM"
      },
      "source": [
        "graphs = []"
      ],
      "execution_count": null,
      "outputs": []
    },
    {
      "cell_type": "code",
      "metadata": {
        "id": "kIb1uCPfIKzx"
      },
      "source": [
        "DIR = \"datasets_json/\"\n",
        "for fn in file_names:\n",
        "  with open(DIR + fn) as ff:\n",
        "    temp = [g for g in json.load(ff)]\n",
        "    graphs.extend(temp)"
      ],
      "execution_count": null,
      "outputs": []
    },
    {
      "cell_type": "markdown",
      "metadata": {
        "id": "nIIx3nq8KfI2"
      },
      "source": [
        "## DataFrame construction and preview"
      ]
    },
    {
      "cell_type": "markdown",
      "metadata": {
        "id": "Fan8mA-0yZPy"
      },
      "source": [
        "Number of events for each dataset:\n",
        "*   **cg** 4285"
      ]
    },
    {
      "cell_type": "code",
      "metadata": {
        "id": "tAk9xbzvnSgl"
      },
      "source": [
        "df = pd.DataFrame(graphs)"
      ],
      "execution_count": null,
      "outputs": []
    },
    {
      "cell_type": "markdown",
      "metadata": {
        "id": "dIVJhLskMQfn"
      },
      "source": [
        "## Event type retrieval"
      ]
    },
    {
      "cell_type": "markdown",
      "metadata": {
        "id": "nBAnY1GxzlzE"
      },
      "source": [
        "Note: in the case of nested events, we consider the trigger type of the main event (DAG root)"
      ]
    },
    {
      "cell_type": "code",
      "metadata": {
        "id": "0FOTYwSVQa0D"
      },
      "source": [
        "# Obtain the root node of each graph\n",
        "roots = [g[1]['root'] for g in df['graph'].items()]"
      ],
      "execution_count": null,
      "outputs": []
    },
    {
      "cell_type": "code",
      "metadata": {
        "id": "_koKhLtnRaw-"
      },
      "source": [
        "# Obtain a list with the information of each node in each graph\n",
        "nodes_list = [n[1] for n in df['nodes'].items()]"
      ],
      "execution_count": null,
      "outputs": []
    },
    {
      "cell_type": "code",
      "metadata": {
        "id": "URdo0S3sYur8"
      },
      "source": [
        "# For each event graph, we take the type information from the trigger node (id matching)\n",
        "event_type = [n['type'] for i in range(len(graphs)) for n in nodes_list[i] if n['id'] == roots[i]] "
      ],
      "execution_count": null,
      "outputs": []
    },
    {
      "cell_type": "code",
      "metadata": {
        "id": "cYK8UBZPa-uW"
      },
      "source": [
        "df['event_type'] = event_type"
      ],
      "execution_count": null,
      "outputs": []
    },
    {
      "cell_type": "markdown",
      "metadata": {
        "id": "T35uPjUrMS6L"
      },
      "source": [
        "##Node distribution"
      ]
    },
    {
      "cell_type": "markdown",
      "metadata": {
        "id": "UyPgAt5R1BwY"
      },
      "source": [
        "Number of event graph instances for each graph size class (i.e., number of nodes)."
      ]
    },
    {
      "cell_type": "code",
      "metadata": {
        "id": "DUD82rtIbYLV"
      },
      "source": [
        "lenghts = [len(nodes_list[i]) for i in range(len(df))]"
      ],
      "execution_count": null,
      "outputs": []
    },
    {
      "cell_type": "code",
      "metadata": {
        "id": "r4Zd0rFlbxZx"
      },
      "source": [
        "df['len'] = lenghts"
      ],
      "execution_count": null,
      "outputs": []
    },
    {
      "cell_type": "code",
      "metadata": {
        "colab": {
          "base_uri": "https://localhost:8080/"
        },
        "id": "vJctT6tYDw4M",
        "outputId": "69d77c7e-9912-43a7-bed1-06b735b62cbd"
      },
      "source": [
        "df['len'].value_counts()"
      ],
      "execution_count": null,
      "outputs": [
        {
          "output_type": "execute_result",
          "data": {
            "text/plain": [
              "2     1657\n",
              "3     1048\n",
              "4      736\n",
              "5      410\n",
              "6      210\n",
              "7      100\n",
              "8       59\n",
              "9       37\n",
              "10      13\n",
              "11       9\n",
              "13       4\n",
              "15       1\n",
              "12       1\n",
              "Name: len, dtype: int64"
            ]
          },
          "metadata": {},
          "execution_count": 105
        }
      ]
    },
    {
      "cell_type": "markdown",
      "metadata": {
        "id": "yE-UnDCFX3Ga"
      },
      "source": [
        "### Introducing a range for event graph size"
      ]
    },
    {
      "cell_type": "markdown",
      "metadata": {
        "id": "vLdAjGrCGEcz"
      },
      "source": [
        "Starting from the event graph distribution for each graph size, a reasonable splitting on #nodes is 2, 3, 4, 5, 6, > 7."
      ]
    },
    {
      "cell_type": "code",
      "metadata": {
        "id": "Uz_aRKqf-nqM"
      },
      "source": [
        "df['range_len'] = df['len'].copy()"
      ],
      "execution_count": null,
      "outputs": []
    },
    {
      "cell_type": "code",
      "metadata": {
        "colab": {
          "base_uri": "https://localhost:8080/"
        },
        "id": "q3h0qvyo-xOu",
        "outputId": "d45e9c00-6cce-491d-82b4-2f7b6443d9cf"
      },
      "source": [
        "df['range_len'][df['len'] >= 7] = 7"
      ],
      "execution_count": null,
      "outputs": [
        {
          "output_type": "stream",
          "name": "stderr",
          "text": [
            "/usr/local/lib/python3.7/dist-packages/ipykernel_launcher.py:1: SettingWithCopyWarning: \n",
            "A value is trying to be set on a copy of a slice from a DataFrame\n",
            "\n",
            "See the caveats in the documentation: https://pandas.pydata.org/pandas-docs/stable/user_guide/indexing.html#returning-a-view-versus-a-copy\n",
            "  \"\"\"Entry point for launching an IPython kernel.\n"
          ]
        }
      ]
    },
    {
      "cell_type": "code",
      "metadata": {
        "id": "MxVDHtuuAJKj"
      },
      "source": [
        "df['range_len'] = [str(n) for n in df['range_len']]"
      ],
      "execution_count": null,
      "outputs": []
    },
    {
      "cell_type": "code",
      "metadata": {
        "colab": {
          "base_uri": "https://localhost:8080/"
        },
        "id": "HMpXR4pVG0Rk",
        "outputId": "069a4555-11b3-434b-d87b-edf8ecaa9621"
      },
      "source": [
        "df['range_len'].value_counts()"
      ],
      "execution_count": null,
      "outputs": [
        {
          "output_type": "execute_result",
          "data": {
            "text/plain": [
              "2    1657\n",
              "3    1048\n",
              "4     736\n",
              "5     410\n",
              "7     224\n",
              "6     210\n",
              "Name: range_len, dtype: int64"
            ]
          },
          "metadata": {},
          "execution_count": 109
        }
      ]
    },
    {
      "cell_type": "markdown",
      "metadata": {
        "id": "npb4xdxVC1MY"
      },
      "source": [
        "###Instance-based event type filtering"
      ]
    },
    {
      "cell_type": "markdown",
      "metadata": {
        "id": "Vh3wu33RKBQJ"
      },
      "source": [
        "## Stratified sampling with R"
      ]
    },
    {
      "cell_type": "markdown",
      "metadata": {
        "id": "syDEbdczepkp"
      },
      "source": [
        "We remove unnecessary columns to speed-up the following operations."
      ]
    },
    {
      "cell_type": "code",
      "metadata": {
        "id": "WVRZH-RCa8BW"
      },
      "source": [
        "data = df.copy()"
      ],
      "execution_count": null,
      "outputs": []
    },
    {
      "cell_type": "code",
      "metadata": {
        "id": "NV_JbBJwa-TP"
      },
      "source": [
        "data.drop(columns=['graph', 'nodes', 'len', 'links'], inplace=True)"
      ],
      "execution_count": null,
      "outputs": []
    },
    {
      "cell_type": "code",
      "metadata": {
        "colab": {
          "base_uri": "https://localhost:8080/",
          "height": 205
        },
        "id": "hfHIhlqK7CZ-",
        "outputId": "b9069029-c68c-4405-fab9-b8f031eca218"
      },
      "source": [
        "data.head()"
      ],
      "execution_count": null,
      "outputs": [
        {
          "output_type": "execute_result",
          "data": {
            "text/html": [
              "<div>\n",
              "<style scoped>\n",
              "    .dataframe tbody tr th:only-of-type {\n",
              "        vertical-align: middle;\n",
              "    }\n",
              "\n",
              "    .dataframe tbody tr th {\n",
              "        vertical-align: top;\n",
              "    }\n",
              "\n",
              "    .dataframe thead th {\n",
              "        text-align: right;\n",
              "    }\n",
              "</style>\n",
              "<table border=\"1\" class=\"dataframe\">\n",
              "  <thead>\n",
              "    <tr style=\"text-align: right;\">\n",
              "      <th></th>\n",
              "      <th>directed</th>\n",
              "      <th>multigraph</th>\n",
              "      <th>event_type</th>\n",
              "      <th>range_len</th>\n",
              "    </tr>\n",
              "  </thead>\n",
              "  <tbody>\n",
              "    <tr>\n",
              "      <th>0</th>\n",
              "      <td>True</td>\n",
              "      <td>False</td>\n",
              "      <td>Positive_regulation</td>\n",
              "      <td>5</td>\n",
              "    </tr>\n",
              "    <tr>\n",
              "      <th>1</th>\n",
              "      <td>True</td>\n",
              "      <td>False</td>\n",
              "      <td>Positive_regulation</td>\n",
              "      <td>4</td>\n",
              "    </tr>\n",
              "    <tr>\n",
              "      <th>2</th>\n",
              "      <td>True</td>\n",
              "      <td>False</td>\n",
              "      <td>Positive_regulation</td>\n",
              "      <td>3</td>\n",
              "    </tr>\n",
              "    <tr>\n",
              "      <th>3</th>\n",
              "      <td>True</td>\n",
              "      <td>False</td>\n",
              "      <td>Development</td>\n",
              "      <td>2</td>\n",
              "    </tr>\n",
              "    <tr>\n",
              "      <th>4</th>\n",
              "      <td>True</td>\n",
              "      <td>False</td>\n",
              "      <td>Positive_regulation</td>\n",
              "      <td>2</td>\n",
              "    </tr>\n",
              "  </tbody>\n",
              "</table>\n",
              "</div>"
            ],
            "text/plain": [
              "   directed  multigraph           event_type range_len\n",
              "0      True       False  Positive_regulation         5\n",
              "1      True       False  Positive_regulation         4\n",
              "2      True       False  Positive_regulation         3\n",
              "3      True       False          Development         2\n",
              "4      True       False  Positive_regulation         2"
            ]
          },
          "metadata": {},
          "execution_count": 112
        }
      ]
    },
    {
      "cell_type": "code",
      "metadata": {
        "colab": {
          "base_uri": "https://localhost:8080/",
          "height": 453
        },
        "id": "fS7SobG_8cmq",
        "outputId": "2272c88b-81de-40b9-92a8-531426fc6d25"
      },
      "source": [
        "grouped_events = data.groupby(['event_type', 'range_len']).count()\n",
        "grouped_events"
      ],
      "execution_count": null,
      "outputs": [
        {
          "output_type": "execute_result",
          "data": {
            "text/html": [
              "<div>\n",
              "<style scoped>\n",
              "    .dataframe tbody tr th:only-of-type {\n",
              "        vertical-align: middle;\n",
              "    }\n",
              "\n",
              "    .dataframe tbody tr th {\n",
              "        vertical-align: top;\n",
              "    }\n",
              "\n",
              "    .dataframe thead th {\n",
              "        text-align: right;\n",
              "    }\n",
              "</style>\n",
              "<table border=\"1\" class=\"dataframe\">\n",
              "  <thead>\n",
              "    <tr style=\"text-align: right;\">\n",
              "      <th></th>\n",
              "      <th></th>\n",
              "      <th>directed</th>\n",
              "      <th>multigraph</th>\n",
              "    </tr>\n",
              "    <tr>\n",
              "      <th>event_type</th>\n",
              "      <th>range_len</th>\n",
              "      <th></th>\n",
              "      <th></th>\n",
              "    </tr>\n",
              "  </thead>\n",
              "  <tbody>\n",
              "    <tr>\n",
              "      <th>Acetylation</th>\n",
              "      <th>2</th>\n",
              "      <td>2</td>\n",
              "      <td>2</td>\n",
              "    </tr>\n",
              "    <tr>\n",
              "      <th rowspan=\"4\" valign=\"top\">Binding</th>\n",
              "      <th>2</th>\n",
              "      <td>26</td>\n",
              "      <td>26</td>\n",
              "    </tr>\n",
              "    <tr>\n",
              "      <th>3</th>\n",
              "      <td>37</td>\n",
              "      <td>37</td>\n",
              "    </tr>\n",
              "    <tr>\n",
              "      <th>4</th>\n",
              "      <td>18</td>\n",
              "      <td>18</td>\n",
              "    </tr>\n",
              "    <tr>\n",
              "      <th>5</th>\n",
              "      <td>3</td>\n",
              "      <td>3</td>\n",
              "    </tr>\n",
              "    <tr>\n",
              "      <th>...</th>\n",
              "      <th>...</th>\n",
              "      <td>...</td>\n",
              "      <td>...</td>\n",
              "    </tr>\n",
              "    <tr>\n",
              "      <th rowspan=\"2\" valign=\"top\">Synthesis</th>\n",
              "      <th>2</th>\n",
              "      <td>14</td>\n",
              "      <td>14</td>\n",
              "    </tr>\n",
              "    <tr>\n",
              "      <th>3</th>\n",
              "      <td>2</td>\n",
              "      <td>2</td>\n",
              "    </tr>\n",
              "    <tr>\n",
              "      <th rowspan=\"2\" valign=\"top\">Transcription</th>\n",
              "      <th>2</th>\n",
              "      <td>27</td>\n",
              "      <td>27</td>\n",
              "    </tr>\n",
              "    <tr>\n",
              "      <th>3</th>\n",
              "      <td>4</td>\n",
              "      <td>4</td>\n",
              "    </tr>\n",
              "    <tr>\n",
              "      <th>Translation</th>\n",
              "      <th>2</th>\n",
              "      <td>5</td>\n",
              "      <td>5</td>\n",
              "    </tr>\n",
              "  </tbody>\n",
              "</table>\n",
              "<p>100 rows × 2 columns</p>\n",
              "</div>"
            ],
            "text/plain": [
              "                         directed  multigraph\n",
              "event_type    range_len                      \n",
              "Acetylation   2                 2           2\n",
              "Binding       2                26          26\n",
              "              3                37          37\n",
              "              4                18          18\n",
              "              5                 3           3\n",
              "...                           ...         ...\n",
              "Synthesis     2                14          14\n",
              "              3                 2           2\n",
              "Transcription 2                27          27\n",
              "              3                 4           4\n",
              "Translation   2                 5           5\n",
              "\n",
              "[100 rows x 2 columns]"
            ]
          },
          "metadata": {},
          "execution_count": 113
        }
      ]
    },
    {
      "cell_type": "markdown",
      "metadata": {
        "id": "08pO-xZI88B5"
      },
      "source": [
        "keep only event graphs whitin a class (i.e. event type, graph size) having at least 10 instances"
      ]
    },
    {
      "cell_type": "code",
      "metadata": {
        "id": "yRrA8v3yM7_a"
      },
      "source": [
        "data = data.groupby(['event_type', 'range_len']).filter(lambda x : len(x) >= 10)"
      ],
      "execution_count": null,
      "outputs": []
    },
    {
      "cell_type": "markdown",
      "metadata": {
        "id": "V67nAysCgEou"
      },
      "source": [
        "We install and load the \"stratify\" package."
      ]
    },
    {
      "cell_type": "code",
      "metadata": {
        "id": "EjGE6VUeOo_1",
        "colab": {
          "base_uri": "https://localhost:8080/"
        },
        "outputId": "2a2bf7c8-7333-4df0-bec0-aff9876792ee"
      },
      "source": [
        "%%R\n",
        "install.packages(\"splitstackshape\")"
      ],
      "execution_count": null,
      "outputs": [
        {
          "output_type": "stream",
          "name": "stderr",
          "text": [
            "R[write to console]: Installing package into ‘/usr/local/lib/R/site-library’\n",
            "(as ‘lib’ is unspecified)\n",
            "\n",
            "R[write to console]: trying URL 'https://cran.rstudio.com/src/contrib/splitstackshape_1.4.8.tar.gz'\n",
            "\n",
            "R[write to console]: Content type 'application/x-gzip'\n",
            "R[write to console]:  length 33972 bytes (33 KB)\n",
            "\n",
            "R[write to console]: =\n",
            "R[write to console]: =\n",
            "R[write to console]: =\n",
            "R[write to console]: =\n",
            "R[write to console]: =\n",
            "R[write to console]: =\n",
            "R[write to console]: =\n",
            "R[write to console]: =\n",
            "R[write to console]: =\n",
            "R[write to console]: =\n",
            "R[write to console]: =\n",
            "R[write to console]: =\n",
            "R[write to console]: =\n",
            "R[write to console]: =\n",
            "R[write to console]: =\n",
            "R[write to console]: =\n",
            "R[write to console]: =\n",
            "R[write to console]: =\n",
            "R[write to console]: =\n",
            "R[write to console]: =\n",
            "R[write to console]: =\n",
            "R[write to console]: =\n",
            "R[write to console]: =\n",
            "R[write to console]: =\n",
            "R[write to console]: =\n",
            "R[write to console]: =\n",
            "R[write to console]: =\n",
            "R[write to console]: =\n",
            "R[write to console]: =\n",
            "R[write to console]: =\n",
            "R[write to console]: =\n",
            "R[write to console]: =\n",
            "R[write to console]: =\n",
            "R[write to console]: =\n",
            "R[write to console]: =\n",
            "R[write to console]: =\n",
            "R[write to console]: =\n",
            "R[write to console]: =\n",
            "R[write to console]: =\n",
            "R[write to console]: =\n",
            "R[write to console]: =\n",
            "R[write to console]: =\n",
            "R[write to console]: =\n",
            "R[write to console]: =\n",
            "R[write to console]: =\n",
            "R[write to console]: =\n",
            "R[write to console]: =\n",
            "R[write to console]: =\n",
            "R[write to console]: =\n",
            "R[write to console]: =\n",
            "R[write to console]: \n",
            "\n",
            "R[write to console]: downloaded 33 KB\n",
            "\n",
            "\n",
            "R[write to console]: \n",
            "\n",
            "R[write to console]: \n",
            "R[write to console]: The downloaded source packages are in\n",
            "\t‘/tmp/RtmptTkNtD/downloaded_packages’\n",
            "R[write to console]: \n",
            "R[write to console]: \n",
            "\n"
          ]
        }
      ]
    },
    {
      "cell_type": "code",
      "metadata": {
        "id": "m84Orta9gVsu"
      },
      "source": [
        "%%R\n",
        "library(splitstackshape)"
      ],
      "execution_count": null,
      "outputs": []
    },
    {
      "cell_type": "code",
      "metadata": {
        "colab": {
          "base_uri": "https://localhost:8080/"
        },
        "id": "rGwOArsRlkdy",
        "outputId": "e92659f0-59cd-4695-f785-4fedf1b8ad97"
      },
      "source": [
        "# - Grouping on dataset name, event type, and graph size range\n",
        "# - Number of samples from each group = 20\n",
        "%%R -i data\n",
        "samples <- stratified(data, c('event_type', 'range_len'), 22, replace=FALSE, keep.rownames=TRUE)\n",
        "print(nrow(samples))"
      ],
      "execution_count": null,
      "outputs": [
        {
          "output_type": "stream",
          "name": "stderr",
          "text": [
            "R[write to console]: Groups Localization 4, Metabolism 2, Synthesis 2, Metastasis 3, Gene_expression 4, Mutation 4, Pathway 3, Remodeling 2, Binding 4 contain fewer rows than requested. Returning all rows.\n",
            "\n"
          ]
        },
        {
          "output_type": "stream",
          "name": "stdout",
          "text": [
            "[1] 1033\n"
          ]
        }
      ]
    },
    {
      "cell_type": "code",
      "metadata": {
        "id": "WapvtoVUZ8hu"
      },
      "source": [
        "s = %R samples"
      ],
      "execution_count": null,
      "outputs": []
    },
    {
      "cell_type": "markdown",
      "metadata": {
        "id": "ZI3QgWfUdREd"
      },
      "source": [
        "## Sampling post-processing and visualizations"
      ]
    },
    {
      "cell_type": "code",
      "metadata": {
        "colab": {
          "base_uri": "https://localhost:8080/"
        },
        "id": "cu3CVqp7-B42",
        "outputId": "92c503eb-80c1-43e7-ee22-44926341d91d"
      },
      "source": [
        "print(s)\n",
        "# Note: 'rn' is the event graph id (i.e., row number on the dataset before sampling)"
      ],
      "execution_count": null,
      "outputs": [
        {
          "output_type": "stream",
          "name": "stdout",
          "text": [
            "        rn  directed  multigraph           event_type range_len\n",
            "1      140         1           0  Positive_regulation         5\n",
            "2     3487         1           0  Positive_regulation         5\n",
            "3      923         1           0  Positive_regulation         5\n",
            "4      749         1           0  Positive_regulation         5\n",
            "5     1757         1           0  Positive_regulation         5\n",
            "...    ...       ...         ...                  ...       ...\n",
            "1029   819         1           0              Binding         4\n",
            "1030  3693         1           0              Binding         4\n",
            "1031  3211         1           0              Binding         4\n",
            "1032  1490         1           0              Binding         4\n",
            "1033  1045         1           0              Binding         4\n",
            "\n",
            "[1033 rows x 5 columns]\n"
          ]
        }
      ]
    },
    {
      "cell_type": "code",
      "metadata": {
        "id": "H8XkgW0GrHyz"
      },
      "source": [
        "s['rn'] = [int(n) for n in s['rn']]"
      ],
      "execution_count": null,
      "outputs": []
    },
    {
      "cell_type": "code",
      "metadata": {
        "id": "TrS291Tyqc9b"
      },
      "source": [
        "final = df.loc[list(s['rn']), :]"
      ],
      "execution_count": null,
      "outputs": []
    },
    {
      "cell_type": "code",
      "metadata": {
        "colab": {
          "base_uri": "https://localhost:8080/"
        },
        "id": "r6k-MV_6946q",
        "outputId": "12cdd165-6a8e-453c-bdf2-e5366ad52026"
      },
      "source": [
        "final['event_type'].value_counts()"
      ],
      "execution_count": null,
      "outputs": [
        {
          "output_type": "execute_result",
          "data": {
            "text/plain": [
              "Positive_regulation         132\n",
              "Negative_regulation         132\n",
              "Regulation                  132\n",
              "Planned_process              66\n",
              "Localization                 62\n",
              "Binding                      62\n",
              "Mutation                     60\n",
              "Gene_expression              54\n",
              "Metastasis                   39\n",
              "Pathway                      32\n",
              "Carcinogenesis               22\n",
              "Development                  22\n",
              "Cell_proliferation           22\n",
              "Breakdown                    22\n",
              "Cell_differentiation         22\n",
              "Blood_vessel_development     22\n",
              "Death                        22\n",
              "Growth                       22\n",
              "Cell_transformation          22\n",
              "Transcription                22\n",
              "Metabolism                   16\n",
              "Synthesis                    14\n",
              "Remodeling                   12\n",
              "Name: event_type, dtype: int64"
            ]
          },
          "metadata": {},
          "execution_count": 122
        }
      ]
    },
    {
      "cell_type": "code",
      "metadata": {
        "colab": {
          "base_uri": "https://localhost:8080/",
          "height": 1000
        },
        "id": "POBejy71_n4e",
        "outputId": "8c64c6ae-d693-4d71-b9dd-5bc20b164d6c"
      },
      "source": [
        "grouped_events = final.groupby(['event_type', 'range_len']).count()\n",
        "grouped_events"
      ],
      "execution_count": null,
      "outputs": [
        {
          "output_type": "execute_result",
          "data": {
            "text/html": [
              "<div>\n",
              "<style scoped>\n",
              "    .dataframe tbody tr th:only-of-type {\n",
              "        vertical-align: middle;\n",
              "    }\n",
              "\n",
              "    .dataframe tbody tr th {\n",
              "        vertical-align: top;\n",
              "    }\n",
              "\n",
              "    .dataframe thead th {\n",
              "        text-align: right;\n",
              "    }\n",
              "</style>\n",
              "<table border=\"1\" class=\"dataframe\">\n",
              "  <thead>\n",
              "    <tr style=\"text-align: right;\">\n",
              "      <th></th>\n",
              "      <th></th>\n",
              "      <th>directed</th>\n",
              "      <th>multigraph</th>\n",
              "      <th>graph</th>\n",
              "      <th>nodes</th>\n",
              "      <th>links</th>\n",
              "      <th>len</th>\n",
              "    </tr>\n",
              "    <tr>\n",
              "      <th>event_type</th>\n",
              "      <th>range_len</th>\n",
              "      <th></th>\n",
              "      <th></th>\n",
              "      <th></th>\n",
              "      <th></th>\n",
              "      <th></th>\n",
              "      <th></th>\n",
              "    </tr>\n",
              "  </thead>\n",
              "  <tbody>\n",
              "    <tr>\n",
              "      <th rowspan=\"3\" valign=\"top\">Binding</th>\n",
              "      <th>2</th>\n",
              "      <td>22</td>\n",
              "      <td>22</td>\n",
              "      <td>22</td>\n",
              "      <td>22</td>\n",
              "      <td>22</td>\n",
              "      <td>22</td>\n",
              "    </tr>\n",
              "    <tr>\n",
              "      <th>3</th>\n",
              "      <td>22</td>\n",
              "      <td>22</td>\n",
              "      <td>22</td>\n",
              "      <td>22</td>\n",
              "      <td>22</td>\n",
              "      <td>22</td>\n",
              "    </tr>\n",
              "    <tr>\n",
              "      <th>4</th>\n",
              "      <td>18</td>\n",
              "      <td>18</td>\n",
              "      <td>18</td>\n",
              "      <td>18</td>\n",
              "      <td>18</td>\n",
              "      <td>18</td>\n",
              "    </tr>\n",
              "    <tr>\n",
              "      <th>Blood_vessel_development</th>\n",
              "      <th>2</th>\n",
              "      <td>22</td>\n",
              "      <td>22</td>\n",
              "      <td>22</td>\n",
              "      <td>22</td>\n",
              "      <td>22</td>\n",
              "      <td>22</td>\n",
              "    </tr>\n",
              "    <tr>\n",
              "      <th>Breakdown</th>\n",
              "      <th>2</th>\n",
              "      <td>22</td>\n",
              "      <td>22</td>\n",
              "      <td>22</td>\n",
              "      <td>22</td>\n",
              "      <td>22</td>\n",
              "      <td>22</td>\n",
              "    </tr>\n",
              "    <tr>\n",
              "      <th>Carcinogenesis</th>\n",
              "      <th>2</th>\n",
              "      <td>22</td>\n",
              "      <td>22</td>\n",
              "      <td>22</td>\n",
              "      <td>22</td>\n",
              "      <td>22</td>\n",
              "      <td>22</td>\n",
              "    </tr>\n",
              "    <tr>\n",
              "      <th>Cell_differentiation</th>\n",
              "      <th>2</th>\n",
              "      <td>22</td>\n",
              "      <td>22</td>\n",
              "      <td>22</td>\n",
              "      <td>22</td>\n",
              "      <td>22</td>\n",
              "      <td>22</td>\n",
              "    </tr>\n",
              "    <tr>\n",
              "      <th>Cell_proliferation</th>\n",
              "      <th>2</th>\n",
              "      <td>22</td>\n",
              "      <td>22</td>\n",
              "      <td>22</td>\n",
              "      <td>22</td>\n",
              "      <td>22</td>\n",
              "      <td>22</td>\n",
              "    </tr>\n",
              "    <tr>\n",
              "      <th>Cell_transformation</th>\n",
              "      <th>2</th>\n",
              "      <td>22</td>\n",
              "      <td>22</td>\n",
              "      <td>22</td>\n",
              "      <td>22</td>\n",
              "      <td>22</td>\n",
              "      <td>22</td>\n",
              "    </tr>\n",
              "    <tr>\n",
              "      <th>Death</th>\n",
              "      <th>2</th>\n",
              "      <td>22</td>\n",
              "      <td>22</td>\n",
              "      <td>22</td>\n",
              "      <td>22</td>\n",
              "      <td>22</td>\n",
              "      <td>22</td>\n",
              "    </tr>\n",
              "    <tr>\n",
              "      <th>Development</th>\n",
              "      <th>2</th>\n",
              "      <td>22</td>\n",
              "      <td>22</td>\n",
              "      <td>22</td>\n",
              "      <td>22</td>\n",
              "      <td>22</td>\n",
              "      <td>22</td>\n",
              "    </tr>\n",
              "    <tr>\n",
              "      <th rowspan=\"3\" valign=\"top\">Gene_expression</th>\n",
              "      <th>2</th>\n",
              "      <td>22</td>\n",
              "      <td>22</td>\n",
              "      <td>22</td>\n",
              "      <td>22</td>\n",
              "      <td>22</td>\n",
              "      <td>22</td>\n",
              "    </tr>\n",
              "    <tr>\n",
              "      <th>3</th>\n",
              "      <td>22</td>\n",
              "      <td>22</td>\n",
              "      <td>22</td>\n",
              "      <td>22</td>\n",
              "      <td>22</td>\n",
              "      <td>22</td>\n",
              "    </tr>\n",
              "    <tr>\n",
              "      <th>4</th>\n",
              "      <td>10</td>\n",
              "      <td>10</td>\n",
              "      <td>10</td>\n",
              "      <td>10</td>\n",
              "      <td>10</td>\n",
              "      <td>10</td>\n",
              "    </tr>\n",
              "    <tr>\n",
              "      <th>Growth</th>\n",
              "      <th>2</th>\n",
              "      <td>22</td>\n",
              "      <td>22</td>\n",
              "      <td>22</td>\n",
              "      <td>22</td>\n",
              "      <td>22</td>\n",
              "      <td>22</td>\n",
              "    </tr>\n",
              "    <tr>\n",
              "      <th rowspan=\"3\" valign=\"top\">Localization</th>\n",
              "      <th>2</th>\n",
              "      <td>22</td>\n",
              "      <td>22</td>\n",
              "      <td>22</td>\n",
              "      <td>22</td>\n",
              "      <td>22</td>\n",
              "      <td>22</td>\n",
              "    </tr>\n",
              "    <tr>\n",
              "      <th>3</th>\n",
              "      <td>22</td>\n",
              "      <td>22</td>\n",
              "      <td>22</td>\n",
              "      <td>22</td>\n",
              "      <td>22</td>\n",
              "      <td>22</td>\n",
              "    </tr>\n",
              "    <tr>\n",
              "      <th>4</th>\n",
              "      <td>18</td>\n",
              "      <td>18</td>\n",
              "      <td>18</td>\n",
              "      <td>18</td>\n",
              "      <td>18</td>\n",
              "      <td>18</td>\n",
              "    </tr>\n",
              "    <tr>\n",
              "      <th>Metabolism</th>\n",
              "      <th>2</th>\n",
              "      <td>16</td>\n",
              "      <td>16</td>\n",
              "      <td>16</td>\n",
              "      <td>16</td>\n",
              "      <td>16</td>\n",
              "      <td>16</td>\n",
              "    </tr>\n",
              "    <tr>\n",
              "      <th rowspan=\"2\" valign=\"top\">Metastasis</th>\n",
              "      <th>2</th>\n",
              "      <td>22</td>\n",
              "      <td>22</td>\n",
              "      <td>22</td>\n",
              "      <td>22</td>\n",
              "      <td>22</td>\n",
              "      <td>22</td>\n",
              "    </tr>\n",
              "    <tr>\n",
              "      <th>3</th>\n",
              "      <td>17</td>\n",
              "      <td>17</td>\n",
              "      <td>17</td>\n",
              "      <td>17</td>\n",
              "      <td>17</td>\n",
              "      <td>17</td>\n",
              "    </tr>\n",
              "    <tr>\n",
              "      <th rowspan=\"3\" valign=\"top\">Mutation</th>\n",
              "      <th>2</th>\n",
              "      <td>22</td>\n",
              "      <td>22</td>\n",
              "      <td>22</td>\n",
              "      <td>22</td>\n",
              "      <td>22</td>\n",
              "      <td>22</td>\n",
              "    </tr>\n",
              "    <tr>\n",
              "      <th>3</th>\n",
              "      <td>22</td>\n",
              "      <td>22</td>\n",
              "      <td>22</td>\n",
              "      <td>22</td>\n",
              "      <td>22</td>\n",
              "      <td>22</td>\n",
              "    </tr>\n",
              "    <tr>\n",
              "      <th>4</th>\n",
              "      <td>16</td>\n",
              "      <td>16</td>\n",
              "      <td>16</td>\n",
              "      <td>16</td>\n",
              "      <td>16</td>\n",
              "      <td>16</td>\n",
              "    </tr>\n",
              "    <tr>\n",
              "      <th rowspan=\"6\" valign=\"top\">Negative_regulation</th>\n",
              "      <th>2</th>\n",
              "      <td>22</td>\n",
              "      <td>22</td>\n",
              "      <td>22</td>\n",
              "      <td>22</td>\n",
              "      <td>22</td>\n",
              "      <td>22</td>\n",
              "    </tr>\n",
              "    <tr>\n",
              "      <th>3</th>\n",
              "      <td>22</td>\n",
              "      <td>22</td>\n",
              "      <td>22</td>\n",
              "      <td>22</td>\n",
              "      <td>22</td>\n",
              "      <td>22</td>\n",
              "    </tr>\n",
              "    <tr>\n",
              "      <th>4</th>\n",
              "      <td>22</td>\n",
              "      <td>22</td>\n",
              "      <td>22</td>\n",
              "      <td>22</td>\n",
              "      <td>22</td>\n",
              "      <td>22</td>\n",
              "    </tr>\n",
              "    <tr>\n",
              "      <th>5</th>\n",
              "      <td>22</td>\n",
              "      <td>22</td>\n",
              "      <td>22</td>\n",
              "      <td>22</td>\n",
              "      <td>22</td>\n",
              "      <td>22</td>\n",
              "    </tr>\n",
              "    <tr>\n",
              "      <th>6</th>\n",
              "      <td>22</td>\n",
              "      <td>22</td>\n",
              "      <td>22</td>\n",
              "      <td>22</td>\n",
              "      <td>22</td>\n",
              "      <td>22</td>\n",
              "    </tr>\n",
              "    <tr>\n",
              "      <th>7</th>\n",
              "      <td>22</td>\n",
              "      <td>22</td>\n",
              "      <td>22</td>\n",
              "      <td>22</td>\n",
              "      <td>22</td>\n",
              "      <td>22</td>\n",
              "    </tr>\n",
              "    <tr>\n",
              "      <th rowspan=\"2\" valign=\"top\">Pathway</th>\n",
              "      <th>2</th>\n",
              "      <td>22</td>\n",
              "      <td>22</td>\n",
              "      <td>22</td>\n",
              "      <td>22</td>\n",
              "      <td>22</td>\n",
              "      <td>22</td>\n",
              "    </tr>\n",
              "    <tr>\n",
              "      <th>3</th>\n",
              "      <td>10</td>\n",
              "      <td>10</td>\n",
              "      <td>10</td>\n",
              "      <td>10</td>\n",
              "      <td>10</td>\n",
              "      <td>10</td>\n",
              "    </tr>\n",
              "    <tr>\n",
              "      <th rowspan=\"3\" valign=\"top\">Planned_process</th>\n",
              "      <th>2</th>\n",
              "      <td>22</td>\n",
              "      <td>22</td>\n",
              "      <td>22</td>\n",
              "      <td>22</td>\n",
              "      <td>22</td>\n",
              "      <td>22</td>\n",
              "    </tr>\n",
              "    <tr>\n",
              "      <th>3</th>\n",
              "      <td>22</td>\n",
              "      <td>22</td>\n",
              "      <td>22</td>\n",
              "      <td>22</td>\n",
              "      <td>22</td>\n",
              "      <td>22</td>\n",
              "    </tr>\n",
              "    <tr>\n",
              "      <th>4</th>\n",
              "      <td>22</td>\n",
              "      <td>22</td>\n",
              "      <td>22</td>\n",
              "      <td>22</td>\n",
              "      <td>22</td>\n",
              "      <td>22</td>\n",
              "    </tr>\n",
              "    <tr>\n",
              "      <th rowspan=\"6\" valign=\"top\">Positive_regulation</th>\n",
              "      <th>2</th>\n",
              "      <td>22</td>\n",
              "      <td>22</td>\n",
              "      <td>22</td>\n",
              "      <td>22</td>\n",
              "      <td>22</td>\n",
              "      <td>22</td>\n",
              "    </tr>\n",
              "    <tr>\n",
              "      <th>3</th>\n",
              "      <td>22</td>\n",
              "      <td>22</td>\n",
              "      <td>22</td>\n",
              "      <td>22</td>\n",
              "      <td>22</td>\n",
              "      <td>22</td>\n",
              "    </tr>\n",
              "    <tr>\n",
              "      <th>4</th>\n",
              "      <td>22</td>\n",
              "      <td>22</td>\n",
              "      <td>22</td>\n",
              "      <td>22</td>\n",
              "      <td>22</td>\n",
              "      <td>22</td>\n",
              "    </tr>\n",
              "    <tr>\n",
              "      <th>5</th>\n",
              "      <td>22</td>\n",
              "      <td>22</td>\n",
              "      <td>22</td>\n",
              "      <td>22</td>\n",
              "      <td>22</td>\n",
              "      <td>22</td>\n",
              "    </tr>\n",
              "    <tr>\n",
              "      <th>6</th>\n",
              "      <td>22</td>\n",
              "      <td>22</td>\n",
              "      <td>22</td>\n",
              "      <td>22</td>\n",
              "      <td>22</td>\n",
              "      <td>22</td>\n",
              "    </tr>\n",
              "    <tr>\n",
              "      <th>7</th>\n",
              "      <td>22</td>\n",
              "      <td>22</td>\n",
              "      <td>22</td>\n",
              "      <td>22</td>\n",
              "      <td>22</td>\n",
              "      <td>22</td>\n",
              "    </tr>\n",
              "    <tr>\n",
              "      <th rowspan=\"6\" valign=\"top\">Regulation</th>\n",
              "      <th>2</th>\n",
              "      <td>22</td>\n",
              "      <td>22</td>\n",
              "      <td>22</td>\n",
              "      <td>22</td>\n",
              "      <td>22</td>\n",
              "      <td>22</td>\n",
              "    </tr>\n",
              "    <tr>\n",
              "      <th>3</th>\n",
              "      <td>22</td>\n",
              "      <td>22</td>\n",
              "      <td>22</td>\n",
              "      <td>22</td>\n",
              "      <td>22</td>\n",
              "      <td>22</td>\n",
              "    </tr>\n",
              "    <tr>\n",
              "      <th>4</th>\n",
              "      <td>22</td>\n",
              "      <td>22</td>\n",
              "      <td>22</td>\n",
              "      <td>22</td>\n",
              "      <td>22</td>\n",
              "      <td>22</td>\n",
              "    </tr>\n",
              "    <tr>\n",
              "      <th>5</th>\n",
              "      <td>22</td>\n",
              "      <td>22</td>\n",
              "      <td>22</td>\n",
              "      <td>22</td>\n",
              "      <td>22</td>\n",
              "      <td>22</td>\n",
              "    </tr>\n",
              "    <tr>\n",
              "      <th>6</th>\n",
              "      <td>22</td>\n",
              "      <td>22</td>\n",
              "      <td>22</td>\n",
              "      <td>22</td>\n",
              "      <td>22</td>\n",
              "      <td>22</td>\n",
              "    </tr>\n",
              "    <tr>\n",
              "      <th>7</th>\n",
              "      <td>22</td>\n",
              "      <td>22</td>\n",
              "      <td>22</td>\n",
              "      <td>22</td>\n",
              "      <td>22</td>\n",
              "      <td>22</td>\n",
              "    </tr>\n",
              "    <tr>\n",
              "      <th>Remodeling</th>\n",
              "      <th>2</th>\n",
              "      <td>12</td>\n",
              "      <td>12</td>\n",
              "      <td>12</td>\n",
              "      <td>12</td>\n",
              "      <td>12</td>\n",
              "      <td>12</td>\n",
              "    </tr>\n",
              "    <tr>\n",
              "      <th>Synthesis</th>\n",
              "      <th>2</th>\n",
              "      <td>14</td>\n",
              "      <td>14</td>\n",
              "      <td>14</td>\n",
              "      <td>14</td>\n",
              "      <td>14</td>\n",
              "      <td>14</td>\n",
              "    </tr>\n",
              "    <tr>\n",
              "      <th>Transcription</th>\n",
              "      <th>2</th>\n",
              "      <td>22</td>\n",
              "      <td>22</td>\n",
              "      <td>22</td>\n",
              "      <td>22</td>\n",
              "      <td>22</td>\n",
              "      <td>22</td>\n",
              "    </tr>\n",
              "  </tbody>\n",
              "</table>\n",
              "</div>"
            ],
            "text/plain": [
              "                                    directed  multigraph  ...  links  len\n",
              "event_type               range_len                        ...            \n",
              "Binding                  2                22          22  ...     22   22\n",
              "                         3                22          22  ...     22   22\n",
              "                         4                18          18  ...     18   18\n",
              "Blood_vessel_development 2                22          22  ...     22   22\n",
              "Breakdown                2                22          22  ...     22   22\n",
              "Carcinogenesis           2                22          22  ...     22   22\n",
              "Cell_differentiation     2                22          22  ...     22   22\n",
              "Cell_proliferation       2                22          22  ...     22   22\n",
              "Cell_transformation      2                22          22  ...     22   22\n",
              "Death                    2                22          22  ...     22   22\n",
              "Development              2                22          22  ...     22   22\n",
              "Gene_expression          2                22          22  ...     22   22\n",
              "                         3                22          22  ...     22   22\n",
              "                         4                10          10  ...     10   10\n",
              "Growth                   2                22          22  ...     22   22\n",
              "Localization             2                22          22  ...     22   22\n",
              "                         3                22          22  ...     22   22\n",
              "                         4                18          18  ...     18   18\n",
              "Metabolism               2                16          16  ...     16   16\n",
              "Metastasis               2                22          22  ...     22   22\n",
              "                         3                17          17  ...     17   17\n",
              "Mutation                 2                22          22  ...     22   22\n",
              "                         3                22          22  ...     22   22\n",
              "                         4                16          16  ...     16   16\n",
              "Negative_regulation      2                22          22  ...     22   22\n",
              "                         3                22          22  ...     22   22\n",
              "                         4                22          22  ...     22   22\n",
              "                         5                22          22  ...     22   22\n",
              "                         6                22          22  ...     22   22\n",
              "                         7                22          22  ...     22   22\n",
              "Pathway                  2                22          22  ...     22   22\n",
              "                         3                10          10  ...     10   10\n",
              "Planned_process          2                22          22  ...     22   22\n",
              "                         3                22          22  ...     22   22\n",
              "                         4                22          22  ...     22   22\n",
              "Positive_regulation      2                22          22  ...     22   22\n",
              "                         3                22          22  ...     22   22\n",
              "                         4                22          22  ...     22   22\n",
              "                         5                22          22  ...     22   22\n",
              "                         6                22          22  ...     22   22\n",
              "                         7                22          22  ...     22   22\n",
              "Regulation               2                22          22  ...     22   22\n",
              "                         3                22          22  ...     22   22\n",
              "                         4                22          22  ...     22   22\n",
              "                         5                22          22  ...     22   22\n",
              "                         6                22          22  ...     22   22\n",
              "                         7                22          22  ...     22   22\n",
              "Remodeling               2                12          12  ...     12   12\n",
              "Synthesis                2                14          14  ...     14   14\n",
              "Transcription            2                22          22  ...     22   22\n",
              "\n",
              "[50 rows x 6 columns]"
            ]
          },
          "metadata": {},
          "execution_count": 123
        }
      ]
    },
    {
      "cell_type": "code",
      "metadata": {
        "colab": {
          "base_uri": "https://localhost:8080/",
          "height": 669
        },
        "id": "yP_Jq1x4tXiM",
        "outputId": "10f1eed5-db61-4f90-dc43-977261290fc7"
      },
      "source": [
        "final['event_type'].value_counts().plot.pie(radius=3.3)"
      ],
      "execution_count": null,
      "outputs": [
        {
          "output_type": "execute_result",
          "data": {
            "text/plain": [
              "<matplotlib.axes._subplots.AxesSubplot at 0x7f5468810590>"
            ]
          },
          "metadata": {},
          "execution_count": 124
        },
        {
          "output_type": "display_data",
          "data": {
            "image/png": "[encoded data removed]",
            "text/plain": [
              "<Figure size 432x288 with 1 Axes>"
            ]
          },
          "metadata": {}
        }
      ]
    },
    {
      "cell_type": "markdown",
      "metadata": {
        "id": "-p-4Lhk-dUby"
      },
      "source": [
        "## Writing sampled event graphs on a file"
      ]
    },
    {
      "cell_type": "code",
      "metadata": {
        "id": "6CVj9fIefG5e"
      },
      "source": [
        "r = final.copy()\n",
        "r = r.drop(columns=['event_type', 'len', 'range_len'])\n",
        "r = r.to_dict(orient='records')\n",
        "with open(DIR + 'cg_stratified_sample.json', 'w') as outfile:\n",
        "    json.dump(r, outfile)"
      ],
      "execution_count": null,
      "outputs": []
    }
  ]
}