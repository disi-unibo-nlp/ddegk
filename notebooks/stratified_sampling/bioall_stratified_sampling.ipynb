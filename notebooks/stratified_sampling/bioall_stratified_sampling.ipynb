{
  "nbformat": 4,
  "nbformat_minor": 0,
  "metadata": {
    "colab": {
      "name": "bioall_stratified_sampling.ipynb",
      "provenance": []
    },
    "kernelspec": {
      "name": "python3",
      "display_name": "Python 3"
    },
    "language_info": {
      "name": "python"
    }
  },
  "cells": [
    {
      "cell_type": "markdown",
      "metadata": {
        "id": "pXLwNVjaXcOQ"
      },
      "source": [
        "## R magic"
      ]
    },
    {
      "cell_type": "code",
      "metadata": {
        "id": "ZFvHUORmKHvN"
      },
      "source": [
        "%load_ext rpy2.ipython"
      ],
      "execution_count": null,
      "outputs": []
    },
    {
      "cell_type": "markdown",
      "metadata": {
        "id": "snzQnWMpmpx0"
      },
      "source": [
        "## Imports"
      ]
    },
    {
      "cell_type": "code",
      "metadata": {
        "id": "m1J4ifOJmpVg"
      },
      "source": [
        "import json\n",
        "import pandas as pd\n",
        "import numpy as np\n",
        "import random\n",
        "from itertools import product\n",
        "import sklearn\n",
        "import math\n",
        "import re\n",
        "import rpy2\n",
        "import rpy2.robjects as robjects\n",
        "from rpy2.robjects.packages import importr\n",
        "from rpy2.robjects import numpy2ri\n",
        "from rpy2.robjects import pandas2ri"
      ],
      "execution_count": null,
      "outputs": []
    },
    {
      "cell_type": "markdown",
      "metadata": {
        "id": "Fff_nsbQmw4r"
      },
      "source": [
        "## Loading events from 9 EE datasets"
      ]
    },
    {
      "cell_type": "code",
      "metadata": {
        "id": "7b3dvkBAHn_2"
      },
      "source": [
        "file_names = ['cg_train_graphs.json', 'epi_train_graphs.json', 'ge11_graphs.json', 'ge13_graphs.json', 'gro13_graphs.json', 'id11_graphs.json', 'mlee_graphs.json', 'pc_graphs.json','st09_graphs.json']"
      ],
      "execution_count": null,
      "outputs": []
    },
    {
      "cell_type": "code",
      "metadata": {
        "id": "UFRDZJfsIItM"
      },
      "source": [
        "graphs = []"
      ],
      "execution_count": null,
      "outputs": []
    },
    {
      "cell_type": "code",
      "metadata": {
        "id": "kIb1uCPfIKzx"
      },
      "source": [
        "DIR = './'\n",
        "DIR = \"datasets_json/\"\n",
        "for fn in file_names:\n",
        "  with open(DIR + fn) as ff:\n",
        "    temp = [g for g in json.load(ff)]\n",
        "    graphs.extend(temp)"
      ],
      "execution_count": null,
      "outputs": []
    },
    {
      "cell_type": "markdown",
      "metadata": {
        "id": "nIIx3nq8KfI2"
      },
      "source": [
        "## DataFrame construction and preview"
      ]
    },
    {
      "cell_type": "markdown",
      "metadata": {
        "id": "Fan8mA-0yZPy"
      },
      "source": [
        "Number of events for each dataset:\n",
        "*   **cg** 4285\n",
        "*   **epi** 1387\n",
        "*   **ge11** 6465\n",
        "*   **ge13** 1420\n",
        "*   **gro13** 1543\n",
        "*   **id11** 1303\n",
        "*   **mlee** 3150\n",
        "*   **pc** 2761\n",
        "*   **st09** 4947\n",
        "\n",
        "Total: **27261**"
      ]
    },
    {
      "cell_type": "code",
      "metadata": {
        "id": "tAk9xbzvnSgl"
      },
      "source": [
        "df = pd.DataFrame(graphs)"
      ],
      "execution_count": null,
      "outputs": []
    },
    {
      "cell_type": "code",
      "metadata": {
        "colab": {
          "base_uri": "https://localhost:8080/",
          "height": 205
        },
        "id": "4k-JqYfknZU_",
        "outputId": "3acca834-197e-4738-d537-e5c5e32475e8"
      },
      "source": [
        "df.head()"
      ],
      "execution_count": null,
      "outputs": [
        {
          "output_type": "execute_result",
          "data": {
            "text/html": [
              "<div>\n",
              "<style scoped>\n",
              "    .dataframe tbody tr th:only-of-type {\n",
              "        vertical-align: middle;\n",
              "    }\n",
              "\n",
              "    .dataframe tbody tr th {\n",
              "        vertical-align: top;\n",
              "    }\n",
              "\n",
              "    .dataframe thead th {\n",
              "        text-align: right;\n",
              "    }\n",
              "</style>\n",
              "<table border=\"1\" class=\"dataframe\">\n",
              "  <thead>\n",
              "    <tr style=\"text-align: right;\">\n",
              "      <th></th>\n",
              "      <th>directed</th>\n",
              "      <th>multigraph</th>\n",
              "      <th>graph</th>\n",
              "      <th>nodes</th>\n",
              "      <th>links</th>\n",
              "    </tr>\n",
              "  </thead>\n",
              "  <tbody>\n",
              "    <tr>\n",
              "      <th>0</th>\n",
              "      <td>True</td>\n",
              "      <td>False</td>\n",
              "      <td>{'source_doc': 'PMID-20129250', 'dataset': 'cg...</td>\n",
              "      <td>[{'type': 'Pathological_formation', 'name': 'i...</td>\n",
              "      <td>[{'key': 'Theme', 'event_id': 'E3', 'source': ...</td>\n",
              "    </tr>\n",
              "    <tr>\n",
              "      <th>1</th>\n",
              "      <td>True</td>\n",
              "      <td>False</td>\n",
              "      <td>{'source_doc': 'PMID-20129250', 'dataset': 'cg...</td>\n",
              "      <td>[{'type': 'Gene_or_gene_product', 'name': 'IKK...</td>\n",
              "      <td>[{'key': 'Theme', 'event_id': 'E5', 'source': ...</td>\n",
              "    </tr>\n",
              "    <tr>\n",
              "      <th>2</th>\n",
              "      <td>True</td>\n",
              "      <td>False</td>\n",
              "      <td>{'source_doc': 'PMID-20129250', 'dataset': 'cg...</td>\n",
              "      <td>[{'type': 'Positive_regulation', 'name': 'init...</td>\n",
              "      <td>[{'key': 'Theme', 'event_id': 'E6', 'source': ...</td>\n",
              "    </tr>\n",
              "    <tr>\n",
              "      <th>3</th>\n",
              "      <td>True</td>\n",
              "      <td>False</td>\n",
              "      <td>{'source_doc': 'PMID-20129250', 'dataset': 'cg...</td>\n",
              "      <td>[{'type': 'Cancer', 'name': 'lung cancer', 'em...</td>\n",
              "      <td>[{'key': 'Theme', 'event_id': 'E8', 'source': ...</td>\n",
              "    </tr>\n",
              "    <tr>\n",
              "      <th>4</th>\n",
              "      <td>True</td>\n",
              "      <td>False</td>\n",
              "      <td>{'source_doc': 'PMID-20129250', 'dataset': 'cg...</td>\n",
              "      <td>[{'type': 'Cancer', 'name': 'tumor', 'embeddin...</td>\n",
              "      <td>[{'key': 'Theme', 'event_id': 'E9', 'source': ...</td>\n",
              "    </tr>\n",
              "  </tbody>\n",
              "</table>\n",
              "</div>"
            ],
            "text/plain": [
              "   directed  ...                                              links\n",
              "0      True  ...  [{'key': 'Theme', 'event_id': 'E3', 'source': ...\n",
              "1      True  ...  [{'key': 'Theme', 'event_id': 'E5', 'source': ...\n",
              "2      True  ...  [{'key': 'Theme', 'event_id': 'E6', 'source': ...\n",
              "3      True  ...  [{'key': 'Theme', 'event_id': 'E8', 'source': ...\n",
              "4      True  ...  [{'key': 'Theme', 'event_id': 'E9', 'source': ...\n",
              "\n",
              "[5 rows x 5 columns]"
            ]
          },
          "metadata": {},
          "execution_count": 7
        }
      ]
    },
    {
      "cell_type": "code",
      "metadata": {
        "id": "mzG_X0DGJbcr"
      },
      "source": [
        "# We add the dataset name as a dataframe columns\n",
        "# First tuple item = index\n",
        "# Second tuple item = graph information, including the dataset name\n",
        "datasets = [g[1]['dataset'] for g in df['graph'].items()]\n",
        "df['dataset'] = datasets"
      ],
      "execution_count": null,
      "outputs": []
    },
    {
      "cell_type": "code",
      "metadata": {
        "colab": {
          "base_uri": "https://localhost:8080/",
          "height": 205
        },
        "id": "43DCt7N-5nB3",
        "outputId": "cbd0b55d-3989-4a8a-cf83-cd9d15fedabe"
      },
      "source": [
        "df.head()"
      ],
      "execution_count": null,
      "outputs": [
        {
          "output_type": "execute_result",
          "data": {
            "text/html": [
              "<div>\n",
              "<style scoped>\n",
              "    .dataframe tbody tr th:only-of-type {\n",
              "        vertical-align: middle;\n",
              "    }\n",
              "\n",
              "    .dataframe tbody tr th {\n",
              "        vertical-align: top;\n",
              "    }\n",
              "\n",
              "    .dataframe thead th {\n",
              "        text-align: right;\n",
              "    }\n",
              "</style>\n",
              "<table border=\"1\" class=\"dataframe\">\n",
              "  <thead>\n",
              "    <tr style=\"text-align: right;\">\n",
              "      <th></th>\n",
              "      <th>directed</th>\n",
              "      <th>multigraph</th>\n",
              "      <th>graph</th>\n",
              "      <th>nodes</th>\n",
              "      <th>links</th>\n",
              "      <th>dataset</th>\n",
              "    </tr>\n",
              "  </thead>\n",
              "  <tbody>\n",
              "    <tr>\n",
              "      <th>0</th>\n",
              "      <td>True</td>\n",
              "      <td>False</td>\n",
              "      <td>{'source_doc': 'PMID-20129250', 'dataset': 'cg...</td>\n",
              "      <td>[{'type': 'Pathological_formation', 'name': 'i...</td>\n",
              "      <td>[{'key': 'Theme', 'event_id': 'E3', 'source': ...</td>\n",
              "      <td>cg</td>\n",
              "    </tr>\n",
              "    <tr>\n",
              "      <th>1</th>\n",
              "      <td>True</td>\n",
              "      <td>False</td>\n",
              "      <td>{'source_doc': 'PMID-20129250', 'dataset': 'cg...</td>\n",
              "      <td>[{'type': 'Gene_or_gene_product', 'name': 'IKK...</td>\n",
              "      <td>[{'key': 'Theme', 'event_id': 'E5', 'source': ...</td>\n",
              "      <td>cg</td>\n",
              "    </tr>\n",
              "    <tr>\n",
              "      <th>2</th>\n",
              "      <td>True</td>\n",
              "      <td>False</td>\n",
              "      <td>{'source_doc': 'PMID-20129250', 'dataset': 'cg...</td>\n",
              "      <td>[{'type': 'Positive_regulation', 'name': 'init...</td>\n",
              "      <td>[{'key': 'Theme', 'event_id': 'E6', 'source': ...</td>\n",
              "      <td>cg</td>\n",
              "    </tr>\n",
              "    <tr>\n",
              "      <th>3</th>\n",
              "      <td>True</td>\n",
              "      <td>False</td>\n",
              "      <td>{'source_doc': 'PMID-20129250', 'dataset': 'cg...</td>\n",
              "      <td>[{'type': 'Cancer', 'name': 'lung cancer', 'em...</td>\n",
              "      <td>[{'key': 'Theme', 'event_id': 'E8', 'source': ...</td>\n",
              "      <td>cg</td>\n",
              "    </tr>\n",
              "    <tr>\n",
              "      <th>4</th>\n",
              "      <td>True</td>\n",
              "      <td>False</td>\n",
              "      <td>{'source_doc': 'PMID-20129250', 'dataset': 'cg...</td>\n",
              "      <td>[{'type': 'Cancer', 'name': 'tumor', 'embeddin...</td>\n",
              "      <td>[{'key': 'Theme', 'event_id': 'E9', 'source': ...</td>\n",
              "      <td>cg</td>\n",
              "    </tr>\n",
              "  </tbody>\n",
              "</table>\n",
              "</div>"
            ],
            "text/plain": [
              "   directed  ...  dataset\n",
              "0      True  ...       cg\n",
              "1      True  ...       cg\n",
              "2      True  ...       cg\n",
              "3      True  ...       cg\n",
              "4      True  ...       cg\n",
              "\n",
              "[5 rows x 6 columns]"
            ]
          },
          "metadata": {},
          "execution_count": 9
        }
      ]
    },
    {
      "cell_type": "markdown",
      "metadata": {
        "id": "dIVJhLskMQfn"
      },
      "source": [
        "## Event type retrieval"
      ]
    },
    {
      "cell_type": "markdown",
      "metadata": {
        "id": "nBAnY1GxzlzE"
      },
      "source": [
        "Note: in the case of nested events, we consider the trigger type of the main event (DAG root)"
      ]
    },
    {
      "cell_type": "code",
      "metadata": {
        "id": "0FOTYwSVQa0D"
      },
      "source": [
        "# Obtain the root node of each graph\n",
        "roots = [g[1]['root'] for g in df['graph'].items()]"
      ],
      "execution_count": null,
      "outputs": []
    },
    {
      "cell_type": "code",
      "metadata": {
        "id": "_koKhLtnRaw-"
      },
      "source": [
        "# Obtain a list with the information of each node in each graph\n",
        "nodes_list = [n[1] for n in df['nodes'].items()]"
      ],
      "execution_count": null,
      "outputs": []
    },
    {
      "cell_type": "code",
      "metadata": {
        "id": "URdo0S3sYur8"
      },
      "source": [
        "# For each event graph, we take the type information from the trigger node (id matching)\n",
        "event_type = [n['type'] for i in range(len(graphs)) for n in nodes_list[i] if n['id'] == roots[i]] "
      ],
      "execution_count": null,
      "outputs": []
    },
    {
      "cell_type": "markdown",
      "metadata": {
        "id": "be-5OTZo_BAG"
      },
      "source": [
        "### Gro13 corrections"
      ]
    },
    {
      "cell_type": "markdown",
      "metadata": {
        "id": "ZZjAzIGMXe_p"
      },
      "source": [
        "**gro13** dataset has event types written in *CamelCase* instead of *snake_case*. Arguably, we perform a conversion preprocessing step to lowercase."
      ]
    },
    {
      "cell_type": "code",
      "metadata": {
        "id": "xIYdYtcKjO1U"
      },
      "source": [
        "event_type = [re.sub(r'(?<!^)(?=[A-Z])', '_', event_type[i]).lower() if datasets[i]=='gro13' else event_type[i].lower() for i in range(len(graphs))]"
      ],
      "execution_count": null,
      "outputs": []
    },
    {
      "cell_type": "code",
      "metadata": {
        "id": "cYK8UBZPa-uW"
      },
      "source": [
        "df['event_type'] = event_type"
      ],
      "execution_count": null,
      "outputs": []
    },
    {
      "cell_type": "code",
      "metadata": {
        "colab": {
          "base_uri": "https://localhost:8080/"
        },
        "id": "UQ4TDpPqi7y6",
        "outputId": "36e11731-134e-4d7e-cd6f-e4bff65991aa"
      },
      "source": [
        "df['event_type'].value_counts()"
      ],
      "execution_count": null,
      "outputs": [
        {
          "output_type": "execute_result",
          "data": {
            "text/plain": [
              "positive_regulation            8090\n",
              "negative_regulation            4106\n",
              "regulation                     3566\n",
              "gene_expression                2830\n",
              "binding                        1969\n",
              "                               ... \n",
              "intra_cellular_transport          1\n",
              "stabilization                     1\n",
              "binding_of_protein                1\n",
              "binding_of_molecular_entity       1\n",
              "regulation_of_function            1\n",
              "Name: event_type, Length: 122, dtype: int64"
            ]
          },
          "metadata": {},
          "execution_count": 15
        }
      ]
    },
    {
      "cell_type": "code",
      "metadata": {
        "colab": {
          "base_uri": "https://localhost:8080/"
        },
        "id": "rE6EEjsMmiz7",
        "outputId": "ec4dfdb9-24d7-45eb-ba45-99e10ccc6a25"
      },
      "source": [
        "sum(df['dataset'] == 'gro13')"
      ],
      "execution_count": null,
      "outputs": [
        {
          "output_type": "execute_result",
          "data": {
            "text/plain": [
              "1543"
            ]
          },
          "metadata": {},
          "execution_count": 16
        }
      ]
    },
    {
      "cell_type": "markdown",
      "metadata": {
        "id": "T35uPjUrMS6L"
      },
      "source": [
        "## \\#Node distribution"
      ]
    },
    {
      "cell_type": "markdown",
      "metadata": {
        "id": "UyPgAt5R1BwY"
      },
      "source": [
        "Number of event graph instances for each graph size class (i.e., number of nodes)."
      ]
    },
    {
      "cell_type": "code",
      "metadata": {
        "id": "DUD82rtIbYLV"
      },
      "source": [
        "lenghts = [len(nodes_list[i]) for i in range(len(df))]"
      ],
      "execution_count": null,
      "outputs": []
    },
    {
      "cell_type": "code",
      "metadata": {
        "id": "r4Zd0rFlbxZx"
      },
      "source": [
        "df['len'] = lenghts"
      ],
      "execution_count": null,
      "outputs": []
    },
    {
      "cell_type": "code",
      "metadata": {
        "colab": {
          "base_uri": "https://localhost:8080/"
        },
        "id": "vJctT6tYDw4M",
        "outputId": "96f450cd-9f3f-46ba-b784-48772b137955"
      },
      "source": [
        "df['len'].value_counts()"
      ],
      "execution_count": null,
      "outputs": [
        {
          "output_type": "execute_result",
          "data": {
            "text/plain": [
              "2     9927\n",
              "3     8159\n",
              "4     4557\n",
              "5     2286\n",
              "6     1163\n",
              "7      597\n",
              "8      258\n",
              "9      170\n",
              "10      68\n",
              "11      39\n",
              "13      17\n",
              "12       8\n",
              "14       6\n",
              "15       3\n",
              "18       2\n",
              "16       1\n",
              "Name: len, dtype: int64"
            ]
          },
          "metadata": {},
          "execution_count": 19
        }
      ]
    },
    {
      "cell_type": "markdown",
      "metadata": {
        "id": "yE-UnDCFX3Ga"
      },
      "source": [
        "### Introducing a range for event graph size"
      ]
    },
    {
      "cell_type": "markdown",
      "metadata": {
        "id": "vLdAjGrCGEcz"
      },
      "source": [
        "Starting from the event graph distribution for each graph size, a reasonable splitting on #nodes is 2, 3, 4, 5, 6, > 7."
      ]
    },
    {
      "cell_type": "code",
      "metadata": {
        "id": "Uz_aRKqf-nqM"
      },
      "source": [
        "df['range_len'] = df['len'].copy()"
      ],
      "execution_count": null,
      "outputs": []
    },
    {
      "cell_type": "code",
      "metadata": {
        "colab": {
          "base_uri": "https://localhost:8080/"
        },
        "id": "q3h0qvyo-xOu",
        "outputId": "df84bdef-c89b-4981-c3a7-b011918e34a8"
      },
      "source": [
        "df['range_len'][df['len'] >= 7] = 7"
      ],
      "execution_count": null,
      "outputs": [
        {
          "output_type": "stream",
          "name": "stderr",
          "text": [
            "/usr/local/lib/python3.7/dist-packages/ipykernel_launcher.py:1: SettingWithCopyWarning: \n",
            "A value is trying to be set on a copy of a slice from a DataFrame\n",
            "\n",
            "See the caveats in the documentation: https://pandas.pydata.org/pandas-docs/stable/user_guide/indexing.html#returning-a-view-versus-a-copy\n",
            "  \"\"\"Entry point for launching an IPython kernel.\n"
          ]
        }
      ]
    },
    {
      "cell_type": "code",
      "metadata": {
        "id": "MxVDHtuuAJKj"
      },
      "source": [
        "df['range_len'] = [str(n) for n in df['range_len']]"
      ],
      "execution_count": null,
      "outputs": []
    },
    {
      "cell_type": "code",
      "metadata": {
        "colab": {
          "base_uri": "https://localhost:8080/"
        },
        "id": "HMpXR4pVG0Rk",
        "outputId": "26008ec3-09ac-4f5b-e71e-c10b8783b55e"
      },
      "source": [
        "df['range_len'].value_counts()"
      ],
      "execution_count": null,
      "outputs": [
        {
          "output_type": "execute_result",
          "data": {
            "text/plain": [
              "2    9927\n",
              "3    8159\n",
              "4    4557\n",
              "5    2286\n",
              "7    1169\n",
              "6    1163\n",
              "Name: range_len, dtype: int64"
            ]
          },
          "metadata": {},
          "execution_count": 23
        }
      ]
    },
    {
      "cell_type": "markdown",
      "metadata": {
        "id": "npb4xdxVC1MY"
      },
      "source": [
        "## \\#Instance-based event type filtering"
      ]
    },
    {
      "cell_type": "markdown",
      "metadata": {
        "id": "SVEPc6JtYAyS"
      },
      "source": [
        "With the introduction of **gro13**, the number of event types grows from 50 to 100. However, some of such event types have less than 10 instances. By removing these poorly represented event types, the total number of classes returns to about 50."
      ]
    },
    {
      "cell_type": "code",
      "metadata": {
        "colab": {
          "base_uri": "https://localhost:8080/"
        },
        "id": "aP4LOf5ClyKa",
        "outputId": "764dde96-2d2f-4abb-92ea-ac2ff6175097"
      },
      "source": [
        "df = df.groupby('event_type').filter(lambda x : len(x) > 10)\n",
        "df['event_type'].value_counts(), len(df['event_type'].value_counts())"
      ],
      "execution_count": null,
      "outputs": [
        {
          "output_type": "execute_result",
          "data": {
            "text/plain": [
              "(positive_regulation                       8090\n",
              " negative_regulation                       4106\n",
              " regulation                                3566\n",
              " gene_expression                           2830\n",
              " binding                                   1969\n",
              " planned_process                            959\n",
              " localization                               686\n",
              " transcription                              427\n",
              " phosphorylation                            424\n",
              " process                                    305\n",
              " development                                252\n",
              " glycosylation                              233\n",
              " methylation                                230\n",
              " acetylation                                228\n",
              " dna_methylation                            226\n",
              " regulatory_process                         210\n",
              " ubiquitination                             182\n",
              " pathway                                    147\n",
              " catalysis                                  138\n",
              " binding_to_protein                         135\n",
              " activation                                 130\n",
              " mutation                                   128\n",
              " blood_vessel_development                   119\n",
              " metastasis                                  94\n",
              " growth                                      93\n",
              " cell_proliferation                          92\n",
              " transport                                   82\n",
              " increase                                    80\n",
              " breakdown                                   80\n",
              " protein_catabolism                          77\n",
              " death                                       77\n",
              " hydroxylation                               74\n",
              " binding_of_protein_to_d_n_a                 53\n",
              " inactivation                                44\n",
              " conversion                                  39\n",
              " decrease                                    37\n",
              " cell_transformation                         31\n",
              " cell_differentiation                        30\n",
              " remodeling                                  29\n",
              " deacetylation                               26\n",
              " carcinogenesis                              25\n",
              " metabolism                                  24\n",
              " synthesis                                   23\n",
              " dissociation                                23\n",
              " transcription_of_gene                       21\n",
              " infection                                   18\n",
              " positive_regulation_of_gene_expression      18\n",
              " response_process                            17\n",
              " deglycosylation                             16\n",
              " disease                                     14\n",
              " cell_death                                  13\n",
              " catabolism                                  11\n",
              " metabolic_pathway                           11\n",
              " degradation                                 11\n",
              " dephosphorylation                           11\n",
              " Name: event_type, dtype: int64, 55)"
            ]
          },
          "metadata": {},
          "execution_count": 24
        }
      ]
    },
    {
      "cell_type": "markdown",
      "metadata": {
        "id": "Vh3wu33RKBQJ"
      },
      "source": [
        "## Stratified sampling with R"
      ]
    },
    {
      "cell_type": "markdown",
      "metadata": {
        "id": "syDEbdczepkp"
      },
      "source": [
        "We remove unnecessary columns to speed-up the following operations."
      ]
    },
    {
      "cell_type": "code",
      "metadata": {
        "id": "WVRZH-RCa8BW"
      },
      "source": [
        "data = df.copy()"
      ],
      "execution_count": null,
      "outputs": []
    },
    {
      "cell_type": "code",
      "metadata": {
        "id": "NV_JbBJwa-TP"
      },
      "source": [
        "data.drop(columns=['graph', 'nodes', 'len', 'links'], inplace=True)"
      ],
      "execution_count": null,
      "outputs": []
    },
    {
      "cell_type": "code",
      "metadata": {
        "colab": {
          "base_uri": "https://localhost:8080/",
          "height": 205
        },
        "id": "hfHIhlqK7CZ-",
        "outputId": "717232d4-f6fa-4243-e08d-46e5fef11387"
      },
      "source": [
        "data.head()"
      ],
      "execution_count": null,
      "outputs": [
        {
          "output_type": "execute_result",
          "data": {
            "text/html": [
              "<div>\n",
              "<style scoped>\n",
              "    .dataframe tbody tr th:only-of-type {\n",
              "        vertical-align: middle;\n",
              "    }\n",
              "\n",
              "    .dataframe tbody tr th {\n",
              "        vertical-align: top;\n",
              "    }\n",
              "\n",
              "    .dataframe thead th {\n",
              "        text-align: right;\n",
              "    }\n",
              "</style>\n",
              "<table border=\"1\" class=\"dataframe\">\n",
              "  <thead>\n",
              "    <tr style=\"text-align: right;\">\n",
              "      <th></th>\n",
              "      <th>directed</th>\n",
              "      <th>multigraph</th>\n",
              "      <th>dataset</th>\n",
              "      <th>event_type</th>\n",
              "      <th>range_len</th>\n",
              "    </tr>\n",
              "  </thead>\n",
              "  <tbody>\n",
              "    <tr>\n",
              "      <th>0</th>\n",
              "      <td>True</td>\n",
              "      <td>False</td>\n",
              "      <td>cg</td>\n",
              "      <td>positive_regulation</td>\n",
              "      <td>5</td>\n",
              "    </tr>\n",
              "    <tr>\n",
              "      <th>1</th>\n",
              "      <td>True</td>\n",
              "      <td>False</td>\n",
              "      <td>cg</td>\n",
              "      <td>positive_regulation</td>\n",
              "      <td>4</td>\n",
              "    </tr>\n",
              "    <tr>\n",
              "      <th>2</th>\n",
              "      <td>True</td>\n",
              "      <td>False</td>\n",
              "      <td>cg</td>\n",
              "      <td>positive_regulation</td>\n",
              "      <td>3</td>\n",
              "    </tr>\n",
              "    <tr>\n",
              "      <th>3</th>\n",
              "      <td>True</td>\n",
              "      <td>False</td>\n",
              "      <td>cg</td>\n",
              "      <td>development</td>\n",
              "      <td>2</td>\n",
              "    </tr>\n",
              "    <tr>\n",
              "      <th>4</th>\n",
              "      <td>True</td>\n",
              "      <td>False</td>\n",
              "      <td>cg</td>\n",
              "      <td>positive_regulation</td>\n",
              "      <td>2</td>\n",
              "    </tr>\n",
              "  </tbody>\n",
              "</table>\n",
              "</div>"
            ],
            "text/plain": [
              "   directed  multigraph dataset           event_type range_len\n",
              "0      True       False      cg  positive_regulation         5\n",
              "1      True       False      cg  positive_regulation         4\n",
              "2      True       False      cg  positive_regulation         3\n",
              "3      True       False      cg          development         2\n",
              "4      True       False      cg  positive_regulation         2"
            ]
          },
          "metadata": {},
          "execution_count": 27
        }
      ]
    },
    {
      "cell_type": "code",
      "metadata": {
        "colab": {
          "base_uri": "https://localhost:8080/",
          "height": 453
        },
        "id": "fS7SobG_8cmq",
        "outputId": "cf2d77b0-36d9-4161-b5f4-f715d17ae3f2"
      },
      "source": [
        "grouped_events = data.groupby(['dataset', 'event_type', 'range_len']).count()\n",
        "grouped_events"
      ],
      "execution_count": null,
      "outputs": [
        {
          "output_type": "execute_result",
          "data": {
            "text/html": [
              "<div>\n",
              "<style scoped>\n",
              "    .dataframe tbody tr th:only-of-type {\n",
              "        vertical-align: middle;\n",
              "    }\n",
              "\n",
              "    .dataframe tbody tr th {\n",
              "        vertical-align: top;\n",
              "    }\n",
              "\n",
              "    .dataframe thead th {\n",
              "        text-align: right;\n",
              "    }\n",
              "</style>\n",
              "<table border=\"1\" class=\"dataframe\">\n",
              "  <thead>\n",
              "    <tr style=\"text-align: right;\">\n",
              "      <th></th>\n",
              "      <th></th>\n",
              "      <th></th>\n",
              "      <th>directed</th>\n",
              "      <th>multigraph</th>\n",
              "    </tr>\n",
              "    <tr>\n",
              "      <th>dataset</th>\n",
              "      <th>event_type</th>\n",
              "      <th>range_len</th>\n",
              "      <th></th>\n",
              "      <th></th>\n",
              "    </tr>\n",
              "  </thead>\n",
              "  <tbody>\n",
              "    <tr>\n",
              "      <th rowspan=\"5\" valign=\"top\">cg</th>\n",
              "      <th>acetylation</th>\n",
              "      <th>2</th>\n",
              "      <td>2</td>\n",
              "      <td>2</td>\n",
              "    </tr>\n",
              "    <tr>\n",
              "      <th rowspan=\"4\" valign=\"top\">binding</th>\n",
              "      <th>2</th>\n",
              "      <td>26</td>\n",
              "      <td>26</td>\n",
              "    </tr>\n",
              "    <tr>\n",
              "      <th>3</th>\n",
              "      <td>37</td>\n",
              "      <td>37</td>\n",
              "    </tr>\n",
              "    <tr>\n",
              "      <th>4</th>\n",
              "      <td>18</td>\n",
              "      <td>18</td>\n",
              "    </tr>\n",
              "    <tr>\n",
              "      <th>5</th>\n",
              "      <td>3</td>\n",
              "      <td>3</td>\n",
              "    </tr>\n",
              "    <tr>\n",
              "      <th>...</th>\n",
              "      <th>...</th>\n",
              "      <th>...</th>\n",
              "      <td>...</td>\n",
              "      <td>...</td>\n",
              "    </tr>\n",
              "    <tr>\n",
              "      <th rowspan=\"5\" valign=\"top\">st09</th>\n",
              "      <th rowspan=\"2\" valign=\"top\">regulation</th>\n",
              "      <th>6</th>\n",
              "      <td>39</td>\n",
              "      <td>39</td>\n",
              "    </tr>\n",
              "    <tr>\n",
              "      <th>7</th>\n",
              "      <td>22</td>\n",
              "      <td>22</td>\n",
              "    </tr>\n",
              "    <tr>\n",
              "      <th rowspan=\"3\" valign=\"top\">transcription</th>\n",
              "      <th>2</th>\n",
              "      <td>100</td>\n",
              "      <td>100</td>\n",
              "    </tr>\n",
              "    <tr>\n",
              "      <th>3</th>\n",
              "      <td>17</td>\n",
              "      <td>17</td>\n",
              "    </tr>\n",
              "    <tr>\n",
              "      <th>4</th>\n",
              "      <td>8</td>\n",
              "      <td>8</td>\n",
              "    </tr>\n",
              "  </tbody>\n",
              "</table>\n",
              "<p>545 rows × 2 columns</p>\n",
              "</div>"
            ],
            "text/plain": [
              "                                 directed  multigraph\n",
              "dataset event_type    range_len                      \n",
              "cg      acetylation   2                 2           2\n",
              "        binding       2                26          26\n",
              "                      3                37          37\n",
              "                      4                18          18\n",
              "                      5                 3           3\n",
              "...                                   ...         ...\n",
              "st09    regulation    6                39          39\n",
              "                      7                22          22\n",
              "        transcription 2               100         100\n",
              "                      3                17          17\n",
              "                      4                 8           8\n",
              "\n",
              "[545 rows x 2 columns]"
            ]
          },
          "metadata": {},
          "execution_count": 28
        }
      ]
    },
    {
      "cell_type": "markdown",
      "metadata": {
        "id": "08pO-xZI88B5"
      },
      "source": [
        "keep only event graphs whitin a class (i.e., dataset, event type, graph size) having at least 3 instances"
      ]
    },
    {
      "cell_type": "code",
      "metadata": {
        "id": "yRrA8v3yM7_a"
      },
      "source": [
        "data = data.groupby(['dataset', 'event_type', 'range_len']).filter(lambda x : len(x) >= 10)"
      ],
      "execution_count": null,
      "outputs": []
    },
    {
      "cell_type": "markdown",
      "metadata": {
        "id": "V67nAysCgEou"
      },
      "source": [
        "We install and load the \"stratify\" package."
      ]
    },
    {
      "cell_type": "code",
      "metadata": {
        "id": "EjGE6VUeOo_1",
        "colab": {
          "base_uri": "https://localhost:8080/"
        },
        "outputId": "98395a39-1ea6-4cd7-a259-5aa8c41a9fba"
      },
      "source": [
        "%%R\n",
        "install.packages(\"splitstackshape\")"
      ],
      "execution_count": null,
      "outputs": [
        {
          "output_type": "stream",
          "name": "stderr",
          "text": [
            "R[write to console]: Installing package into ‘/usr/local/lib/R/site-library’\n",
            "(as ‘lib’ is unspecified)\n",
            "\n",
            "R[write to console]: trying URL 'https://cran.rstudio.com/src/contrib/splitstackshape_1.4.8.tar.gz'\n",
            "\n",
            "R[write to console]: Content type 'application/x-gzip'\n",
            "R[write to console]:  length 33972 bytes (33 KB)\n",
            "\n",
            "R[write to console]: =\n",
            "R[write to console]: =\n",
            "R[write to console]: =\n",
            "R[write to console]: =\n",
            "R[write to console]: =\n",
            "R[write to console]: =\n",
            "R[write to console]: =\n",
            "R[write to console]: =\n",
            "R[write to console]: =\n",
            "R[write to console]: =\n",
            "R[write to console]: =\n",
            "R[write to console]: =\n",
            "R[write to console]: =\n",
            "R[write to console]: =\n",
            "R[write to console]: =\n",
            "R[write to console]: =\n",
            "R[write to console]: =\n",
            "R[write to console]: =\n",
            "R[write to console]: =\n",
            "R[write to console]: =\n",
            "R[write to console]: =\n",
            "R[write to console]: =\n",
            "R[write to console]: =\n",
            "R[write to console]: =\n",
            "R[write to console]: =\n",
            "R[write to console]: =\n",
            "R[write to console]: =\n",
            "R[write to console]: =\n",
            "R[write to console]: =\n",
            "R[write to console]: =\n",
            "R[write to console]: =\n",
            "R[write to console]: =\n",
            "R[write to console]: =\n",
            "R[write to console]: =\n",
            "R[write to console]: =\n",
            "R[write to console]: =\n",
            "R[write to console]: =\n",
            "R[write to console]: =\n",
            "R[write to console]: =\n",
            "R[write to console]: =\n",
            "R[write to console]: =\n",
            "R[write to console]: =\n",
            "R[write to console]: =\n",
            "R[write to console]: =\n",
            "R[write to console]: =\n",
            "R[write to console]: =\n",
            "R[write to console]: =\n",
            "R[write to console]: =\n",
            "R[write to console]: =\n",
            "R[write to console]: =\n",
            "R[write to console]: \n",
            "\n",
            "R[write to console]: downloaded 33 KB\n",
            "\n",
            "\n",
            "R[write to console]: \n",
            "\n",
            "R[write to console]: \n",
            "R[write to console]: The downloaded source packages are in\n",
            "\t‘/tmp/RtmpYw5xT3/downloaded_packages’\n",
            "R[write to console]: \n",
            "R[write to console]: \n",
            "\n"
          ]
        }
      ]
    },
    {
      "cell_type": "code",
      "metadata": {
        "id": "m84Orta9gVsu"
      },
      "source": [
        "%%R\n",
        "library(splitstackshape)"
      ],
      "execution_count": null,
      "outputs": []
    },
    {
      "cell_type": "code",
      "metadata": {
        "colab": {
          "base_uri": "https://localhost:8080/"
        },
        "id": "rGwOArsRlkdy",
        "outputId": "691f2a19-8a8d-44fc-a2d0-8f7d86dc24c7"
      },
      "source": [
        "# - Grouping on dataset name, event type, and graph size range\n",
        "%%R -i data\n",
        "samples <- stratified(data, c('dataset', 'event_type', 'range_len'), 4, replace=FALSE, keep.rownames=TRUE)\n",
        "print(nrow(samples))"
      ],
      "execution_count": null,
      "outputs": [
        {
          "output_type": "stream",
          "name": "stdout",
          "text": [
            "[1] 1216\n"
          ]
        }
      ]
    },
    {
      "cell_type": "code",
      "metadata": {
        "id": "WapvtoVUZ8hu"
      },
      "source": [
        "s = %R samples"
      ],
      "execution_count": null,
      "outputs": []
    },
    {
      "cell_type": "markdown",
      "metadata": {
        "id": "ZI3QgWfUdREd"
      },
      "source": [
        "## Sampling post-processing and visualizations"
      ]
    },
    {
      "cell_type": "code",
      "metadata": {
        "colab": {
          "base_uri": "https://localhost:8080/"
        },
        "id": "cu3CVqp7-B42",
        "outputId": "506cba7e-d58e-4dae-d6a4-607c72ce4a68"
      },
      "source": [
        "print(s)\n",
        "# Note: 'rn' is the event graph id (i.e., row number on the dataset before sampling)"
      ],
      "execution_count": null,
      "outputs": [
        {
          "output_type": "stream",
          "name": "stdout",
          "text": [
            "         rn  directed  multigraph dataset           event_type range_len\n",
            "1      1050         1           0      cg  positive_regulation         5\n",
            "2      1038         1           0      cg  positive_regulation         5\n",
            "3      4059         1           0      cg  positive_regulation         5\n",
            "4      2382         1           0      cg  positive_regulation         5\n",
            "5       707         1           0      cg  positive_regulation         4\n",
            "...     ...       ...         ...     ...                  ...       ...\n",
            "1212  24960         1           0    st09        transcription         3\n",
            "1213  24250         1           0    st09  negative_regulation         5\n",
            "1214  25502         1           0    st09  negative_regulation         5\n",
            "1215  25395         1           0    st09  negative_regulation         5\n",
            "1216  24835         1           0    st09  negative_regulation         5\n",
            "\n",
            "[1216 rows x 6 columns]\n"
          ]
        }
      ]
    },
    {
      "cell_type": "code",
      "metadata": {
        "id": "H8XkgW0GrHyz"
      },
      "source": [
        "s['rn'] = [int(n) for n in s['rn']]"
      ],
      "execution_count": null,
      "outputs": []
    },
    {
      "cell_type": "code",
      "metadata": {
        "id": "TrS291Tyqc9b"
      },
      "source": [
        "final = df.loc[list(s['rn']), :]"
      ],
      "execution_count": null,
      "outputs": []
    },
    {
      "cell_type": "code",
      "metadata": {
        "colab": {
          "base_uri": "https://localhost:8080/"
        },
        "id": "r6k-MV_6946q",
        "outputId": "d219434e-42f9-4c32-99c0-2538a74b2f59"
      },
      "source": [
        "final['event_type'].value_counts()"
      ],
      "execution_count": null,
      "outputs": [
        {
          "output_type": "execute_result",
          "data": {
            "text/plain": [
              "positive_regulation                       180\n",
              "negative_regulation                       172\n",
              "regulation                                160\n",
              "binding                                    92\n",
              "gene_expression                            84\n",
              "localization                               72\n",
              "phosphorylation                            52\n",
              "transcription                              36\n",
              "planned_process                            24\n",
              "pathway                                    20\n",
              "methylation                                16\n",
              "mutation                                   16\n",
              "regulatory_process                         16\n",
              "catalysis                                  16\n",
              "binding_to_protein                         12\n",
              "transport                                  12\n",
              "acetylation                                12\n",
              "dna_methylation                            12\n",
              "glycosylation                              12\n",
              "ubiquitination                             12\n",
              "activation                                 12\n",
              "protein_catabolism                         12\n",
              "development                                12\n",
              "increase                                   12\n",
              "hydroxylation                               8\n",
              "process                                     8\n",
              "death                                       8\n",
              "growth                                      8\n",
              "blood_vessel_development                    8\n",
              "cell_proliferation                          8\n",
              "remodeling                                  8\n",
              "metastasis                                  8\n",
              "breakdown                                   8\n",
              "conversion                                  8\n",
              "synthesis                                   4\n",
              "transcription_of_gene                       4\n",
              "metabolism                                  4\n",
              "decrease                                    4\n",
              "cell_differentiation                        4\n",
              "deglycosylation                             4\n",
              "disease                                     4\n",
              "deacetylation                               4\n",
              "cell_transformation                         4\n",
              "degradation                                 4\n",
              "binding_of_protein_to_d_n_a                 4\n",
              "dissociation                                4\n",
              "carcinogenesis                              4\n",
              "positive_regulation_of_gene_expression      4\n",
              "inactivation                                4\n",
              "Name: event_type, dtype: int64"
            ]
          },
          "metadata": {},
          "execution_count": 37
        }
      ]
    },
    {
      "cell_type": "code",
      "metadata": {
        "colab": {
          "base_uri": "https://localhost:8080/",
          "height": 453
        },
        "id": "POBejy71_n4e",
        "outputId": "09e34e78-1e44-4cad-d1a2-20db0dace5e3"
      },
      "source": [
        "grouped_events = final.groupby(['dataset', 'event_type', 'range_len']).count()\n",
        "grouped_events"
      ],
      "execution_count": null,
      "outputs": [
        {
          "output_type": "execute_result",
          "data": {
            "text/html": [
              "<div>\n",
              "<style scoped>\n",
              "    .dataframe tbody tr th:only-of-type {\n",
              "        vertical-align: middle;\n",
              "    }\n",
              "\n",
              "    .dataframe tbody tr th {\n",
              "        vertical-align: top;\n",
              "    }\n",
              "\n",
              "    .dataframe thead th {\n",
              "        text-align: right;\n",
              "    }\n",
              "</style>\n",
              "<table border=\"1\" class=\"dataframe\">\n",
              "  <thead>\n",
              "    <tr style=\"text-align: right;\">\n",
              "      <th></th>\n",
              "      <th></th>\n",
              "      <th></th>\n",
              "      <th>directed</th>\n",
              "      <th>multigraph</th>\n",
              "      <th>graph</th>\n",
              "      <th>nodes</th>\n",
              "      <th>links</th>\n",
              "      <th>len</th>\n",
              "    </tr>\n",
              "    <tr>\n",
              "      <th>dataset</th>\n",
              "      <th>event_type</th>\n",
              "      <th>range_len</th>\n",
              "      <th></th>\n",
              "      <th></th>\n",
              "      <th></th>\n",
              "      <th></th>\n",
              "      <th></th>\n",
              "      <th></th>\n",
              "    </tr>\n",
              "  </thead>\n",
              "  <tbody>\n",
              "    <tr>\n",
              "      <th rowspan=\"5\" valign=\"top\">cg</th>\n",
              "      <th rowspan=\"3\" valign=\"top\">binding</th>\n",
              "      <th>2</th>\n",
              "      <td>4</td>\n",
              "      <td>4</td>\n",
              "      <td>4</td>\n",
              "      <td>4</td>\n",
              "      <td>4</td>\n",
              "      <td>4</td>\n",
              "    </tr>\n",
              "    <tr>\n",
              "      <th>3</th>\n",
              "      <td>4</td>\n",
              "      <td>4</td>\n",
              "      <td>4</td>\n",
              "      <td>4</td>\n",
              "      <td>4</td>\n",
              "      <td>4</td>\n",
              "    </tr>\n",
              "    <tr>\n",
              "      <th>4</th>\n",
              "      <td>4</td>\n",
              "      <td>4</td>\n",
              "      <td>4</td>\n",
              "      <td>4</td>\n",
              "      <td>4</td>\n",
              "      <td>4</td>\n",
              "    </tr>\n",
              "    <tr>\n",
              "      <th>blood_vessel_development</th>\n",
              "      <th>2</th>\n",
              "      <td>4</td>\n",
              "      <td>4</td>\n",
              "      <td>4</td>\n",
              "      <td>4</td>\n",
              "      <td>4</td>\n",
              "      <td>4</td>\n",
              "    </tr>\n",
              "    <tr>\n",
              "      <th>breakdown</th>\n",
              "      <th>2</th>\n",
              "      <td>4</td>\n",
              "      <td>4</td>\n",
              "      <td>4</td>\n",
              "      <td>4</td>\n",
              "      <td>4</td>\n",
              "      <td>4</td>\n",
              "    </tr>\n",
              "    <tr>\n",
              "      <th>...</th>\n",
              "      <th>...</th>\n",
              "      <th>...</th>\n",
              "      <td>...</td>\n",
              "      <td>...</td>\n",
              "      <td>...</td>\n",
              "      <td>...</td>\n",
              "      <td>...</td>\n",
              "      <td>...</td>\n",
              "    </tr>\n",
              "    <tr>\n",
              "      <th rowspan=\"5\" valign=\"top\">st09</th>\n",
              "      <th rowspan=\"3\" valign=\"top\">regulation</th>\n",
              "      <th>5</th>\n",
              "      <td>4</td>\n",
              "      <td>4</td>\n",
              "      <td>4</td>\n",
              "      <td>4</td>\n",
              "      <td>4</td>\n",
              "      <td>4</td>\n",
              "    </tr>\n",
              "    <tr>\n",
              "      <th>6</th>\n",
              "      <td>4</td>\n",
              "      <td>4</td>\n",
              "      <td>4</td>\n",
              "      <td>4</td>\n",
              "      <td>4</td>\n",
              "      <td>4</td>\n",
              "    </tr>\n",
              "    <tr>\n",
              "      <th>7</th>\n",
              "      <td>4</td>\n",
              "      <td>4</td>\n",
              "      <td>4</td>\n",
              "      <td>4</td>\n",
              "      <td>4</td>\n",
              "      <td>4</td>\n",
              "    </tr>\n",
              "    <tr>\n",
              "      <th rowspan=\"2\" valign=\"top\">transcription</th>\n",
              "      <th>2</th>\n",
              "      <td>4</td>\n",
              "      <td>4</td>\n",
              "      <td>4</td>\n",
              "      <td>4</td>\n",
              "      <td>4</td>\n",
              "      <td>4</td>\n",
              "    </tr>\n",
              "    <tr>\n",
              "      <th>3</th>\n",
              "      <td>4</td>\n",
              "      <td>4</td>\n",
              "      <td>4</td>\n",
              "      <td>4</td>\n",
              "      <td>4</td>\n",
              "      <td>4</td>\n",
              "    </tr>\n",
              "  </tbody>\n",
              "</table>\n",
              "<p>304 rows × 6 columns</p>\n",
              "</div>"
            ],
            "text/plain": [
              "                                            directed  multigraph  ...  links  len\n",
              "dataset event_type               range_len                        ...            \n",
              "cg      binding                  2                 4           4  ...      4    4\n",
              "                                 3                 4           4  ...      4    4\n",
              "                                 4                 4           4  ...      4    4\n",
              "        blood_vessel_development 2                 4           4  ...      4    4\n",
              "        breakdown                2                 4           4  ...      4    4\n",
              "...                                              ...         ...  ...    ...  ...\n",
              "st09    regulation               5                 4           4  ...      4    4\n",
              "                                 6                 4           4  ...      4    4\n",
              "                                 7                 4           4  ...      4    4\n",
              "        transcription            2                 4           4  ...      4    4\n",
              "                                 3                 4           4  ...      4    4\n",
              "\n",
              "[304 rows x 6 columns]"
            ]
          },
          "metadata": {},
          "execution_count": 38
        }
      ]
    },
    {
      "cell_type": "code",
      "metadata": {
        "colab": {
          "base_uri": "https://localhost:8080/",
          "height": 685
        },
        "id": "yP_Jq1x4tXiM",
        "outputId": "4861652d-f289-4772-bc8a-d6942cc245aa"
      },
      "source": [
        "final['event_type'].value_counts().plot.pie(radius=3.3)"
      ],
      "execution_count": null,
      "outputs": [
        {
          "output_type": "execute_result",
          "data": {
            "text/plain": [
              "<matplotlib.axes._subplots.AxesSubplot at 0x7f1c50f78310>"
            ]
          },
          "metadata": {},
          "execution_count": 39
        },
        {
          "output_type": "display_data",
          "data": {
            "image/png": "[encoded data removed]",
            "text/plain": [
              "<Figure size 432x288 with 1 Axes>"
            ]
          },
          "metadata": {}
        }
      ]
    },
    {
      "cell_type": "markdown",
      "metadata": {
        "id": "-p-4Lhk-dUby"
      },
      "source": [
        "## Writing sampled event graphs on a file"
      ]
    },
    {
      "cell_type": "code",
      "metadata": {
        "id": "6CVj9fIefG5e"
      },
      "source": [
        "r = final.copy()\n",
        "r = r.drop(columns=['event_type', 'dataset', 'len', 'range_len'])\n",
        "r = r.to_dict(orient='records')\n",
        "with open(DIR + 'stratified_1000_all.json', 'w') as outfile:\n",
        "    json.dump(r, outfile)"
      ],
      "execution_count": null,
      "outputs": []
    }
  ]
}