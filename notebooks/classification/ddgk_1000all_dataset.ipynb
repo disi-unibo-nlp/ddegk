{
  "cells": [
    {
      "cell_type": "markdown",
      "metadata": {
        "id": "jGWxEpR5x0sP"
      },
      "source": [
        "# Dataset classification"
      ]
    },
    {
      "cell_type": "markdown",
      "metadata": {
        "id": "njiKB3zuxnEY"
      },
      "source": [
        "##Imports"
      ]
    },
    {
      "cell_type": "code",
      "execution_count": null,
      "metadata": {
        "id": "Kn-oCgbLTit2"
      },
      "outputs": [],
      "source": [
        "import json\n",
        "import pandas as pd\n",
        "import numpy as np\n",
        "import csv\n",
        "import sklearn\n",
        "from sklearn.model_selection import StratifiedKFold\n",
        "from sklearn.pipeline import Pipeline\n",
        "from sklearn.svm import SVC\n",
        "from sklearn.model_selection import GridSearchCV\n",
        "from sklearn.preprocessing import StandardScaler\n",
        "from sklearn.metrics import confusion_matrix\n",
        "from sklearn.metrics import precision_score, recall_score, f1_score, mean_squared_error\n",
        "from scipy import stats\n",
        "from sklearn.model_selection import train_test_split\n",
        "import joblib\n",
        "import sys"
      ]
    },
    {
      "cell_type": "markdown",
      "metadata": {
        "id": "oyRMf0a1xXAr"
      },
      "source": [
        "## Loading"
      ]
    },
    {
      "cell_type": "markdown",
      "metadata": {
        "id": "RIVjo2XA3snp"
      },
      "source": [
        "### Event embeddings and anchors"
      ]
    },
    {
      "cell_type": "code",
      "execution_count": null,
      "metadata": {
        "id": "5JwSI33BTit4"
      },
      "outputs": [],
      "source": [
        "with open('all.json') as ff:\n",
        "    data = list(map(json.loads, ff))\n",
        "for i in range(len(data)):\n",
        "    assert data[i]['idx'] == i"
      ]
    },
    {
      "cell_type": "code",
      "execution_count": null,
      "metadata": {
        "id": "VY023mN-Tit5"
      },
      "outputs": [],
      "source": [
        "prototypes = sorted(data[0]['embedding'].keys())\n",
        "for g in data:\n",
        "    assert prototypes == sorted(g['embedding'].keys())\n",
        "\n",
        "embeddings = [None] * len(data)\n",
        "for g in data:\n",
        "    embeddings[g['idx']] = [g['embedding'][i] for i in prototypes]\n",
        "assert all(x is not None for x in embeddings)"
      ]
    },
    {
      "cell_type": "code",
      "execution_count": null,
      "metadata": {
        "id": "p5KVNh4_1zCg"
      },
      "outputs": [],
      "source": [
        "dataset = pd.DataFrame(embeddings)"
      ]
    },
    {
      "cell_type": "markdown",
      "metadata": {
        "id": "yOVcPSrq3wfU"
      },
      "source": [
        "### Event types as classes"
      ]
    },
    {
      "cell_type": "code",
      "execution_count": null,
      "metadata": {
        "id": "LDvUWhp43yQu"
      },
      "outputs": [],
      "source": [
        "with open('../../stratified_samples/stratified_1000_all.json', 'r') as file:\n",
        "    classes = [g['graph']['dataset'] for g in json.load(file)]"
      ]
    },
    {
      "cell_type": "code",
      "execution_count": null,
      "metadata": {
        "id": "wT1Xhwgk2J74"
      },
      "outputs": [],
      "source": [
        "X = dataset.copy()\n",
        "y = classes.copy()"
      ]
    },
    {
      "cell_type": "markdown",
      "metadata": {
        "id": "OqXXG7YYyXcY"
      },
      "source": [
        "## Classification"
      ]
    },
    {
      "cell_type": "markdown",
      "metadata": {
        "id": "eKigvkcbyZKQ"
      },
      "source": [
        "###SVM"
      ]
    },
    {
      "cell_type": "code",
      "execution_count": null,
      "metadata": {
        "id": "t7R_pccF7E2S"
      },
      "outputs": [],
      "source": [
        "X_train, X_val, y_train, y_val = train_test_split(X, y, test_size=0.3, random_state=42, stratify=y)"
      ]
    },
    {
      "cell_type": "code",
      "execution_count": null,
      "metadata": {
        "id": "225g0dT2ybqB"
      },
      "outputs": [],
      "source": [
        "K = 10\n",
        "skf = StratifiedKFold(K, shuffle=True, random_state=42)"
      ]
    },
    {
      "cell_type": "code",
      "execution_count": null,
      "metadata": {
        "id": "K40yQBRP5ncV"
      },
      "outputs": [],
      "source": [
        "model = Pipeline([\n",
        "    (\"scaler\", StandardScaler()),\n",
        "    (\"svc\", SVC(random_state=42, max_iter=1_000_000))\n",
        "])\n",
        "\n",
        "grid = {\n",
        "  \"scaler\" : [None, StandardScaler()],  \n",
        "  \"svc__kernel\": [\"linear\", \"rbf\", \"poly\", \"sigmoid\"],\n",
        "  \"svc__C\": np.logspace(1, 9, 9)\n",
        "}"
      ]
    },
    {
      "cell_type": "code",
      "execution_count": null,
      "metadata": {
        "id": "YDcQk9dx5rjI",
        "outputId": "7691df47-c1c0-4c6e-d188-afa756b9b989"
      },
      "outputs": [
        {
          "name": "stdout",
          "output_type": "stream",
          "text": [
            "Wall time: 3min 35s\n"
          ]
        },
        {
          "data": {
            "text/plain": [
              "GridSearchCV(cv=StratifiedKFold(n_splits=10, random_state=42, shuffle=True),\n",
              "             estimator=Pipeline(steps=[('scaler', StandardScaler()),\n",
              "                                       ('svc',\n",
              "                                        SVC(max_iter=1000000,\n",
              "                                            random_state=42))]),\n",
              "             n_jobs=-1,\n",
              "             param_grid={'scaler': [None, StandardScaler()],\n",
              "                         'svc__C': array([1.e+01, 1.e+02, 1.e+03, 1.e+04, 1.e+05, 1.e+06, 1.e+07, 1.e+08,\n",
              "       1.e+09]),\n",
              "                         'svc__kernel': ['linear', 'rbf', 'poly', 'sigmoid']})"
            ]
          },
          "execution_count": 11,
          "metadata": {},
          "output_type": "execute_result"
        }
      ],
      "source": [
        "# training\n",
        "gs_svm = GridSearchCV(model, grid, cv=skf, n_jobs=-1)\n",
        "%time gs_svm.fit(X_train, y_train)"
      ]
    },
    {
      "cell_type": "code",
      "execution_count": null,
      "metadata": {
        "id": "8nrXhF8FmpmK",
        "outputId": "d872e974-c983-4665-eb9a-a220558d0ff9"
      },
      "outputs": [
        {
          "name": "stdout",
          "output_type": "stream",
          "text": [
            "Best parameters: {'scaler': StandardScaler(), 'svc__C': 100.0, 'svc__kernel': 'linear'}\n",
            "Accuracy on train 0.7038777908343126\n",
            "Accuracy on val 0.6054794520547945\n"
          ]
        }
      ],
      "source": [
        "print('Best parameters:', gs_svm.best_params_)  \n",
        "\n",
        "acc_train = gs_svm.score(X_train, y_train) \n",
        "acc_val = gs_svm.score(X_val, y_val)\n",
        "print(f'Accuracy on train {acc_train}')\n",
        "print(f'Accuracy on val {acc_val}')"
      ]
    },
    {
      "cell_type": "code",
      "execution_count": null,
      "metadata": {
        "id": "5hTVYU36mxcW",
        "outputId": "8073cfe5-09d6-4f6c-950c-2e7b43aba0c3"
      },
      "outputs": [
        {
          "data": {
            "text/html": [
              "<div>\n",
              "<style scoped>\n",
              "    .dataframe tbody tr th:only-of-type {\n",
              "        vertical-align: middle;\n",
              "    }\n",
              "\n",
              "    .dataframe tbody tr th {\n",
              "        vertical-align: top;\n",
              "    }\n",
              "\n",
              "    .dataframe thead th {\n",
              "        text-align: right;\n",
              "    }\n",
              "</style>\n",
              "<table border=\"1\" class=\"dataframe\">\n",
              "  <thead>\n",
              "    <tr style=\"text-align: right;\">\n",
              "      <th></th>\n",
              "      <th>cg</th>\n",
              "      <th>epi</th>\n",
              "      <th>ge11</th>\n",
              "      <th>ge13</th>\n",
              "      <th>gro13</th>\n",
              "      <th>id11</th>\n",
              "      <th>mlee</th>\n",
              "      <th>pc</th>\n",
              "      <th>st09</th>\n",
              "    </tr>\n",
              "  </thead>\n",
              "  <tbody>\n",
              "    <tr>\n",
              "      <th>cg</th>\n",
              "      <td>34</td>\n",
              "      <td>0</td>\n",
              "      <td>0</td>\n",
              "      <td>0</td>\n",
              "      <td>0</td>\n",
              "      <td>1</td>\n",
              "      <td>12</td>\n",
              "      <td>13</td>\n",
              "      <td>0</td>\n",
              "    </tr>\n",
              "    <tr>\n",
              "      <th>epi</th>\n",
              "      <td>0</td>\n",
              "      <td>28</td>\n",
              "      <td>2</td>\n",
              "      <td>0</td>\n",
              "      <td>0</td>\n",
              "      <td>0</td>\n",
              "      <td>0</td>\n",
              "      <td>0</td>\n",
              "      <td>0</td>\n",
              "    </tr>\n",
              "    <tr>\n",
              "      <th>ge11</th>\n",
              "      <td>0</td>\n",
              "      <td>3</td>\n",
              "      <td>12</td>\n",
              "      <td>7</td>\n",
              "      <td>0</td>\n",
              "      <td>1</td>\n",
              "      <td>0</td>\n",
              "      <td>0</td>\n",
              "      <td>19</td>\n",
              "    </tr>\n",
              "    <tr>\n",
              "      <th>ge13</th>\n",
              "      <td>0</td>\n",
              "      <td>2</td>\n",
              "      <td>9</td>\n",
              "      <td>10</td>\n",
              "      <td>0</td>\n",
              "      <td>2</td>\n",
              "      <td>0</td>\n",
              "      <td>0</td>\n",
              "      <td>7</td>\n",
              "    </tr>\n",
              "    <tr>\n",
              "      <th>gro13</th>\n",
              "      <td>0</td>\n",
              "      <td>0</td>\n",
              "      <td>0</td>\n",
              "      <td>0</td>\n",
              "      <td>40</td>\n",
              "      <td>0</td>\n",
              "      <td>0</td>\n",
              "      <td>0</td>\n",
              "      <td>0</td>\n",
              "    </tr>\n",
              "    <tr>\n",
              "      <th>id11</th>\n",
              "      <td>0</td>\n",
              "      <td>2</td>\n",
              "      <td>7</td>\n",
              "      <td>2</td>\n",
              "      <td>0</td>\n",
              "      <td>13</td>\n",
              "      <td>0</td>\n",
              "      <td>0</td>\n",
              "      <td>5</td>\n",
              "    </tr>\n",
              "    <tr>\n",
              "      <th>mlee</th>\n",
              "      <td>9</td>\n",
              "      <td>0</td>\n",
              "      <td>0</td>\n",
              "      <td>0</td>\n",
              "      <td>0</td>\n",
              "      <td>0</td>\n",
              "      <td>23</td>\n",
              "      <td>12</td>\n",
              "      <td>0</td>\n",
              "    </tr>\n",
              "    <tr>\n",
              "      <th>pc</th>\n",
              "      <td>2</td>\n",
              "      <td>0</td>\n",
              "      <td>0</td>\n",
              "      <td>0</td>\n",
              "      <td>0</td>\n",
              "      <td>0</td>\n",
              "      <td>2</td>\n",
              "      <td>48</td>\n",
              "      <td>0</td>\n",
              "    </tr>\n",
              "    <tr>\n",
              "      <th>st09</th>\n",
              "      <td>0</td>\n",
              "      <td>2</td>\n",
              "      <td>18</td>\n",
              "      <td>4</td>\n",
              "      <td>0</td>\n",
              "      <td>1</td>\n",
              "      <td>0</td>\n",
              "      <td>0</td>\n",
              "      <td>13</td>\n",
              "    </tr>\n",
              "  </tbody>\n",
              "</table>\n",
              "</div>"
            ],
            "text/plain": [
              "       cg  epi  ge11  ge13  gro13  id11  mlee  pc  st09\n",
              "cg     34    0     0     0      0     1    12  13     0\n",
              "epi     0   28     2     0      0     0     0   0     0\n",
              "ge11    0    3    12     7      0     1     0   0    19\n",
              "ge13    0    2     9    10      0     2     0   0     7\n",
              "gro13   0    0     0     0     40     0     0   0     0\n",
              "id11    0    2     7     2      0    13     0   0     5\n",
              "mlee    9    0     0     0      0     0    23  12     0\n",
              "pc      2    0     0     0      0     0     2  48     0\n",
              "st09    0    2    18     4      0     1     0   0    13"
            ]
          },
          "execution_count": 13,
          "metadata": {},
          "output_type": "execute_result"
        }
      ],
      "source": [
        "# confusion matrix\n",
        "y_pred = gs_svm.predict(X_val)\n",
        "cm = confusion_matrix(y_val, y_pred)\n",
        "pd.DataFrame(cm, index=gs_svm.best_estimator_.classes_, columns=gs_svm.best_estimator_.classes_)"
      ]
    },
    {
      "cell_type": "code",
      "execution_count": null,
      "metadata": {
        "id": "9RiWxUeLm-jA",
        "outputId": "c57c92dd-47a8-43cd-88f8-f086b1b05fc7"
      },
      "outputs": [
        {
          "name": "stdout",
          "output_type": "stream",
          "text": [
            "f1-score: 0.6012808560002124\n"
          ]
        }
      ],
      "source": [
        "f1 = f1_score(y_val, y_pred, average=\"weighted\")\n",
        "print(f\"f1-score: {f1}\")"
      ]
    },
    {
      "cell_type": "code",
      "execution_count": null,
      "metadata": {
        "id": "dOb5vzW4TiuC",
        "outputId": "c47ff550-a2f2-4bac-fcce-ff8fc45469f3"
      },
      "outputs": [
        {
          "name": "stdout",
          "output_type": "stream",
          "text": [
            "Wall time: 409 ms\n"
          ]
        },
        {
          "name": "stderr",
          "output_type": "stream",
          "text": [
            "C:\\Users\\eleon\\anaconda3\\envs\\venve\\lib\\site-packages\\sklearn\\linear_model\\_logistic.py:763: ConvergenceWarning: lbfgs failed to converge (status=1):\n",
            "STOP: TOTAL NO. of ITERATIONS REACHED LIMIT.\n",
            "\n",
            "Increase the number of iterations (max_iter) or scale the data as shown in:\n",
            "    https://scikit-learn.org/stable/modules/preprocessing.html\n",
            "Please also refer to the documentation for alternative solver options:\n",
            "    https://scikit-learn.org/stable/modules/linear_model.html#logistic-regression\n",
            "  n_iter_i = _check_optimize_result(\n"
          ]
        },
        {
          "data": {
            "text/plain": [
              "GridSearchCV(cv=StratifiedKFold(n_splits=10, random_state=42, shuffle=True),\n",
              "             estimator=Pipeline(steps=[('scaler', StandardScaler()),\n",
              "                                       ('lr',\n",
              "                                        LogisticRegression(random_state=42))]),\n",
              "             n_jobs=-1, param_grid={})"
            ]
          },
          "execution_count": 15,
          "metadata": {},
          "output_type": "execute_result"
        }
      ],
      "source": [
        "from sklearn.linear_model import LogisticRegression\n",
        "\n",
        "model = Pipeline([\n",
        "    (\"scaler\", StandardScaler()),\n",
        "    (\"lr\", LogisticRegression(random_state=42))\n",
        "])\n",
        "\n",
        "grid = {}\n",
        "\n",
        "gs_svm = GridSearchCV(model, grid, cv=skf, n_jobs=-1)\n",
        "%time gs_svm.fit(X_train, y_train)"
      ]
    },
    {
      "cell_type": "code",
      "execution_count": null,
      "metadata": {
        "id": "YVRiHgsDTiuD",
        "outputId": "faf7c51a-463a-4089-b4c7-d0722d865105"
      },
      "outputs": [
        {
          "name": "stdout",
          "output_type": "stream",
          "text": [
            "Accuracy on train 0.6392479435957696\n",
            "Accuracy on val 0.5506849315068493\n",
            "f1-score: 0.5392121730679921\n"
          ]
        }
      ],
      "source": [
        "y_pred = gs_svm.predict(X_val)\n",
        "\n",
        "acc_train = gs_svm.score(X_train, y_train) \n",
        "acc_val = gs_svm.score(X_val, y_val)\n",
        "print(f'Accuracy on train {acc_train}')\n",
        "print(f'Accuracy on val {acc_val}')\n",
        "\n",
        "f1 = f1_score(y_val, y_pred, average=\"weighted\")\n",
        "print(f\"f1-score: {f1}\")"
      ]
    }
  ],
  "metadata": {
    "colab": {
      "name": "ddgk_1000all_dataset.ipynb",
      "provenance": []
    },
    "kernelspec": {
      "display_name": "Python 3 (ipykernel)",
      "language": "python",
      "name": "python3"
    },
    "language_info": {
      "codemirror_mode": {
        "name": "ipython",
        "version": 3
      },
      "file_extension": ".py",
      "mimetype": "text/x-python",
      "name": "python",
      "nbconvert_exporter": "python",
      "pygments_lexer": "ipython3",
      "version": "3.8.11"
    }
  },
  "nbformat": 4,
  "nbformat_minor": 0
}