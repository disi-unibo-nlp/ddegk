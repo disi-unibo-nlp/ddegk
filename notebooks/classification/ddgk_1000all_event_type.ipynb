{
  "cells": [
    {
      "cell_type": "markdown",
      "metadata": {
        "id": "jGWxEpR5x0sP"
      },
      "source": [
        "# Event type classification"
      ]
    },
    {
      "cell_type": "markdown",
      "metadata": {
        "id": "njiKB3zuxnEY"
      },
      "source": [
        "##Imports"
      ]
    },
    {
      "cell_type": "code",
      "execution_count": null,
      "metadata": {
        "id": "Uc5GF0LOj2Dz"
      },
      "outputs": [],
      "source": [
        "import json\n",
        "import pandas as pd\n",
        "import numpy as np\n",
        "import csv\n",
        "import sklearn\n",
        "from sklearn.model_selection import StratifiedKFold\n",
        "from sklearn.pipeline import Pipeline\n",
        "from sklearn.svm import SVC\n",
        "from sklearn.model_selection import GridSearchCV\n",
        "from sklearn.preprocessing import StandardScaler\n",
        "from sklearn.metrics import confusion_matrix\n",
        "from sklearn.metrics import precision_score, recall_score, f1_score, mean_squared_error\n",
        "from scipy import stats\n",
        "from sklearn.model_selection import train_test_split\n",
        "import joblib\n",
        "import sys\n",
        "import networkx as nx"
      ]
    },
    {
      "cell_type": "markdown",
      "metadata": {
        "id": "oyRMf0a1xXAr"
      },
      "source": [
        "## Loading"
      ]
    },
    {
      "cell_type": "markdown",
      "metadata": {
        "id": "RIVjo2XA3snp"
      },
      "source": [
        "### Event embeddings and anchors"
      ]
    },
    {
      "cell_type": "code",
      "execution_count": null,
      "metadata": {
        "id": "lb5Ew23oRgzM"
      },
      "outputs": [],
      "source": [
        "with open('all.json') as ff:\n",
        "    data = list(map(json.loads, ff))\n",
        "for i in range(len(data)):\n",
        "    assert data[i]['idx'] == i"
      ]
    },
    {
      "cell_type": "code",
      "execution_count": null,
      "metadata": {
        "id": "AJb3KI3jRgzN"
      },
      "outputs": [],
      "source": [
        "prototypes = sorted(data[0]['embedding'].keys())\n",
        "for g in data:\n",
        "    assert prototypes == sorted(g['embedding'].keys())\n",
        "\n",
        "embeddings = [None] * len(data)\n",
        "for g in data:\n",
        "    embeddings[g['idx']] = [g['embedding'][i] for i in prototypes]\n",
        "assert all(x is not None for x in embeddings)"
      ]
    },
    {
      "cell_type": "code",
      "execution_count": null,
      "metadata": {
        "id": "2T2wLVACRgzP",
        "outputId": "a8981f04-d007-40b9-9a2e-2572cc9759c1"
      },
      "outputs": [
        {
          "data": {
            "text/plain": [
              "32"
            ]
          },
          "execution_count": 4,
          "metadata": {},
          "output_type": "execute_result"
        }
      ],
      "source": [
        "len(prototypes)"
      ]
    },
    {
      "cell_type": "code",
      "execution_count": null,
      "metadata": {
        "id": "p5KVNh4_1zCg"
      },
      "outputs": [],
      "source": [
        "dataset = pd.DataFrame(embeddings)"
      ]
    },
    {
      "cell_type": "code",
      "execution_count": null,
      "metadata": {
        "id": "tuEO2sYrRgzS",
        "outputId": "54db7055-6a52-490f-fa63-00a6fc0a4264"
      },
      "outputs": [
        {
          "data": {
            "text/html": [
              "<div>\n",
              "<style scoped>\n",
              "    .dataframe tbody tr th:only-of-type {\n",
              "        vertical-align: middle;\n",
              "    }\n",
              "\n",
              "    .dataframe tbody tr th {\n",
              "        vertical-align: top;\n",
              "    }\n",
              "\n",
              "    .dataframe thead th {\n",
              "        text-align: right;\n",
              "    }\n",
              "</style>\n",
              "<table border=\"1\" class=\"dataframe\">\n",
              "  <thead>\n",
              "    <tr style=\"text-align: right;\">\n",
              "      <th></th>\n",
              "      <th>0</th>\n",
              "      <th>1</th>\n",
              "      <th>2</th>\n",
              "      <th>3</th>\n",
              "      <th>4</th>\n",
              "      <th>5</th>\n",
              "      <th>6</th>\n",
              "      <th>7</th>\n",
              "      <th>8</th>\n",
              "      <th>9</th>\n",
              "      <th>...</th>\n",
              "      <th>22</th>\n",
              "      <th>23</th>\n",
              "      <th>24</th>\n",
              "      <th>25</th>\n",
              "      <th>26</th>\n",
              "      <th>27</th>\n",
              "      <th>28</th>\n",
              "      <th>29</th>\n",
              "      <th>30</th>\n",
              "      <th>31</th>\n",
              "    </tr>\n",
              "  </thead>\n",
              "  <tbody>\n",
              "    <tr>\n",
              "      <th>0</th>\n",
              "      <td>215.901003</td>\n",
              "      <td>216.309764</td>\n",
              "      <td>213.523169</td>\n",
              "      <td>161.595067</td>\n",
              "      <td>213.222548</td>\n",
              "      <td>213.328332</td>\n",
              "      <td>139.734635</td>\n",
              "      <td>212.444329</td>\n",
              "      <td>213.426005</td>\n",
              "      <td>216.583550</td>\n",
              "      <td>...</td>\n",
              "      <td>285.857375</td>\n",
              "      <td>284.059703</td>\n",
              "      <td>212.909830</td>\n",
              "      <td>213.546108</td>\n",
              "      <td>213.471410</td>\n",
              "      <td>179.341547</td>\n",
              "      <td>286.449943</td>\n",
              "      <td>135.692731</td>\n",
              "      <td>135.429587</td>\n",
              "      <td>162.814418</td>\n",
              "    </tr>\n",
              "    <tr>\n",
              "      <th>1</th>\n",
              "      <td>243.986593</td>\n",
              "      <td>243.872966</td>\n",
              "      <td>242.690744</td>\n",
              "      <td>191.457743</td>\n",
              "      <td>240.383261</td>\n",
              "      <td>242.334809</td>\n",
              "      <td>204.472943</td>\n",
              "      <td>242.080778</td>\n",
              "      <td>242.387419</td>\n",
              "      <td>243.592036</td>\n",
              "      <td>...</td>\n",
              "      <td>286.477682</td>\n",
              "      <td>283.863694</td>\n",
              "      <td>243.021083</td>\n",
              "      <td>242.645970</td>\n",
              "      <td>240.132782</td>\n",
              "      <td>208.710766</td>\n",
              "      <td>285.320822</td>\n",
              "      <td>164.487080</td>\n",
              "      <td>164.760553</td>\n",
              "      <td>162.666314</td>\n",
              "    </tr>\n",
              "    <tr>\n",
              "      <th>2</th>\n",
              "      <td>219.678998</td>\n",
              "      <td>219.986343</td>\n",
              "      <td>218.588290</td>\n",
              "      <td>161.837329</td>\n",
              "      <td>217.764351</td>\n",
              "      <td>218.632210</td>\n",
              "      <td>105.009719</td>\n",
              "      <td>218.548864</td>\n",
              "      <td>218.266195</td>\n",
              "      <td>219.199046</td>\n",
              "      <td>...</td>\n",
              "      <td>257.100417</td>\n",
              "      <td>256.232567</td>\n",
              "      <td>218.575548</td>\n",
              "      <td>218.657557</td>\n",
              "      <td>217.305159</td>\n",
              "      <td>185.309093</td>\n",
              "      <td>257.935326</td>\n",
              "      <td>63.308232</td>\n",
              "      <td>62.951722</td>\n",
              "      <td>84.342912</td>\n",
              "    </tr>\n",
              "    <tr>\n",
              "      <th>3</th>\n",
              "      <td>214.958109</td>\n",
              "      <td>214.410619</td>\n",
              "      <td>213.523838</td>\n",
              "      <td>161.996479</td>\n",
              "      <td>213.510981</td>\n",
              "      <td>213.275588</td>\n",
              "      <td>139.005606</td>\n",
              "      <td>213.644129</td>\n",
              "      <td>213.720719</td>\n",
              "      <td>214.917097</td>\n",
              "      <td>...</td>\n",
              "      <td>257.967859</td>\n",
              "      <td>256.438120</td>\n",
              "      <td>213.354627</td>\n",
              "      <td>213.594662</td>\n",
              "      <td>174.630941</td>\n",
              "      <td>179.718875</td>\n",
              "      <td>256.653712</td>\n",
              "      <td>174.316705</td>\n",
              "      <td>175.009398</td>\n",
              "      <td>162.427797</td>\n",
              "    </tr>\n",
              "    <tr>\n",
              "      <th>4</th>\n",
              "      <td>223.845106</td>\n",
              "      <td>223.753555</td>\n",
              "      <td>223.633124</td>\n",
              "      <td>153.327309</td>\n",
              "      <td>223.627844</td>\n",
              "      <td>223.247642</td>\n",
              "      <td>77.586831</td>\n",
              "      <td>223.294104</td>\n",
              "      <td>223.462733</td>\n",
              "      <td>223.708567</td>\n",
              "      <td>...</td>\n",
              "      <td>236.212629</td>\n",
              "      <td>234.102600</td>\n",
              "      <td>222.594378</td>\n",
              "      <td>223.408114</td>\n",
              "      <td>223.517863</td>\n",
              "      <td>181.915837</td>\n",
              "      <td>235.871011</td>\n",
              "      <td>125.739669</td>\n",
              "      <td>126.295838</td>\n",
              "      <td>103.009140</td>\n",
              "    </tr>\n",
              "  </tbody>\n",
              "</table>\n",
              "<p>5 rows × 32 columns</p>\n",
              "</div>"
            ],
            "text/plain": [
              "           0           1           2           3           4           5   \\\n",
              "0  215.901003  216.309764  213.523169  161.595067  213.222548  213.328332   \n",
              "1  243.986593  243.872966  242.690744  191.457743  240.383261  242.334809   \n",
              "2  219.678998  219.986343  218.588290  161.837329  217.764351  218.632210   \n",
              "3  214.958109  214.410619  213.523838  161.996479  213.510981  213.275588   \n",
              "4  223.845106  223.753555  223.633124  153.327309  223.627844  223.247642   \n",
              "\n",
              "           6           7           8           9   ...          22  \\\n",
              "0  139.734635  212.444329  213.426005  216.583550  ...  285.857375   \n",
              "1  204.472943  242.080778  242.387419  243.592036  ...  286.477682   \n",
              "2  105.009719  218.548864  218.266195  219.199046  ...  257.100417   \n",
              "3  139.005606  213.644129  213.720719  214.917097  ...  257.967859   \n",
              "4   77.586831  223.294104  223.462733  223.708567  ...  236.212629   \n",
              "\n",
              "           23          24          25          26          27          28  \\\n",
              "0  284.059703  212.909830  213.546108  213.471410  179.341547  286.449943   \n",
              "1  283.863694  243.021083  242.645970  240.132782  208.710766  285.320822   \n",
              "2  256.232567  218.575548  218.657557  217.305159  185.309093  257.935326   \n",
              "3  256.438120  213.354627  213.594662  174.630941  179.718875  256.653712   \n",
              "4  234.102600  222.594378  223.408114  223.517863  181.915837  235.871011   \n",
              "\n",
              "           29          30          31  \n",
              "0  135.692731  135.429587  162.814418  \n",
              "1  164.487080  164.760553  162.666314  \n",
              "2   63.308232   62.951722   84.342912  \n",
              "3  174.316705  175.009398  162.427797  \n",
              "4  125.739669  126.295838  103.009140  \n",
              "\n",
              "[5 rows x 32 columns]"
            ]
          },
          "execution_count": 6,
          "metadata": {},
          "output_type": "execute_result"
        }
      ],
      "source": [
        "dataset.head()"
      ]
    },
    {
      "cell_type": "markdown",
      "metadata": {
        "id": "yOVcPSrq3wfU"
      },
      "source": [
        "### Event types as classes"
      ]
    },
    {
      "cell_type": "code",
      "execution_count": null,
      "metadata": {
        "id": "LDvUWhp43yQu"
      },
      "outputs": [],
      "source": [
        "with open('../../stratified_samples/stratified_1000_all.json', 'r') as file:\n",
        "    graphs = [nx.node_link_graph(g) for g in json.load(file)]\n",
        "    roots = [g.graph['root'] for g in graphs]\n",
        "    nodes_list = [list(g.nodes.data('type')) for g in graphs]\n",
        "    classes = [n[1] for i in range(len(graphs)) for n in nodes_list[i] if n[0]== roots[i]] "
      ]
    },
    {
      "cell_type": "code",
      "execution_count": null,
      "metadata": {
        "id": "wT1Xhwgk2J74"
      },
      "outputs": [],
      "source": [
        "X = dataset.copy()\n",
        "y = classes.copy()"
      ]
    },
    {
      "cell_type": "markdown",
      "metadata": {
        "id": "OqXXG7YYyXcY"
      },
      "source": [
        "## Classification"
      ]
    },
    {
      "cell_type": "markdown",
      "metadata": {
        "id": "eKigvkcbyZKQ"
      },
      "source": [
        "###SVM"
      ]
    },
    {
      "cell_type": "code",
      "execution_count": null,
      "metadata": {
        "id": "t7R_pccF7E2S"
      },
      "outputs": [],
      "source": [
        "X_train, X_val, y_train, y_val = train_test_split(X, y, test_size=0.3, random_state=42, stratify=y)"
      ]
    },
    {
      "cell_type": "code",
      "execution_count": null,
      "metadata": {
        "id": "225g0dT2ybqB"
      },
      "outputs": [],
      "source": [
        "K = 10\n",
        "skf = StratifiedKFold(K, shuffle=True, random_state=42)"
      ]
    },
    {
      "cell_type": "code",
      "execution_count": null,
      "metadata": {
        "id": "K40yQBRP5ncV"
      },
      "outputs": [],
      "source": [
        "model = Pipeline([\n",
        "    (\"scaler\", StandardScaler()),\n",
        "    (\"svc\", SVC(random_state=42, max_iter=1_000_000))\n",
        "])\n",
        "\n",
        "grid = {\n",
        "  \"scaler\" : [None, StandardScaler()],  \n",
        "  \"svc__kernel\": [\"linear\", \"rbf\", \"poly\", \"sigmoid\"],\n",
        "  \"svc__C\": np.logspace(1, 9, 9)\n",
        "}"
      ]
    },
    {
      "cell_type": "code",
      "execution_count": null,
      "metadata": {
        "id": "YDcQk9dx5rjI",
        "outputId": "0d5f83cc-2551-47a1-8b3c-f6c5f42c5ce0"
      },
      "outputs": [
        {
          "name": "stderr",
          "output_type": "stream",
          "text": [
            "C:\\Users\\eleon\\anaconda3\\envs\\venve\\lib\\site-packages\\sklearn\\model_selection\\_split.py:666: UserWarning: The least populated class in y has only 3 members, which is less than n_splits=10.\n",
            "  warnings.warn((\"The least populated class in y has only %d\"\n"
          ]
        },
        {
          "name": "stdout",
          "output_type": "stream",
          "text": [
            "Wall time: 29.7 s\n"
          ]
        },
        {
          "data": {
            "text/plain": [
              "GridSearchCV(cv=StratifiedKFold(n_splits=10, random_state=42, shuffle=True),\n",
              "             estimator=Pipeline(steps=[('scaler', StandardScaler()),\n",
              "                                       ('svc',\n",
              "                                        SVC(max_iter=1000000,\n",
              "                                            random_state=42))]),\n",
              "             n_jobs=-1,\n",
              "             param_grid={'scaler': [None, StandardScaler()],\n",
              "                         'svc__C': array([1.e+01, 1.e+02, 1.e+03, 1.e+04, 1.e+05, 1.e+06, 1.e+07, 1.e+08,\n",
              "       1.e+09]),\n",
              "                         'svc__kernel': ['linear', 'rbf', 'poly', 'sigmoid']})"
            ]
          },
          "execution_count": 12,
          "metadata": {},
          "output_type": "execute_result"
        }
      ],
      "source": [
        "# training\n",
        "gs_svm = GridSearchCV(model, grid, cv=skf, n_jobs=-1)\n",
        "%time gs_svm.fit(X_train, y_train)"
      ]
    },
    {
      "cell_type": "code",
      "execution_count": null,
      "metadata": {
        "id": "8nrXhF8FmpmK",
        "outputId": "922e40a4-a524-4b11-91a3-c85c60a056ff"
      },
      "outputs": [
        {
          "name": "stdout",
          "output_type": "stream",
          "text": [
            "Best parameters: {'scaler': None, 'svc__C': 100.0, 'svc__kernel': 'poly'}\n",
            "Accuracy on train 0.982373678025852\n",
            "Accuracy on val 0.8191780821917808\n"
          ]
        }
      ],
      "source": [
        "print('Best parameters:', gs_svm.best_params_)  \n",
        "\n",
        "acc_train = gs_svm.score(X_train, y_train) \n",
        "acc_val = gs_svm.score(X_val, y_val)\n",
        "print(f'Accuracy on train {acc_train}')\n",
        "print(f'Accuracy on val {acc_val}')"
      ]
    },
    {
      "cell_type": "code",
      "execution_count": null,
      "metadata": {
        "id": "5hTVYU36mxcW"
      },
      "outputs": [],
      "source": [
        "y_pred = gs_svm.predict(X_val)"
      ]
    },
    {
      "cell_type": "code",
      "execution_count": null,
      "metadata": {
        "id": "9RiWxUeLm-jA",
        "outputId": "bd96b38a-9626-4825-f18d-a801a2be1708"
      },
      "outputs": [
        {
          "name": "stdout",
          "output_type": "stream",
          "text": [
            "f1-score: 0.8104892779733482\n"
          ]
        }
      ],
      "source": [
        "f1 = f1_score(y_val, y_pred, average=\"weighted\")\n",
        "print(f\"f1-score: {f1}\")"
      ]
    },
    {
      "cell_type": "code",
      "execution_count": null,
      "metadata": {
        "id": "ABzRYqCgRg0J",
        "outputId": "45bdec31-7fa3-4b1c-cf16-0e74d1a9b3d2"
      },
      "outputs": [
        {
          "name": "stderr",
          "output_type": "stream",
          "text": [
            "C:\\Users\\eleon\\anaconda3\\envs\\venve\\lib\\site-packages\\sklearn\\model_selection\\_split.py:666: UserWarning: The least populated class in y has only 3 members, which is less than n_splits=10.\n",
            "  warnings.warn((\"The least populated class in y has only %d\"\n"
          ]
        },
        {
          "name": "stdout",
          "output_type": "stream",
          "text": [
            "Wall time: 52.3 s\n"
          ]
        },
        {
          "data": {
            "text/plain": [
              "GridSearchCV(cv=StratifiedKFold(n_splits=10, random_state=42, shuffle=True),\n",
              "             estimator=Pipeline(steps=[('scaler', StandardScaler()),\n",
              "                                       ('lr',\n",
              "                                        LogisticRegression(max_iter=1000000,\n",
              "                                                           random_state=42))]),\n",
              "             n_jobs=-1, param_grid={'scaler': [None, StandardScaler()]})"
            ]
          },
          "execution_count": 16,
          "metadata": {},
          "output_type": "execute_result"
        }
      ],
      "source": [
        "from sklearn.linear_model import LogisticRegression\n",
        "\n",
        "model = Pipeline([\n",
        "    (\"scaler\", StandardScaler()),\n",
        "    (\"lr\", LogisticRegression(random_state=42, max_iter=1_000_000))\n",
        "])\n",
        "\n",
        "grid = {'scaler': [None, StandardScaler()]}\n",
        "\n",
        "gs_svm = GridSearchCV(model, grid, cv=skf, n_jobs=-1)\n",
        "%time gs_svm.fit(X_train, y_train)"
      ]
    },
    {
      "cell_type": "code",
      "execution_count": null,
      "metadata": {
        "id": "QbBuHjBDRg0J",
        "outputId": "02c6b255-9438-47b4-8bce-039f161b431e"
      },
      "outputs": [
        {
          "name": "stdout",
          "output_type": "stream",
          "text": [
            "Accuracy on train 0.8495887191539365\n",
            "Accuracy on val 0.8246575342465754\n",
            "f1-score: 0.7971569048730222\n"
          ]
        }
      ],
      "source": [
        "y_pred = gs_svm.predict(X_val)\n",
        "\n",
        "acc_train = gs_svm.score(X_train, y_train) \n",
        "acc_val = gs_svm.score(X_val, y_val)\n",
        "print(f'Accuracy on train {acc_train}')\n",
        "print(f'Accuracy on val {acc_val}')\n",
        "\n",
        "f1 = f1_score(y_val, y_pred, average=\"weighted\")\n",
        "print(f\"f1-score: {f1}\")"
      ]
    }
  ],
  "metadata": {
    "colab": {
      "name": "ddgk_1000all_event_type.ipynb",
      "provenance": [],
      "toc_visible": true
    },
    "kernelspec": {
      "display_name": "Python 3 (ipykernel)",
      "language": "python",
      "name": "python3"
    },
    "language_info": {
      "codemirror_mode": {
        "name": "ipython",
        "version": 3
      },
      "file_extension": ".py",
      "mimetype": "text/x-python",
      "name": "python",
      "nbconvert_exporter": "python",
      "pygments_lexer": "ipython3",
      "version": "3.8.11"
    }
  },
  "nbformat": 4,
  "nbformat_minor": 0
}