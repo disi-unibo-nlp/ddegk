{
  "cells": [
    {
      "cell_type": "markdown",
      "metadata": {
        "id": "9oKuPDzE4vMW"
      },
      "source": [
        "# node2vec"
      ]
    },
    {
      "cell_type": "code",
      "execution_count": null,
      "metadata": {
        "colab": {
          "base_uri": "https://localhost:8080/"
        },
        "id": "TnVMTcjU5TV2",
        "outputId": "05979ffc-ce1a-4f85-ba7c-f20ee7e8c1e6"
      },
      "outputs": [
        {
          "name": "stdout",
          "output_type": "stream",
          "text": [
            "Collecting karateclub\n",
            "  Downloading karateclub-1.2.2.tar.gz (62 kB)\n",
            "\u001b[K     |████████████████████████████████| 62 kB 709 kB/s \n",
            "\u001b[?25hRequirement already satisfied: numpy in /usr/local/lib/python3.7/dist-packages (from karateclub) (1.19.5)\n",
            "Requirement already satisfied: networkx in /usr/local/lib/python3.7/dist-packages (from karateclub) (2.6.3)\n",
            "Requirement already satisfied: decorator==4.4.2 in /usr/local/lib/python3.7/dist-packages (from karateclub) (4.4.2)\n",
            "Requirement already satisfied: tqdm in /usr/local/lib/python3.7/dist-packages (from karateclub) (4.62.3)\n",
            "Requirement already satisfied: python-louvain in /usr/local/lib/python3.7/dist-packages (from karateclub) (0.15)\n",
            "Requirement already satisfied: scikit-learn in /usr/local/lib/python3.7/dist-packages (from karateclub) (0.22.2.post1)\n",
            "Requirement already satisfied: scipy in /usr/local/lib/python3.7/dist-packages (from karateclub) (1.4.1)\n",
            "Collecting pygsp\n",
            "  Downloading PyGSP-0.5.1-py2.py3-none-any.whl (1.8 MB)\n",
            "\u001b[K     |████████████████████████████████| 1.8 MB 10.8 MB/s \n",
            "\u001b[?25hCollecting gensim>=4.0.0\n",
            "  Downloading gensim-4.1.2-cp37-cp37m-manylinux_2_12_x86_64.manylinux2010_x86_64.whl (24.1 MB)\n",
            "\u001b[K     |████████████████████████████████| 24.1 MB 1.7 MB/s \n",
            "\u001b[?25hRequirement already satisfied: pandas in /usr/local/lib/python3.7/dist-packages (from karateclub) (1.1.5)\n",
            "Requirement already satisfied: six in /usr/local/lib/python3.7/dist-packages (from karateclub) (1.15.0)\n",
            "Collecting python-Levenshtein\n",
            "  Downloading python-Levenshtein-0.12.2.tar.gz (50 kB)\n",
            "\u001b[K     |████████████████████████████████| 50 kB 7.4 MB/s \n",
            "\u001b[?25hRequirement already satisfied: smart-open>=1.8.1 in /usr/local/lib/python3.7/dist-packages (from gensim>=4.0.0->karateclub) (5.2.1)\n",
            "Requirement already satisfied: python-dateutil>=2.7.3 in /usr/local/lib/python3.7/dist-packages (from pandas->karateclub) (2.8.2)\n",
            "Requirement already satisfied: pytz>=2017.2 in /usr/local/lib/python3.7/dist-packages (from pandas->karateclub) (2018.9)\n",
            "Requirement already satisfied: setuptools in /usr/local/lib/python3.7/dist-packages (from python-Levenshtein->karateclub) (57.4.0)\n",
            "Requirement already satisfied: joblib>=0.11 in /usr/local/lib/python3.7/dist-packages (from scikit-learn->karateclub) (1.0.1)\n",
            "Building wheels for collected packages: karateclub, python-Levenshtein\n",
            "  Building wheel for karateclub (setup.py) ... \u001b[?25l\u001b[?25hdone\n",
            "  Created wheel for karateclub: filename=karateclub-1.2.2-py3-none-any.whl size=97744 sha256=1e1d19d5f8b985585c325a018a5b50048d750eeee46cfa96af9aadaca520c75b\n",
            "  Stored in directory: /root/.cache/pip/wheels/14/4b/99/abc777e42da28bc43b6959267f4f1c5eee06814a5c608a9ed2\n",
            "  Building wheel for python-Levenshtein (setup.py) ... \u001b[?25l\u001b[?25hdone\n",
            "  Created wheel for python-Levenshtein: filename=python_Levenshtein-0.12.2-cp37-cp37m-linux_x86_64.whl size=149865 sha256=f2d0039813dd68b3d2d305dc0f8e59c4e86e0ba647115860acb485c87817e63e\n",
            "  Stored in directory: /root/.cache/pip/wheels/05/5f/ca/7c4367734892581bb5ff896f15027a932c551080b2abd3e00d\n",
            "Successfully built karateclub python-Levenshtein\n",
            "Installing collected packages: python-Levenshtein, pygsp, gensim, karateclub\n",
            "  Attempting uninstall: gensim\n",
            "    Found existing installation: gensim 3.6.0\n",
            "    Uninstalling gensim-3.6.0:\n",
            "      Successfully uninstalled gensim-3.6.0\n",
            "Successfully installed gensim-4.1.2 karateclub-1.2.2 pygsp-0.5.1 python-Levenshtein-0.12.2\n"
          ]
        }
      ],
      "source": [
        "!pip install karateclub"
      ]
    },
    {
      "cell_type": "code",
      "execution_count": null,
      "metadata": {
        "id": "8paahlo_6yCn"
      },
      "outputs": [],
      "source": [
        "import numpy as np\n",
        "import networkx as nx\n",
        "from karateclub import DeepWalk, Walklets, HOPE, NetMF, Diff2Vec, GraRep, Node2Vec\n",
        "import json"
      ]
    },
    {
      "cell_type": "code",
      "execution_count": null,
      "metadata": {
        "id": "y4oF4-QDvjtP"
      },
      "outputs": [],
      "source": [
        " model = Node2Vec()"
      ]
    },
    {
      "cell_type": "code",
      "execution_count": null,
      "metadata": {
        "id": "tPaDrAJG9S9h"
      },
      "outputs": [],
      "source": [
        "DIR = 'path/'"
      ]
    },
    {
      "cell_type": "code",
      "execution_count": null,
      "metadata": {
        "id": "MmVNyk60q0DB"
      },
      "outputs": [],
      "source": [
        "fn = 'st09'"
      ]
    },
    {
      "cell_type": "code",
      "execution_count": null,
      "metadata": {
        "id": "jsiRUjok78qd"
      },
      "outputs": [],
      "source": [
        "with open(DIR + 'stratified_samples/' + fn + '_stratified_sample.json') as ff:\n",
        "  graphs = [nx.node_link_graph(g) for g in json.load(ff)]"
      ]
    },
    {
      "cell_type": "code",
      "execution_count": null,
      "metadata": {
        "id": "NiRMTJhR8y67"
      },
      "outputs": [],
      "source": [
        "# normalize nodes ids\n",
        "for graph in graphs:\n",
        "  mapping = {n: i for i,n in enumerate(graph.nodes)}\n",
        "  nx.relabel_nodes(graph, mapping, copy=False)\n",
        "  graph.graph['root'] = mapping[graph.graph['root']]"
      ]
    },
    {
      "cell_type": "code",
      "execution_count": null,
      "metadata": {
        "id": "atMGF7G56rwC"
      },
      "outputs": [],
      "source": [
        "embeddings = []\n",
        "for graph in graphs:\n",
        "  model = Node2Vec()\n",
        "  model.fit(graph)\n",
        "  embeddings.append(model.get_embedding())"
      ]
    },
    {
      "cell_type": "markdown",
      "metadata": {
        "id": "_4GUvAIC4cuz"
      },
      "source": [
        "## mean, sum, max"
      ]
    },
    {
      "cell_type": "code",
      "execution_count": null,
      "metadata": {
        "id": "zKeikrFE7JZH"
      },
      "outputs": [],
      "source": [
        "types = ['mean', 'max', 'sum']"
      ]
    },
    {
      "cell_type": "code",
      "execution_count": null,
      "metadata": {
        "id": "MHkioIJ6iEIg"
      },
      "outputs": [],
      "source": [
        "for t in types:\n",
        "  if t == ('mean'):\n",
        "    embs = [e.mean(0) for e in embeddings]\n",
        "  elif t == ('max'): \n",
        "    embs = [e.max(0) for e in embeddings]\n",
        "  else:\n",
        "    embs = [e.sum(0) for e in embeddings]\n",
        "\n",
        "  save = []\n",
        "  for i in range(len(embs)):\n",
        "    save.append({\n",
        "      'idx': i,\n",
        "      'embedding': embs[i].tolist()\n",
        "    })\n",
        "  # write the embeddings to file\n",
        "  with open(DIR + 'node2vec_' + t + '_1000' + fn + '.json', 'w') as outfile:\n",
        "    json.dump(save, outfile)"
      ]
    }
  ],
  "metadata": {
    "colab": {
      "name": "node2vec_embeddings.ipynb",
      "provenance": [],
      "toc_visible": true
    },
    "kernelspec": {
      "display_name": "Python 3",
      "language": "python",
      "name": "python3"
    },
    "language_info": {
      "codemirror_mode": {
        "name": "ipython",
        "version": 3
      },
      "file_extension": ".py",
      "mimetype": "text/x-python",
      "name": "python",
      "nbconvert_exporter": "python",
      "pygments_lexer": "ipython3",
      "version": "3.8.8"
    }
  },
  "nbformat": 4,
  "nbformat_minor": 0
}