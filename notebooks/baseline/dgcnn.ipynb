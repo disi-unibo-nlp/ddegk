{
  "cells": [
    {
      "cell_type": "markdown",
      "source": [
        "# DGCNN"
      ],
      "metadata": {
        "id": "2c9ygtzNN9fJ"
      }
    },
    {
      "cell_type": "markdown",
      "metadata": {
        "id": "7kQvtvNZlBen"
      },
      "source": [
        "## Imports"
      ]
    },
    {
      "cell_type": "code",
      "execution_count": null,
      "metadata": {
        "id": "_s4kUtDVUyhD"
      },
      "outputs": [],
      "source": [
        "fn = 'pc'"
      ]
    },
    {
      "cell_type": "code",
      "execution_count": null,
      "metadata": {
        "colab": {
          "base_uri": "https://localhost:8080/"
        },
        "id": "ISn_ky-RjB9v",
        "nbsphinx": "hidden",
        "outputId": "5c1da43f-39fb-4d78-c666-4dc7a00650af",
        "tags": [
          "CloudRunner"
        ]
      },
      "outputs": [
        {
          "name": "stdout",
          "output_type": "stream",
          "text": [
            "\u001b[?25l\r",
            "\u001b[K     |▊                               | 10 kB 18.1 MB/s eta 0:00:01\r",
            "\u001b[K     |█▌                              | 20 kB 12.6 MB/s eta 0:00:01\r",
            "\u001b[K     |██▎                             | 30 kB 9.0 MB/s eta 0:00:01\r",
            "\u001b[K     |███                             | 40 kB 8.0 MB/s eta 0:00:01\r",
            "\u001b[K     |███▊                            | 51 kB 5.4 MB/s eta 0:00:01\r",
            "\u001b[K     |████▌                           | 61 kB 5.5 MB/s eta 0:00:01\r",
            "\u001b[K     |█████▎                          | 71 kB 5.2 MB/s eta 0:00:01\r",
            "\u001b[K     |██████                          | 81 kB 5.8 MB/s eta 0:00:01\r",
            "\u001b[K     |██████▊                         | 92 kB 6.0 MB/s eta 0:00:01\r",
            "\u001b[K     |███████▌                        | 102 kB 5.2 MB/s eta 0:00:01\r",
            "\u001b[K     |████████▎                       | 112 kB 5.2 MB/s eta 0:00:01\r",
            "\u001b[K     |█████████                       | 122 kB 5.2 MB/s eta 0:00:01\r",
            "\u001b[K     |█████████▉                      | 133 kB 5.2 MB/s eta 0:00:01\r",
            "\u001b[K     |██████████▌                     | 143 kB 5.2 MB/s eta 0:00:01\r",
            "\u001b[K     |███████████▎                    | 153 kB 5.2 MB/s eta 0:00:01\r",
            "\u001b[K     |████████████                    | 163 kB 5.2 MB/s eta 0:00:01\r",
            "\u001b[K     |████████████▉                   | 174 kB 5.2 MB/s eta 0:00:01\r",
            "\u001b[K     |█████████████▌                  | 184 kB 5.2 MB/s eta 0:00:01\r",
            "\u001b[K     |██████████████▎                 | 194 kB 5.2 MB/s eta 0:00:01\r",
            "\u001b[K     |███████████████                 | 204 kB 5.2 MB/s eta 0:00:01\r",
            "\u001b[K     |███████████████▉                | 215 kB 5.2 MB/s eta 0:00:01\r",
            "\u001b[K     |████████████████▋               | 225 kB 5.2 MB/s eta 0:00:01\r",
            "\u001b[K     |█████████████████▎              | 235 kB 5.2 MB/s eta 0:00:01\r",
            "\u001b[K     |██████████████████              | 245 kB 5.2 MB/s eta 0:00:01\r",
            "\u001b[K     |██████████████████▉             | 256 kB 5.2 MB/s eta 0:00:01\r",
            "\u001b[K     |███████████████████▋            | 266 kB 5.2 MB/s eta 0:00:01\r",
            "\u001b[K     |████████████████████▎           | 276 kB 5.2 MB/s eta 0:00:01\r",
            "\u001b[K     |█████████████████████           | 286 kB 5.2 MB/s eta 0:00:01\r",
            "\u001b[K     |█████████████████████▉          | 296 kB 5.2 MB/s eta 0:00:01\r",
            "\u001b[K     |██████████████████████▋         | 307 kB 5.2 MB/s eta 0:00:01\r",
            "\u001b[K     |███████████████████████▍        | 317 kB 5.2 MB/s eta 0:00:01\r",
            "\u001b[K     |████████████████████████        | 327 kB 5.2 MB/s eta 0:00:01\r",
            "\u001b[K     |████████████████████████▉       | 337 kB 5.2 MB/s eta 0:00:01\r",
            "\u001b[K     |█████████████████████████▋      | 348 kB 5.2 MB/s eta 0:00:01\r",
            "\u001b[K     |██████████████████████████▍     | 358 kB 5.2 MB/s eta 0:00:01\r",
            "\u001b[K     |███████████████████████████     | 368 kB 5.2 MB/s eta 0:00:01\r",
            "\u001b[K     |███████████████████████████▉    | 378 kB 5.2 MB/s eta 0:00:01\r",
            "\u001b[K     |████████████████████████████▋   | 389 kB 5.2 MB/s eta 0:00:01\r",
            "\u001b[K     |█████████████████████████████▍  | 399 kB 5.2 MB/s eta 0:00:01\r",
            "\u001b[K     |██████████████████████████████▏ | 409 kB 5.2 MB/s eta 0:00:01\r",
            "\u001b[K     |██████████████████████████████▉ | 419 kB 5.2 MB/s eta 0:00:01\r",
            "\u001b[K     |███████████████████████████████▋| 430 kB 5.2 MB/s eta 0:00:01\r",
            "\u001b[K     |████████████████████████████████| 435 kB 5.2 MB/s \n",
            "\u001b[K     |████████████████████████████████| 407 kB 40.9 MB/s \n",
            "\u001b[K     |████████████████████████████████| 45 kB 3.3 MB/s \n",
            "\u001b[?25h  Building wheel for mplleaflet (setup.py) ... \u001b[?25l\u001b[?25hdone\n"
          ]
        }
      ],
      "source": [
        "# install StellarGraph if running on Google Colab\n",
        "import sys\n",
        "if 'google.colab' in sys.modules:\n",
        "  %pip install -q stellargraph[demos]==1.2.1"
      ]
    },
    {
      "cell_type": "code",
      "execution_count": null,
      "metadata": {
        "id": "3nclCx0pjB9y",
        "nbsphinx": "hidden",
        "tags": [
          "VersionCheck"
        ]
      },
      "outputs": [],
      "source": [
        "# verify that we're using the correct version of StellarGraph for this notebook\n",
        "import stellargraph as sg\n",
        "\n",
        "try:\n",
        "    sg.utils.validate_notebook_version(\"1.2.1\")\n",
        "except AttributeError:\n",
        "    raise ValueError(\n",
        "        f\"This notebook requires StellarGraph version 1.2.1, but a different version {sg.__version__} is installed.  Please see <https://github.com/stellargraph/stellargraph/issues/1172>.\"\n",
        "    ) from None"
      ]
    },
    {
      "cell_type": "code",
      "execution_count": null,
      "metadata": {
        "id": "hzIeiIIPjB9z"
      },
      "outputs": [],
      "source": [
        "import pandas as pd\n",
        "import numpy as np\n",
        "import json\n",
        "import networkx as nx\n",
        "\n",
        "import stellargraph as sg\n",
        "from stellargraph.mapper import PaddedGraphGenerator\n",
        "from stellargraph.layer import DeepGraphCNN\n",
        "from stellargraph import StellarGraph\n",
        "\n",
        "from stellargraph import datasets\n",
        "\n",
        "from sklearn import model_selection\n",
        "from IPython.display import display, HTML\n",
        "\n",
        "from tensorflow.keras import Model\n",
        "from tensorflow.keras.optimizers import Adam\n",
        "from tensorflow.keras.layers import Dense, Conv1D, MaxPool1D, Dropout, Flatten\n",
        "from tensorflow.keras.losses import binary_crossentropy\n",
        "import tensorflow as tf"
      ]
    },
    {
      "cell_type": "markdown",
      "metadata": {
        "id": "6wfz6uEsjB91"
      },
      "source": [
        "## StellarGraph"
      ]
    },
    {
      "cell_type": "markdown",
      "metadata": {
        "id": "K0fSJonCoVc0"
      },
      "source": [
        "Loading of the dataset. Each graph is converted to a **networkx** graph  and then to a **stellargraph**."
      ]
    },
    {
      "cell_type": "code",
      "execution_count": null,
      "metadata": {
        "id": "gvvvyQJb4a_b"
      },
      "outputs": [],
      "source": [
        "DIR = ''"
      ]
    },
    {
      "cell_type": "code",
      "execution_count": null,
      "metadata": {
        "id": "0eTol7zkpNpx"
      },
      "outputs": [],
      "source": [
        "with open(DIR+ 'stratified_samples/' + fn + '_stratified_sample.json', 'r') as file:\n",
        "    graphs = [nx.node_link_graph(g) for g in json.load(file)]\n",
        "    roots = [g.graph['root'] for g in graphs]\n",
        "    nodes_list = [list(g.nodes.data('type')) for g in graphs]\n",
        "    graph_labels = [n[1] for i in range(len(graphs)) for n in nodes_list[i] if n[0]== roots[i]] "
      ]
    },
    {
      "cell_type": "code",
      "execution_count": null,
      "metadata": {
        "id": "OHUgpy_Rx3BN"
      },
      "outputs": [],
      "source": [
        "# normalize nodes ids\n",
        "for graph in graphs:\n",
        "  mapping = {n: i for i,n in enumerate(graph.nodes)}\n",
        "  nx.relabel_nodes(graph, mapping, copy=False)\n",
        "\n",
        "# normalize node labels (type)\n",
        "all_node_labels = sorted(set(t for g in graphs for _,t in g.nodes.data('type')))\n",
        "mapping = pd.get_dummies(pd.Series(all_node_labels))\n",
        "for graph in graphs:\n",
        "  for n,t in graph.nodes.data('type'):\n",
        "    graph.nodes[n]['feature'] = mapping[t]"
      ]
    },
    {
      "cell_type": "code",
      "execution_count": null,
      "metadata": {
        "id": "TdDdYZpfq0R_"
      },
      "outputs": [],
      "source": [
        "graph_labels = pd.Series(graph_labels)"
      ]
    },
    {
      "cell_type": "code",
      "execution_count": null,
      "metadata": {
        "id": "ASL3DJNVgroO"
      },
      "outputs": [],
      "source": [
        "stellar_graphs = [StellarGraph.from_networkx(graphs[i], node_features=\"feature\", edge_type_attr=\"key\") for i in range(len(graphs))]"
      ]
    },
    {
      "cell_type": "markdown",
      "metadata": {
        "id": "jJAHP8ZgQREh"
      },
      "source": [
        "Saving dataset label for each graph"
      ]
    },
    {
      "cell_type": "code",
      "execution_count": null,
      "metadata": {
        "id": "joOE8_23rbbR"
      },
      "outputs": [],
      "source": [
        "graph_labels = pd.get_dummies(graph_labels, drop_first=True)"
      ]
    },
    {
      "cell_type": "markdown",
      "metadata": {
        "id": "WYmefr7ZjB-J"
      },
      "source": [
        "### Prepare graph generator\n",
        "\n",
        "To feed data to the `tf.Keras` model that we will create later, we need a data generator. For supervised graph classification, we create an instance of `StellarGraph`'s `PaddedGraphGenerator` class."
      ]
    },
    {
      "cell_type": "code",
      "execution_count": null,
      "metadata": {
        "id": "izMyLe67jB-J"
      },
      "outputs": [],
      "source": [
        "generator = PaddedGraphGenerator(graphs=stellar_graphs)"
      ]
    },
    {
      "cell_type": "markdown",
      "metadata": {
        "id": "_syPBD5ujB-L"
      },
      "source": [
        "### Create the Keras graph classification model\n",
        "\n",
        "We are now ready to create a `tf.Keras` graph classification model using `StellarGraph`'s `DeepGraphCNN` class together with standard `tf.Keras` layers `Conv1D`, `MapPool1D`, `Dropout`, and `Dense`. \n",
        "\n",
        "The model's input is the graph represented by its adjacency and node features matrices. The first four layers are Graph Convolutional as in [2] but using the adjacency normalisation from [1], $D^{-1}A$ where $A$ is the adjacency matrix with self loops and $D$ is the corresponding degree matrix. The graph convolutional layers each have 32, 32, 32, 1 units and `tanh` activations. \n",
        "\n",
        "The next layer is a one dimensional convolutional layer, `Conv1D`, followed by a max pooling, `MaxPool1D`, layer. Next is a second `Conv1D` layer that is followed by two `Dense` layers the second used for binary classification. The convolutional and dense layers use `relu` activation except for the last dense layer that uses `sigmoid` for classification. As described in [1], we add a `Dropout` layer after the first `Dense` layer."
      ]
    },
    {
      "cell_type": "markdown",
      "metadata": {
        "id": "2MqlLIQUjB-M"
      },
      "source": [
        "First we create the base DGCNN model that includes the graph convolutional and `SortPooling` layers."
      ]
    },
    {
      "cell_type": "code",
      "execution_count": null,
      "metadata": {
        "colab": {
          "base_uri": "https://localhost:8080/"
        },
        "id": "8eydqsdVjB-N",
        "outputId": "72291f80-a585-4669-f11e-e93d053d5163"
      },
      "outputs": [
        {
          "name": "stdout",
          "output_type": "stream",
          "text": [
            "WARNING:tensorflow:From /usr/local/lib/python3.7/dist-packages/tensorflow/python/util/deprecation.py:617: calling map_fn_v2 (from tensorflow.python.ops.map_fn) with dtype is deprecated and will be removed in a future version.\n",
            "Instructions for updating:\n",
            "Use fn_output_signature instead\n"
          ]
        }
      ],
      "source": [
        "k = 35  # the number of rows for the output tensor\n",
        "layer_sizes = [32, 32, 32, 10]\n",
        "\n",
        "dgcnn_model = DeepGraphCNN(\n",
        "    layer_sizes=layer_sizes,\n",
        "    activations=[\"tanh\", \"tanh\", \"tanh\", \"tanh\"],\n",
        "    k=k,\n",
        "    bias=False,\n",
        "    generator=generator,\n",
        ")\n",
        "x_inp, x_out = dgcnn_model.in_out_tensors()"
      ]
    },
    {
      "cell_type": "markdown",
      "metadata": {
        "id": "4ekxeuIijB-O"
      },
      "source": [
        "Next, we add the convolutional, max pooling, and dense layers."
      ]
    },
    {
      "cell_type": "code",
      "execution_count": null,
      "metadata": {
        "id": "Y-GcLg3sjB-O"
      },
      "outputs": [],
      "source": [
        "x_out = Conv1D(filters=16, kernel_size=sum(layer_sizes), strides=sum(layer_sizes))(x_out)\n",
        "x_out = MaxPool1D(pool_size=2)(x_out)\n",
        "\n",
        "x_out = Conv1D(filters=32, kernel_size=5, strides=1)(x_out)\n",
        "\n",
        "x_out = Flatten()(x_out)\n",
        "\n",
        "x_out = Dense(units=128, activation=\"relu\")(x_out) \n",
        "x_out = Dropout(rate=0.5)(x_out)\n",
        "\n",
        "predictions = Dense(units=1, activation=\"sigmoid\")(x_out)"
      ]
    },
    {
      "cell_type": "markdown",
      "metadata": {
        "id": "s5LFA5D8jB-P"
      },
      "source": [
        "Finally, we create the `Keras` model and prepare it for training by specifying the loss and optimisation algorithm."
      ]
    },
    {
      "cell_type": "code",
      "execution_count": null,
      "metadata": {
        "colab": {
          "base_uri": "https://localhost:8080/"
        },
        "id": "DZv7RKpmjB-Q",
        "outputId": "18467ee6-eeee-4a17-c897-77a51d174412"
      },
      "outputs": [
        {
          "name": "stderr",
          "output_type": "stream",
          "text": [
            "/usr/local/lib/python3.7/dist-packages/keras/optimizer_v2/optimizer_v2.py:356: UserWarning: The `lr` argument is deprecated, use `learning_rate` instead.\n",
            "  \"The `lr` argument is deprecated, use `learning_rate` instead.\")\n"
          ]
        }
      ],
      "source": [
        "model = Model(inputs=x_inp, outputs=predictions)\n",
        "\n",
        "model.compile(\n",
        "    optimizer=Adam(lr=0.0001), loss=binary_crossentropy, metrics=[\"acc\"],\n",
        ")"
      ]
    },
    {
      "cell_type": "markdown",
      "metadata": {
        "id": "5TKfqXdYjB-Q"
      },
      "source": [
        "### Train the model"
      ]
    },
    {
      "cell_type": "code",
      "execution_count": null,
      "metadata": {
        "id": "2qEQt0d0jB-R"
      },
      "outputs": [],
      "source": [
        "train_graphs, test_graphs = model_selection.train_test_split(\n",
        "    graph_labels, train_size=0.7, test_size=None, stratify=graph_labels,\n",
        ")"
      ]
    },
    {
      "cell_type": "markdown",
      "metadata": {
        "id": "TgCx338OjB-S"
      },
      "source": [
        "Given the data split into train and test sets, we create a `StellarGraph.PaddedGenerator` generator object that prepares the data for training. We create data generators suitable for training at `tf.keras` model by calling the latter generator's `flow` method specifying the train and test data."
      ]
    },
    {
      "cell_type": "code",
      "execution_count": null,
      "metadata": {
        "id": "HRkr2JtOjB-S"
      },
      "outputs": [],
      "source": [
        "gen = PaddedGraphGenerator(graphs=stellar_graphs)\n",
        "\n",
        "train_gen = gen.flow(\n",
        "    list(train_graphs.index - 1),\n",
        "    targets=train_graphs.values,\n",
        "    batch_size=50,\n",
        "    symmetric_normalization=False,\n",
        ")\n",
        "\n",
        "test_gen = gen.flow(\n",
        "    list(test_graphs.index - 1),\n",
        "    targets=test_graphs.values,\n",
        "    batch_size=1,\n",
        "    symmetric_normalization=False,\n",
        ")"
      ]
    },
    {
      "cell_type": "markdown",
      "metadata": {
        "id": "ytOhQ0wujB-S"
      },
      "source": [
        "**Note**: We set the number of epochs to a large value so the call to `model.fit(...)` later might take a long time to complete. For faster performance set `epochs` to a smaller value; but if you do accuracy of the model found may be low."
      ]
    },
    {
      "cell_type": "code",
      "execution_count": null,
      "metadata": {
        "id": "OmFa2ymDjB-T",
        "tags": [
          "parameters"
        ]
      },
      "outputs": [],
      "source": [
        "epochs = 100"
      ]
    },
    {
      "cell_type": "markdown",
      "metadata": {
        "id": "C1TQGhb1jB-T"
      },
      "source": [
        "We can now train the model by calling it's `fit` method."
      ]
    },
    {
      "cell_type": "code",
      "execution_count": null,
      "metadata": {
        "colab": {
          "base_uri": "https://localhost:8080/"
        },
        "id": "MYM28ztZjB-U",
        "outputId": "8dfafda0-f592-405e-d0cf-7f8d8a29afa0"
      },
      "outputs": [
        {
          "name": "stdout",
          "output_type": "stream",
          "text": [
            "Epoch 1/100\n"
          ]
        },
        {
          "name": "stderr",
          "output_type": "stream",
          "text": [
            "/usr/local/lib/python3.7/dist-packages/tensorflow/python/framework/indexed_slices.py:449: UserWarning: Converting sparse IndexedSlices(IndexedSlices(indices=Tensor(\"gradient_tape/model/sort_pooling/map/while/gradients/model/sort_pooling/map/while/GatherV2_grad/Reshape_1:0\", shape=(None,), dtype=int32), values=Tensor(\"gradient_tape/model/sort_pooling/map/while/gradients/model/sort_pooling/map/while/GatherV2_grad/Reshape:0\", shape=(None, None), dtype=float32), dense_shape=Tensor(\"gradient_tape/model/sort_pooling/map/while/gradients/model/sort_pooling/map/while/GatherV2_grad/Cast:0\", shape=(2,), dtype=int32))) to a dense Tensor of unknown shape. This may consume a large amount of memory.\n",
            "  \"shape. This may consume a large amount of memory.\" % value)\n"
          ]
        },
        {
          "name": "stdout",
          "output_type": "stream",
          "text": [
            "15/15 [==============================] - 4s 96ms/step - loss: 0.6873 - acc: 0.7440 - val_loss: 0.6776 - val_acc: 0.9307\n",
            "Epoch 2/100\n",
            "15/15 [==============================] - 1s 71ms/step - loss: 0.6665 - acc: 0.9323 - val_loss: 0.6506 - val_acc: 0.9335\n",
            "Epoch 3/100\n",
            "15/15 [==============================] - 1s 67ms/step - loss: 0.6310 - acc: 0.9335 - val_loss: 0.6049 - val_acc: 0.9335\n",
            "Epoch 4/100\n",
            "15/15 [==============================] - 1s 71ms/step - loss: 0.5756 - acc: 0.9335 - val_loss: 0.5355 - val_acc: 0.9335\n",
            "Epoch 5/100\n",
            "15/15 [==============================] - 1s 72ms/step - loss: 0.4930 - acc: 0.9335 - val_loss: 0.4463 - val_acc: 0.9335\n",
            "Epoch 6/100\n",
            "15/15 [==============================] - 1s 72ms/step - loss: 0.4048 - acc: 0.9335 - val_loss: 0.3565 - val_acc: 0.9335\n",
            "Epoch 7/100\n",
            "15/15 [==============================] - 1s 72ms/step - loss: 0.3261 - acc: 0.9335 - val_loss: 0.2923 - val_acc: 0.9335\n",
            "Epoch 8/100\n",
            "15/15 [==============================] - 1s 70ms/step - loss: 0.2800 - acc: 0.9335 - val_loss: 0.2630 - val_acc: 0.9335\n",
            "Epoch 9/100\n",
            "15/15 [==============================] - 1s 71ms/step - loss: 0.2634 - acc: 0.9335 - val_loss: 0.2538 - val_acc: 0.9335\n",
            "Epoch 10/100\n",
            "15/15 [==============================] - 1s 64ms/step - loss: 0.2585 - acc: 0.9335 - val_loss: 0.2509 - val_acc: 0.9335\n",
            "Epoch 11/100\n",
            "15/15 [==============================] - 1s 70ms/step - loss: 0.2563 - acc: 0.9335 - val_loss: 0.2493 - val_acc: 0.9335\n",
            "Epoch 12/100\n",
            "15/15 [==============================] - 1s 68ms/step - loss: 0.2536 - acc: 0.9335 - val_loss: 0.2481 - val_acc: 0.9335\n",
            "Epoch 13/100\n",
            "15/15 [==============================] - 1s 66ms/step - loss: 0.2537 - acc: 0.9335 - val_loss: 0.2473 - val_acc: 0.9335\n",
            "Epoch 14/100\n",
            "15/15 [==============================] - 1s 67ms/step - loss: 0.2530 - acc: 0.9335 - val_loss: 0.2467 - val_acc: 0.9335\n",
            "Epoch 15/100\n",
            "15/15 [==============================] - 1s 72ms/step - loss: 0.2520 - acc: 0.9335 - val_loss: 0.2463 - val_acc: 0.9335\n",
            "Epoch 16/100\n",
            "15/15 [==============================] - 1s 67ms/step - loss: 0.2515 - acc: 0.9335 - val_loss: 0.2460 - val_acc: 0.9335\n",
            "Epoch 17/100\n",
            "15/15 [==============================] - 1s 73ms/step - loss: 0.2514 - acc: 0.9335 - val_loss: 0.2457 - val_acc: 0.9335\n",
            "Epoch 18/100\n",
            "15/15 [==============================] - 1s 66ms/step - loss: 0.2503 - acc: 0.9335 - val_loss: 0.2456 - val_acc: 0.9335\n",
            "Epoch 19/100\n",
            "15/15 [==============================] - 1s 72ms/step - loss: 0.2517 - acc: 0.9335 - val_loss: 0.2454 - val_acc: 0.9335\n",
            "Epoch 20/100\n",
            "15/15 [==============================] - 1s 72ms/step - loss: 0.2504 - acc: 0.9335 - val_loss: 0.2453 - val_acc: 0.9335\n",
            "Epoch 21/100\n",
            "15/15 [==============================] - 1s 70ms/step - loss: 0.2515 - acc: 0.9335 - val_loss: 0.2452 - val_acc: 0.9335\n",
            "Epoch 22/100\n",
            "15/15 [==============================] - 1s 66ms/step - loss: 0.2497 - acc: 0.9335 - val_loss: 0.2450 - val_acc: 0.9335\n",
            "Epoch 23/100\n",
            "15/15 [==============================] - 1s 65ms/step - loss: 0.2500 - acc: 0.9335 - val_loss: 0.2450 - val_acc: 0.9335\n",
            "Epoch 24/100\n",
            "15/15 [==============================] - 1s 73ms/step - loss: 0.2510 - acc: 0.9335 - val_loss: 0.2449 - val_acc: 0.9335\n",
            "Epoch 25/100\n",
            "15/15 [==============================] - 1s 72ms/step - loss: 0.2498 - acc: 0.9335 - val_loss: 0.2448 - val_acc: 0.9335\n",
            "Epoch 26/100\n",
            "15/15 [==============================] - 1s 70ms/step - loss: 0.2498 - acc: 0.9335 - val_loss: 0.2448 - val_acc: 0.9335\n",
            "Epoch 27/100\n",
            "15/15 [==============================] - 1s 72ms/step - loss: 0.2494 - acc: 0.9335 - val_loss: 0.2447 - val_acc: 0.9335\n",
            "Epoch 28/100\n",
            "15/15 [==============================] - 1s 73ms/step - loss: 0.2506 - acc: 0.9335 - val_loss: 0.2447 - val_acc: 0.9335\n",
            "Epoch 29/100\n",
            "15/15 [==============================] - 1s 73ms/step - loss: 0.2500 - acc: 0.9335 - val_loss: 0.2447 - val_acc: 0.9335\n",
            "Epoch 30/100\n",
            "15/15 [==============================] - 1s 73ms/step - loss: 0.2500 - acc: 0.9335 - val_loss: 0.2447 - val_acc: 0.9335\n",
            "Epoch 31/100\n",
            "15/15 [==============================] - 1s 73ms/step - loss: 0.2500 - acc: 0.9335 - val_loss: 0.2446 - val_acc: 0.9335\n",
            "Epoch 32/100\n",
            "15/15 [==============================] - 2s 120ms/step - loss: 0.2497 - acc: 0.9335 - val_loss: 0.2446 - val_acc: 0.9335\n",
            "Epoch 33/100\n",
            "15/15 [==============================] - 1s 75ms/step - loss: 0.2496 - acc: 0.9335 - val_loss: 0.2446 - val_acc: 0.9335\n",
            "Epoch 34/100\n",
            "15/15 [==============================] - 1s 70ms/step - loss: 0.2490 - acc: 0.9335 - val_loss: 0.2446 - val_acc: 0.9335\n",
            "Epoch 35/100\n",
            "15/15 [==============================] - 1s 71ms/step - loss: 0.2494 - acc: 0.9335 - val_loss: 0.2445 - val_acc: 0.9335\n",
            "Epoch 36/100\n",
            "15/15 [==============================] - 1s 73ms/step - loss: 0.2490 - acc: 0.9335 - val_loss: 0.2445 - val_acc: 0.9335\n",
            "Epoch 37/100\n",
            "15/15 [==============================] - 1s 73ms/step - loss: 0.2495 - acc: 0.9335 - val_loss: 0.2445 - val_acc: 0.9335\n",
            "Epoch 38/100\n",
            "15/15 [==============================] - 1s 69ms/step - loss: 0.2494 - acc: 0.9335 - val_loss: 0.2445 - val_acc: 0.9335\n",
            "Epoch 39/100\n",
            "15/15 [==============================] - 1s 73ms/step - loss: 0.2489 - acc: 0.9335 - val_loss: 0.2445 - val_acc: 0.9335\n",
            "Epoch 40/100\n",
            "15/15 [==============================] - 1s 72ms/step - loss: 0.2491 - acc: 0.9335 - val_loss: 0.2445 - val_acc: 0.9335\n",
            "Epoch 41/100\n",
            "15/15 [==============================] - 1s 69ms/step - loss: 0.2494 - acc: 0.9335 - val_loss: 0.2445 - val_acc: 0.9335\n",
            "Epoch 42/100\n",
            "15/15 [==============================] - 1s 68ms/step - loss: 0.2493 - acc: 0.9335 - val_loss: 0.2445 - val_acc: 0.9335\n",
            "Epoch 43/100\n",
            "15/15 [==============================] - 1s 73ms/step - loss: 0.2489 - acc: 0.9335 - val_loss: 0.2445 - val_acc: 0.9335\n",
            "Epoch 44/100\n",
            "15/15 [==============================] - 1s 68ms/step - loss: 0.2486 - acc: 0.9335 - val_loss: 0.2445 - val_acc: 0.9335\n",
            "Epoch 45/100\n",
            "15/15 [==============================] - 1s 73ms/step - loss: 0.2489 - acc: 0.9335 - val_loss: 0.2445 - val_acc: 0.9335\n",
            "Epoch 46/100\n",
            "15/15 [==============================] - 1s 74ms/step - loss: 0.2492 - acc: 0.9335 - val_loss: 0.2445 - val_acc: 0.9335\n",
            "Epoch 47/100\n",
            "15/15 [==============================] - 1s 69ms/step - loss: 0.2493 - acc: 0.9335 - val_loss: 0.2445 - val_acc: 0.9335\n",
            "Epoch 48/100\n",
            "15/15 [==============================] - 1s 74ms/step - loss: 0.2490 - acc: 0.9335 - val_loss: 0.2445 - val_acc: 0.9335\n",
            "Epoch 49/100\n",
            "15/15 [==============================] - 1s 71ms/step - loss: 0.2489 - acc: 0.9335 - val_loss: 0.2445 - val_acc: 0.9335\n",
            "Epoch 50/100\n",
            "15/15 [==============================] - 1s 68ms/step - loss: 0.2489 - acc: 0.9335 - val_loss: 0.2444 - val_acc: 0.9335\n",
            "Epoch 51/100\n",
            "15/15 [==============================] - 1s 74ms/step - loss: 0.2485 - acc: 0.9335 - val_loss: 0.2444 - val_acc: 0.9335\n",
            "Epoch 52/100\n",
            "15/15 [==============================] - 1s 69ms/step - loss: 0.2490 - acc: 0.9335 - val_loss: 0.2445 - val_acc: 0.9335\n",
            "Epoch 53/100\n",
            "15/15 [==============================] - 1s 73ms/step - loss: 0.2485 - acc: 0.9335 - val_loss: 0.2444 - val_acc: 0.9335\n",
            "Epoch 54/100\n",
            "15/15 [==============================] - 1s 69ms/step - loss: 0.2486 - acc: 0.9335 - val_loss: 0.2444 - val_acc: 0.9335\n",
            "Epoch 55/100\n",
            "15/15 [==============================] - 1s 75ms/step - loss: 0.2489 - acc: 0.9335 - val_loss: 0.2444 - val_acc: 0.9335\n",
            "Epoch 56/100\n",
            "15/15 [==============================] - 1s 72ms/step - loss: 0.2486 - acc: 0.9335 - val_loss: 0.2444 - val_acc: 0.9335\n",
            "Epoch 57/100\n",
            "15/15 [==============================] - 1s 74ms/step - loss: 0.2484 - acc: 0.9335 - val_loss: 0.2444 - val_acc: 0.9335\n",
            "Epoch 58/100\n",
            "15/15 [==============================] - 1s 74ms/step - loss: 0.2488 - acc: 0.9335 - val_loss: 0.2444 - val_acc: 0.9335\n",
            "Epoch 59/100\n",
            "15/15 [==============================] - 1s 74ms/step - loss: 0.2489 - acc: 0.9335 - val_loss: 0.2444 - val_acc: 0.9335\n",
            "Epoch 60/100\n",
            "15/15 [==============================] - 1s 74ms/step - loss: 0.2489 - acc: 0.9335 - val_loss: 0.2444 - val_acc: 0.9335\n",
            "Epoch 61/100\n",
            "15/15 [==============================] - 1s 73ms/step - loss: 0.2483 - acc: 0.9335 - val_loss: 0.2445 - val_acc: 0.9335\n",
            "Epoch 62/100\n",
            "15/15 [==============================] - 1s 68ms/step - loss: 0.2488 - acc: 0.9335 - val_loss: 0.2444 - val_acc: 0.9335\n",
            "Epoch 63/100\n",
            "15/15 [==============================] - 1s 72ms/step - loss: 0.2487 - acc: 0.9335 - val_loss: 0.2444 - val_acc: 0.9335\n",
            "Epoch 64/100\n",
            "15/15 [==============================] - 1s 73ms/step - loss: 0.2478 - acc: 0.9335 - val_loss: 0.2444 - val_acc: 0.9335\n",
            "Epoch 65/100\n",
            "15/15 [==============================] - 1s 69ms/step - loss: 0.2485 - acc: 0.9335 - val_loss: 0.2444 - val_acc: 0.9335\n",
            "Epoch 66/100\n",
            "15/15 [==============================] - 1s 70ms/step - loss: 0.2490 - acc: 0.9335 - val_loss: 0.2444 - val_acc: 0.9335\n",
            "Epoch 67/100\n",
            "15/15 [==============================] - 1s 67ms/step - loss: 0.2488 - acc: 0.9335 - val_loss: 0.2444 - val_acc: 0.9335\n",
            "Epoch 68/100\n",
            "15/15 [==============================] - 1s 71ms/step - loss: 0.2480 - acc: 0.9335 - val_loss: 0.2445 - val_acc: 0.9335\n",
            "Epoch 69/100\n",
            "15/15 [==============================] - 1s 74ms/step - loss: 0.2479 - acc: 0.9335 - val_loss: 0.2445 - val_acc: 0.9335\n",
            "Epoch 70/100\n",
            "15/15 [==============================] - 1s 73ms/step - loss: 0.2485 - acc: 0.9335 - val_loss: 0.2445 - val_acc: 0.9335\n",
            "Epoch 71/100\n",
            "15/15 [==============================] - 1s 73ms/step - loss: 0.2487 - acc: 0.9335 - val_loss: 0.2445 - val_acc: 0.9335\n",
            "Epoch 72/100\n",
            "15/15 [==============================] - 1s 72ms/step - loss: 0.2489 - acc: 0.9335 - val_loss: 0.2445 - val_acc: 0.9335\n",
            "Epoch 73/100\n",
            "15/15 [==============================] - 1s 73ms/step - loss: 0.2485 - acc: 0.9335 - val_loss: 0.2445 - val_acc: 0.9335\n",
            "Epoch 74/100\n",
            "15/15 [==============================] - 1s 72ms/step - loss: 0.2485 - acc: 0.9335 - val_loss: 0.2444 - val_acc: 0.9335\n",
            "Epoch 75/100\n",
            "15/15 [==============================] - 1s 72ms/step - loss: 0.2474 - acc: 0.9335 - val_loss: 0.2444 - val_acc: 0.9335\n",
            "Epoch 76/100\n",
            "15/15 [==============================] - 1s 67ms/step - loss: 0.2479 - acc: 0.9335 - val_loss: 0.2445 - val_acc: 0.9335\n",
            "Epoch 77/100\n",
            "15/15 [==============================] - 1s 73ms/step - loss: 0.2493 - acc: 0.9335 - val_loss: 0.2445 - val_acc: 0.9335\n",
            "Epoch 78/100\n",
            "15/15 [==============================] - 1s 72ms/step - loss: 0.2483 - acc: 0.9335 - val_loss: 0.2445 - val_acc: 0.9335\n",
            "Epoch 79/100\n",
            "15/15 [==============================] - 1s 71ms/step - loss: 0.2484 - acc: 0.9335 - val_loss: 0.2445 - val_acc: 0.9335\n",
            "Epoch 80/100\n",
            "15/15 [==============================] - 1s 72ms/step - loss: 0.2482 - acc: 0.9335 - val_loss: 0.2444 - val_acc: 0.9335\n",
            "Epoch 81/100\n",
            "15/15 [==============================] - 1s 69ms/step - loss: 0.2492 - acc: 0.9335 - val_loss: 0.2444 - val_acc: 0.9335\n",
            "Epoch 82/100\n",
            "15/15 [==============================] - 1s 74ms/step - loss: 0.2484 - acc: 0.9335 - val_loss: 0.2445 - val_acc: 0.9335\n",
            "Epoch 83/100\n",
            "15/15 [==============================] - 1s 74ms/step - loss: 0.2483 - acc: 0.9335 - val_loss: 0.2445 - val_acc: 0.9335\n",
            "Epoch 84/100\n",
            "15/15 [==============================] - 1s 72ms/step - loss: 0.2485 - acc: 0.9335 - val_loss: 0.2445 - val_acc: 0.9335\n",
            "Epoch 85/100\n",
            "15/15 [==============================] - 1s 71ms/step - loss: 0.2484 - acc: 0.9335 - val_loss: 0.2444 - val_acc: 0.9335\n",
            "Epoch 86/100\n",
            "15/15 [==============================] - 1s 74ms/step - loss: 0.2484 - acc: 0.9335 - val_loss: 0.2445 - val_acc: 0.9335\n",
            "Epoch 87/100\n",
            "15/15 [==============================] - 1s 75ms/step - loss: 0.2483 - acc: 0.9335 - val_loss: 0.2444 - val_acc: 0.9335\n",
            "Epoch 88/100\n",
            "15/15 [==============================] - 1s 73ms/step - loss: 0.2490 - acc: 0.9335 - val_loss: 0.2444 - val_acc: 0.9335\n",
            "Epoch 89/100\n",
            "15/15 [==============================] - 1s 70ms/step - loss: 0.2484 - acc: 0.9335 - val_loss: 0.2444 - val_acc: 0.9335\n",
            "Epoch 90/100\n",
            "15/15 [==============================] - 1s 74ms/step - loss: 0.2483 - acc: 0.9335 - val_loss: 0.2445 - val_acc: 0.9335\n",
            "Epoch 91/100\n",
            "15/15 [==============================] - 1s 72ms/step - loss: 0.2486 - acc: 0.9335 - val_loss: 0.2444 - val_acc: 0.9335\n",
            "Epoch 92/100\n",
            "15/15 [==============================] - 1s 72ms/step - loss: 0.2483 - acc: 0.9335 - val_loss: 0.2444 - val_acc: 0.9335\n",
            "Epoch 93/100\n",
            "15/15 [==============================] - 1s 72ms/step - loss: 0.2489 - acc: 0.9335 - val_loss: 0.2444 - val_acc: 0.9335\n",
            "Epoch 94/100\n",
            "15/15 [==============================] - 1s 67ms/step - loss: 0.2494 - acc: 0.9335 - val_loss: 0.2444 - val_acc: 0.9335\n",
            "Epoch 95/100\n",
            "15/15 [==============================] - 1s 70ms/step - loss: 0.2484 - acc: 0.9335 - val_loss: 0.2444 - val_acc: 0.9335\n",
            "Epoch 96/100\n",
            "15/15 [==============================] - 1s 73ms/step - loss: 0.2477 - acc: 0.9335 - val_loss: 0.2444 - val_acc: 0.9335\n",
            "Epoch 97/100\n",
            "15/15 [==============================] - 1s 70ms/step - loss: 0.2485 - acc: 0.9335 - val_loss: 0.2444 - val_acc: 0.9335\n",
            "Epoch 98/100\n",
            "15/15 [==============================] - 1s 73ms/step - loss: 0.2473 - acc: 0.9335 - val_loss: 0.2444 - val_acc: 0.9335\n",
            "Epoch 99/100\n",
            "15/15 [==============================] - 1s 73ms/step - loss: 0.2478 - acc: 0.9335 - val_loss: 0.2444 - val_acc: 0.9335\n",
            "Epoch 100/100\n",
            "15/15 [==============================] - 1s 66ms/step - loss: 0.2476 - acc: 0.9335 - val_loss: 0.2444 - val_acc: 0.9335\n"
          ]
        }
      ],
      "source": [
        "history = model.fit(\n",
        "    train_gen, epochs=epochs, verbose=1, validation_data=test_gen, shuffle=True,\n",
        ");"
      ]
    },
    {
      "cell_type": "markdown",
      "metadata": {
        "id": "YEcxLa4WjB-U"
      },
      "source": [
        "Let us plot the training history (losses and accuracies for the train and test data)."
      ]
    },
    {
      "cell_type": "code",
      "execution_count": null,
      "metadata": {
        "colab": {
          "base_uri": "https://localhost:8080/",
          "height": 585
        },
        "id": "AOl8BkmXjB-V",
        "outputId": "a1a25efd-d8f5-4329-c86f-cd4c936ee137"
      },
      "outputs": [
        {
          "data": {
            "image/png": "[encoded data removed]",
            "text/plain": [
              "<Figure size 504x576 with 2 Axes>"
            ]
          },
          "metadata": {
            "needs_background": "light"
          },
          "output_type": "display_data"
        }
      ],
      "source": [
        "sg.utils.plot_history(history)"
      ]
    },
    {
      "cell_type": "markdown",
      "metadata": {
        "id": "cStxIkVfjB-V"
      },
      "source": [
        "Finally, let us calculate the performance of the trained model on the test data."
      ]
    },
    {
      "cell_type": "code",
      "execution_count": null,
      "metadata": {
        "colab": {
          "base_uri": "https://localhost:8080/"
        },
        "id": "U3yzt5NUjB-W",
        "outputId": "2308010c-2155-4180-fa4e-640de5d882c4"
      },
      "outputs": [
        {
          "name": "stdout",
          "output_type": "stream",
          "text": [
            "306/306 [==============================] - 1s 2ms/step - loss: 0.2444 - acc: 0.9335\n",
            "\n",
            "Test Set Metrics:\n",
            "\tloss: 0.2444\n",
            "\tacc: 0.9335\n"
          ]
        }
      ],
      "source": [
        "test_metrics = model.evaluate(test_gen)\n",
        "print(\"\\nTest Set Metrics:\")\n",
        "for name, val in zip(model.metrics_names, test_metrics):\n",
        "    print(\"\\t{}: {:0.4f}\".format(name, val))"
      ]
    }
  ],
  "metadata": {
    "colab": {
      "collapsed_sections": [],
      "name": "DGCNN.ipynb",
      "provenance": [],
      "toc_visible": true
    },
    "kernelspec": {
      "display_name": "Python 3",
      "language": "python",
      "name": "python3"
    },
    "language_info": {
      "codemirror_mode": {
        "name": "ipython",
        "version": 3
      },
      "file_extension": ".py",
      "mimetype": "text/x-python",
      "name": "python",
      "nbconvert_exporter": "python",
      "pygments_lexer": "ipython3",
      "version": "3.8.8"
    }
  },
  "nbformat": 4,
  "nbformat_minor": 0
}