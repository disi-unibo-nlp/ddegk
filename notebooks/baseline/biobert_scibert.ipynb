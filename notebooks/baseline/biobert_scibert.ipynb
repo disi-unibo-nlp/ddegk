{
  "cells": [
    {
      "cell_type": "markdown",
      "metadata": {
        "id": "of_6lVmWP_VK"
      },
      "source": [
        "# BioBERT/SciBERT-based event graph embeddings"
      ]
    },
    {
      "cell_type": "markdown",
      "metadata": {
        "id": "_BA0QNAdP6mj"
      },
      "source": [
        "##Install"
      ]
    },
    {
      "cell_type": "code",
      "execution_count": null,
      "metadata": {
        "colab": {
          "base_uri": "https://localhost:8080/"
        },
        "id": "umCyO2sFN7HS",
        "outputId": "a7bdaec9-5815-4445-a8cb-a15120b4cb11"
      },
      "outputs": [
        {
          "name": "stdout",
          "output_type": "stream",
          "text": [
            "Requirement already satisfied: transformers in /usr/local/lib/python3.7/dist-packages (4.11.3)\n",
            "Requirement already satisfied: tokenizers<0.11,>=0.10.1 in /usr/local/lib/python3.7/dist-packages (from transformers) (0.10.3)\n",
            "Requirement already satisfied: packaging>=20.0 in /usr/local/lib/python3.7/dist-packages (from transformers) (21.0)\n",
            "Requirement already satisfied: regex!=2019.12.17 in /usr/local/lib/python3.7/dist-packages (from transformers) (2019.12.20)\n",
            "Requirement already satisfied: requests in /usr/local/lib/python3.7/dist-packages (from transformers) (2.23.0)\n",
            "Requirement already satisfied: huggingface-hub>=0.0.17 in /usr/local/lib/python3.7/dist-packages (from transformers) (0.0.19)\n",
            "Requirement already satisfied: tqdm>=4.27 in /usr/local/lib/python3.7/dist-packages (from transformers) (4.62.3)\n",
            "Requirement already satisfied: pyyaml>=5.1 in /usr/local/lib/python3.7/dist-packages (from transformers) (6.0)\n",
            "Requirement already satisfied: numpy>=1.17 in /usr/local/lib/python3.7/dist-packages (from transformers) (1.19.5)\n",
            "Requirement already satisfied: sacremoses in /usr/local/lib/python3.7/dist-packages (from transformers) (0.0.46)\n",
            "Requirement already satisfied: filelock in /usr/local/lib/python3.7/dist-packages (from transformers) (3.3.0)\n",
            "Requirement already satisfied: importlib-metadata in /usr/local/lib/python3.7/dist-packages (from transformers) (4.8.1)\n",
            "Requirement already satisfied: typing-extensions in /usr/local/lib/python3.7/dist-packages (from huggingface-hub>=0.0.17->transformers) (3.7.4.3)\n",
            "Requirement already satisfied: pyparsing>=2.0.2 in /usr/local/lib/python3.7/dist-packages (from packaging>=20.0->transformers) (2.4.7)\n",
            "Requirement already satisfied: zipp>=0.5 in /usr/local/lib/python3.7/dist-packages (from importlib-metadata->transformers) (3.6.0)\n",
            "Requirement already satisfied: certifi>=2017.4.17 in /usr/local/lib/python3.7/dist-packages (from requests->transformers) (2021.5.30)\n",
            "Requirement already satisfied: urllib3!=1.25.0,!=1.25.1,<1.26,>=1.21.1 in /usr/local/lib/python3.7/dist-packages (from requests->transformers) (1.24.3)\n",
            "Requirement already satisfied: chardet<4,>=3.0.2 in /usr/local/lib/python3.7/dist-packages (from requests->transformers) (3.0.4)\n",
            "Requirement already satisfied: idna<3,>=2.5 in /usr/local/lib/python3.7/dist-packages (from requests->transformers) (2.10)\n",
            "Requirement already satisfied: joblib in /usr/local/lib/python3.7/dist-packages (from sacremoses->transformers) (1.0.1)\n",
            "Requirement already satisfied: click in /usr/local/lib/python3.7/dist-packages (from sacremoses->transformers) (7.1.2)\n",
            "Requirement already satisfied: six in /usr/local/lib/python3.7/dist-packages (from sacremoses->transformers) (1.15.0)\n"
          ]
        }
      ],
      "source": [
        "! pip install transformers"
      ]
    },
    {
      "cell_type": "markdown",
      "metadata": {
        "id": "fBuMJUZJQLRC"
      },
      "source": [
        "##Import"
      ]
    },
    {
      "cell_type": "code",
      "execution_count": null,
      "metadata": {
        "id": "E-H55T_XQNYJ"
      },
      "outputs": [],
      "source": [
        "import numpy as np\n",
        "import json\n",
        "import torch\n",
        "from transformers import AutoTokenizer, AutoModel"
      ]
    },
    {
      "cell_type": "markdown",
      "metadata": {
        "id": "JwZBqSMGQO1U"
      },
      "source": [
        "## Load the textual attributes of entities and triggers"
      ]
    },
    {
      "cell_type": "code",
      "execution_count": null,
      "metadata": {
        "id": "RLPfpcsdQdku"
      },
      "outputs": [],
      "source": [
        "DIR = ''"
      ]
    },
    {
      "cell_type": "code",
      "execution_count": null,
      "metadata": {
        "id": "d3KO1QECSRCl"
      },
      "outputs": [],
      "source": [
        "fn = 'st09'"
      ]
    },
    {
      "cell_type": "code",
      "execution_count": null,
      "metadata": {
        "id": "NT-syOZRQi2j"
      },
      "outputs": [],
      "source": [
        "graphs = []\n",
        "with open(DIR + 'stratified_samples/'+ fn +'_stratified_sample.json') as ff:\n",
        "    for g in json.load(ff):\n",
        "        graphs.append([n['name'] for n in g['nodes'] ])"
      ]
    },
    {
      "cell_type": "markdown",
      "metadata": {
        "id": "BJwpc8df2LZa"
      },
      "source": [
        "## Load BioBERT or SciBERT model"
      ]
    },
    {
      "cell_type": "code",
      "execution_count": null,
      "metadata": {
        "id": "5tdAEtmZqPJI"
      },
      "outputs": [],
      "source": [
        "from transformers import AutoTokenizer, AutoModel\n",
        "tokenizer = AutoTokenizer.from_pretrained(\"dmis-lab/biobert-v1.1\")\n",
        "model = AutoModel.from_pretrained(\"dmis-lab/biobert-v1.1\")"
      ]
    },
    {
      "cell_type": "code",
      "source": [
        "tokenizer = BertTokenizer.from_pretrained('allenai/scibert_scivocab_uncased')\n",
        "model = BertModel.from_pretrained('allenai/scibert_scivocab_uncased', output_hidden_states=True)"
      ],
      "metadata": {
        "id": "owyMEtf2LcpP"
      },
      "execution_count": null,
      "outputs": []
    },
    {
      "cell_type": "markdown",
      "metadata": {
        "id": "Vw6NB3u8TfbC"
      },
      "source": [
        "##Embeddings"
      ]
    },
    {
      "cell_type": "markdown",
      "metadata": {
        "id": "MfNNf236KTaQ"
      },
      "source": [
        "How many layers employ?\n",
        "\n",
        "*   last hidden layer\n",
        "*   concatenation of the last four hidden layer\n",
        "*   pooling layer\n",
        "*   mean of the stacking of the last four layers\n",
        "\n",
        "How to aggregate the embeddings contained within multi-token span?\n",
        "\n",
        "*   Average of all token embeddings excluding SEP and CLS\n",
        "*   CLS token embedding\n",
        "*   DeepEventMine strategy\n"
      ]
    },
    {
      "cell_type": "markdown",
      "metadata": {
        "id": "8M_RTRhEN-Wv"
      },
      "source": [
        "##Mean"
      ]
    },
    {
      "cell_type": "code",
      "execution_count": null,
      "metadata": {
        "id": "FQfHI4piDj_U"
      },
      "outputs": [],
      "source": [
        "def compute_embeddings(graph, layer=0, mode=0):\n",
        "  \"\"\"\n",
        "     This function computes the embedding for a graph given\n",
        "     the layers to consider and the mode to aggregate the embeddings of each token\n",
        "\n",
        "     Parameters:\n",
        "     graph list(string): the graph as a list of entities name  \n",
        "     layer (int): 0 to use the last hidden layer, 1 to use the concatenation of the last four hidden layer, 2 to use the pooling layer, 3 to consider the mean of the stacking of the last 4 layers\n",
        "     mode (int): 0 to compute the mean of the token, 1 to consider only the embedding of CLS, 2 to concatenate the embeddings like deep event mine\n",
        "     \n",
        "     Returns:\n",
        "     torch tensor: the embedding of the graph\n",
        "\n",
        "   \"\"\"\n",
        "  emb = []\n",
        "  for text in graph:\n",
        "\n",
        "    # tokenize\n",
        "    tokens = tokenizer.encode(text)\n",
        "    input_ids = torch.tensor(tokens).unsqueeze(0) # Batch size 1\n",
        "\n",
        "    # obtain encoded tokens\n",
        "    with torch.no_grad():\n",
        "      outputs = model(input_ids)\n",
        "    \n",
        "    # consider only the last hidden layer\n",
        "    if layer == 0:\n",
        "      tokens_emb = outputs[0]\n",
        "    \n",
        "    # consider the concatenation of the last four\n",
        "    elif layer == 1:\n",
        "      tokens_emb = torch.cat([outputs[2][i] for i in [-1,-2,-3,-4]], dim=-1)\n",
        "    \n",
        "    # consider the pooling layer\n",
        "    elif layer == 2:\n",
        "      entity_emb = outputs[1][0]\n",
        "\n",
        "    # consider the mean of the stacking of the last four layers\n",
        "    elif layer == 3:\n",
        "      tokens_emb = torch.stack(outputs[2][-4:]).mean(0)\n",
        "      print(tokens_emb.shape)\n",
        "\n",
        "    if layer != 2:\n",
        "      # aggregate the embeddings of each token to get the entity embedding\n",
        "      # mean\n",
        "      if mode == 0:\n",
        "        entity_emb = tokens_emb[0][1:-1].mean(0)\n",
        "      \n",
        "      # CLS embedding\n",
        "      elif mode == 1:\n",
        "        entity_emb = tokens_emb[0][0]\n",
        "      \n",
        "      # deep event mine strategy\n",
        "      elif mode == 2:\n",
        "        entity_emb = torch.cat((tokens_emb[0][0], tokens_emb[0][1:-1].mean(0), tokens_emb[0][-1]))\n",
        "\n",
        "      # store the embeddings of each entity\n",
        "    emb.append(entity_emb)\n",
        "    \n",
        "    \n",
        "  # aggregate the embeddings of each entity stacking them and computing mean\n",
        "  return torch.stack(emb).mean(0)"
      ]
    },
    {
      "cell_type": "code",
      "execution_count": null,
      "metadata": {
        "id": "vXPI6MuMU2ym"
      },
      "outputs": [],
      "source": [
        "# compute embeddings for each graph\n",
        "data = []\n",
        "for i in range(len(graphs)):\n",
        "   data.append({\n",
        "    'idx': i,\n",
        "    'embedding': compute_embeddings(graphs[i]).tolist()\n",
        "  })"
      ]
    },
    {
      "cell_type": "code",
      "execution_count": null,
      "metadata": {
        "id": "vrGP2tA0V1qu"
      },
      "outputs": [],
      "source": [
        "# write the embeddings to file\n",
        "with open(DIR + 'biobert_mean_1000' + fn + '.json', 'w') as outfile:\n",
        "    json.dump(data, outfile)"
      ]
    },
    {
      "cell_type": "markdown",
      "metadata": {
        "id": "AMIK0hN2OAwO"
      },
      "source": [
        "##Sum"
      ]
    },
    {
      "cell_type": "code",
      "execution_count": null,
      "metadata": {
        "id": "aEiPyLqHPW0A"
      },
      "outputs": [],
      "source": [
        "def compute_embeddings(graph, layer=0):\n",
        "  \"\"\"\n",
        "     This function computes the embedding for a graph given\n",
        "     the layers to consider and the mode to aggregate the embeddings of each token\n",
        "\n",
        "     Parameters:\n",
        "     graph list(string): the graph as a list of entities name  \n",
        "     layer (int): 0 to use the last hidden layer, 1 to use the concatenation of the last four hidden layer, 2 to use the pooling layer, 3 to consider the mean of the stacking of the last 4 layers\n",
        "     \n",
        "     Returns:\n",
        "     torch tensor: the embedding of the graph\n",
        "\n",
        "   \"\"\"\n",
        "  emb = []\n",
        "  for text in graph:\n",
        "\n",
        "    # tokenize\n",
        "    tokens = tokenizer.encode(text)\n",
        "    input_ids = torch.tensor(tokens).unsqueeze(0) # Batch size 1\n",
        "\n",
        "    # obtain encoded tokens\n",
        "    with torch.no_grad():\n",
        "      outputs = model(input_ids)\n",
        "    \n",
        "    # consider only the last hidden layer\n",
        "    if layer == 0:\n",
        "      tokens_emb = outputs[0]\n",
        "    \n",
        "    # consider the concatenation of the last four\n",
        "    elif layer == 1:\n",
        "      tokens_emb = torch.cat([outputs[2][i] for i in [-1,-2,-3,-4]], dim=-1)\n",
        "    \n",
        "    # consider the pooling layer\n",
        "    elif layer == 2:\n",
        "      entity_emb = outputs[1][0]\n",
        "\n",
        "    # consider the mean of the stacking of the last four layers\n",
        "    elif layer == 3:\n",
        "      tokens_emb = torch.stack(outputs[2][-4:]).sum(0)\n",
        "      print(tokens_emb.shape)\n",
        "\n",
        "    if layer != 2:\n",
        "      # aggregate the embeddings of each token to get the entity embedding\n",
        "      # sum\n",
        "      entity_emb = tokens_emb[0][1:-1].sum(0)\n",
        "\n",
        "      # store the embeddings of each entity\n",
        "    emb.append(entity_emb)\n",
        "    \n",
        "    \n",
        "  # aggregate the embeddings of each entity stacking them and computing mean\n",
        "  return torch.stack(emb).sum(0)"
      ]
    },
    {
      "cell_type": "code",
      "execution_count": null,
      "metadata": {
        "id": "kWFslT6aPW0B"
      },
      "outputs": [],
      "source": [
        "# compute embeddings for each graph\n",
        "data = []\n",
        "for i in range(len(graphs)):\n",
        "   data.append({\n",
        "    'idx': i,\n",
        "    'embedding': compute_embeddings(graphs[i]).tolist()\n",
        "  })"
      ]
    },
    {
      "cell_type": "code",
      "execution_count": null,
      "metadata": {
        "id": "2mT5B1rBPW0D"
      },
      "outputs": [],
      "source": [
        "# write the embeddings to file\n",
        "with open(DIR + 'biobert_sum_1000' + fn + '.json', 'w') as outfile:\n",
        "    json.dump(data, outfile)"
      ]
    },
    {
      "cell_type": "markdown",
      "metadata": {
        "id": "cwodzRL-OOCI"
      },
      "source": [
        "##Max\n"
      ]
    },
    {
      "cell_type": "code",
      "execution_count": null,
      "metadata": {
        "id": "ka6acXu-Pqk-"
      },
      "outputs": [],
      "source": [
        "def compute_embeddings(graph, layer=0):\n",
        "  \"\"\"\n",
        "     This function computes the embedding for a graph given\n",
        "     the layers to consider and the mode to aggregate the embeddings of each token\n",
        "\n",
        "     Parameters:\n",
        "     graph list(string): the graph as a list of entities name  \n",
        "     layer (int): 0 to use the last hidden layer, 1 to use the concatenation of the last four hidden layer, 2 to use the pooling layer, 3 to consider the mean of the stacking of the last 4 layers\n",
        "     \n",
        "     Returns:\n",
        "     torch tensor: the embedding of the graph\n",
        "\n",
        "   \"\"\"\n",
        "  emb = []\n",
        "  for text in graph:\n",
        "\n",
        "    # tokenize\n",
        "    tokens = tokenizer.encode(text)\n",
        "    input_ids = torch.tensor(tokens).unsqueeze(0) # Batch size 1\n",
        "\n",
        "    # obtain encoded tokens\n",
        "    with torch.no_grad():\n",
        "      outputs = model(input_ids)\n",
        "    \n",
        "    # consider only the last hidden layer\n",
        "    if layer == 0:\n",
        "      tokens_emb = outputs[0]\n",
        "    \n",
        "    # consider the concatenation of the last four\n",
        "    elif layer == 1:\n",
        "      tokens_emb = torch.cat([outputs[2][i] for i in [-1,-2,-3,-4]], dim=-1)\n",
        "    \n",
        "    # consider the pooling layer\n",
        "    elif layer == 2:\n",
        "      entity_emb = outputs[1][0]\n",
        "\n",
        "    # consider the mean of the stacking of the last four layers\n",
        "    elif layer == 3:\n",
        "      tokens_emb, _ = torch.stack(outputs[2][-4:]).max(0)\n",
        "      print(tokens_emb.shape)\n",
        "\n",
        "    if layer != 2:\n",
        "      # aggregate the embeddings of each token to get the entity embedding\n",
        "      # sum\n",
        "      entity_emb, _ = torch.max(tokens_emb[0][1:-1], 0)\n",
        "\n",
        "      # store the embeddings of each entity\n",
        "    emb.append(entity_emb)\n",
        "    \n",
        "    \n",
        "  # aggregate the embeddings of each entity stacking them and computing mean\n",
        "  return torch.max(torch.stack(emb), 0)[0]"
      ]
    },
    {
      "cell_type": "code",
      "execution_count": null,
      "metadata": {
        "id": "UOgQrfXrPqk-"
      },
      "outputs": [],
      "source": [
        "# compute embeddings for each graph\n",
        "data = []\n",
        "for i in range(len(graphs)):\n",
        "   data.append({\n",
        "    'idx': i,\n",
        "    'embedding': compute_embeddings(graphs[i]).tolist()\n",
        "  })"
      ]
    },
    {
      "cell_type": "code",
      "execution_count": null,
      "metadata": {
        "id": "PYiMZvdFPqk_"
      },
      "outputs": [],
      "source": [
        "# write the embeddings to file\n",
        "with open(DIR + 'biobert_max_1000' + fn + '.json', 'w') as outfile:\n",
        "    json.dump(data, outfile)"
      ]
    }
  ],
  "metadata": {
    "colab": {
      "name": "biobert_scibert.ipynb",
      "provenance": [],
      "toc_visible": true
    },
    "kernelspec": {
      "display_name": "Python 3",
      "language": "python",
      "name": "python3"
    },
    "language_info": {
      "codemirror_mode": {
        "name": "ipython",
        "version": 3
      },
      "file_extension": ".py",
      "mimetype": "text/x-python",
      "name": "python",
      "nbconvert_exporter": "python",
      "pygments_lexer": "ipython3",
      "version": "3.8.8"
    }
  },
  "nbformat": 4,
  "nbformat_minor": 0
}