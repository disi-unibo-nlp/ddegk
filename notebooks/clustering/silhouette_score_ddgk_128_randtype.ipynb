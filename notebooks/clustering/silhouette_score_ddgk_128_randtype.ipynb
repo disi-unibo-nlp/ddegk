{
  "nbformat": 4,
  "nbformat_minor": 0,
  "metadata": {
    "colab": {
      "name": "silhouette_score_ddgk_128_randtype.ipynb",
      "provenance": []
    },
    "kernelspec": {
      "name": "python3",
      "display_name": "Python 3"
    },
    "language_info": {
      "name": "python"
    }
  },
  "cells": [
    {
      "cell_type": "code",
      "metadata": {
        "id": "Caij6bn7MAAx"
      },
      "source": [
        "import json\n",
        "import numpy as np\n",
        "from sklearn import *\n",
        "import networkx as nx"
      ],
      "execution_count": null,
      "outputs": []
    },
    {
      "cell_type": "code",
      "metadata": {
        "id": "fK2MXfVEGEPq"
      },
      "source": [
        "DIR = ''"
      ],
      "execution_count": null,
      "outputs": []
    },
    {
      "cell_type": "code",
      "metadata": {
        "id": "wiRZN344KOUv"
      },
      "source": [
        "results = ['cg', 'pc', 'ge13', 'id11', 'ge11', 'gro13', 'mlee', 'st09', 'all']"
      ],
      "execution_count": null,
      "outputs": []
    },
    {
      "cell_type": "code",
      "metadata": {
        "colab": {
          "base_uri": "https://localhost:8080/"
        },
        "id": "N25mYJgUEwsv",
        "outputId": "8204dedf-845f-40c7-a94d-3abb8cc753b3"
      },
      "source": [
        "datasets = [r+'_stratified_sample.json' for r in results]\n",
        "datasets[-1] = 'stratified_1000_all.json'\n",
        "datasets"
      ],
      "execution_count": null,
      "outputs": [
        {
          "output_type": "execute_result",
          "data": {
            "text/plain": [
              "['cg_stratified_sample.json',\n",
              " 'pc_stratified_sample.json',\n",
              " 'ge13_stratified_sample.json',\n",
              " 'id11_stratified_sample.json',\n",
              " 'ge11_stratified_sample.json',\n",
              " 'gro13_stratified_sample.json',\n",
              " 'mlee_stratified_sample.json',\n",
              " 'st09_stratified_sample.json',\n",
              " 'stratified_1000_all.json']"
            ]
          },
          "metadata": {},
          "execution_count": 10
        }
      ]
    },
    {
      "cell_type": "code",
      "metadata": {
        "id": "LO8V_6eUSu7A"
      },
      "source": [
        "results = ['ddgk_1000' + r + '_randtype' for r in results]"
      ],
      "execution_count": null,
      "outputs": []
    },
    {
      "cell_type": "code",
      "metadata": {
        "id": "0mWm_zHkFNB0"
      },
      "source": [
        "scores = []\n",
        "for i in range(len(results)):\n",
        "  with open(DIR + 'ddgk_128_randtype/' + results[i] + '.json') as ff:\n",
        "      data = list(map(json.loads, ff))\n",
        "  prototypes = sorted(data[0]['embedding'].keys())\n",
        "  embeddings = [None] * len(data)\n",
        "  for g in data:\n",
        "      embeddings[g['idx']] = [g['embedding'][i] for i in prototypes]\n",
        "\n",
        "  with open(DIR + 'stratified_samples/' + datasets[i], 'r') as file:\n",
        "    graphs = [nx.node_link_graph(g) for g in json.load(file)]\n",
        "    roots = [g.graph['root'] for g in graphs]\n",
        "    nodes_list = [list(g.nodes.data('type')) for g in graphs]\n",
        "    et = [n[1] for i in range(len(graphs)) for n in nodes_list[i] if n[0]== roots[i]] \n",
        "\n",
        "  scores.append((results[i], metrics.silhouette_score(embeddings, et)))"
      ],
      "execution_count": null,
      "outputs": []
    },
    {
      "cell_type": "code",
      "metadata": {
        "colab": {
          "base_uri": "https://localhost:8080/"
        },
        "id": "65ZACGt5GL0-",
        "outputId": "d389a1d7-30fe-4010-97c2-e4ff4d1835db"
      },
      "source": [
        "print(scores)"
      ],
      "execution_count": null,
      "outputs": [
        {
          "output_type": "stream",
          "name": "stdout",
          "text": [
            "[('ddgk_1000cg_randtype', 0.08123229688587515), ('ddgk_1000pc_randtype', 0.018093782587259515), ('ddgk_1000ge13_randtype', 0.316253749031509), ('ddgk_1000id11_randtype', 0.15822732870298184), ('ddgk_1000ge11_randtype', 0.25634991219825115), ('ddgk_1000gro13_randtype', 0.08307653093137017), ('ddgk_1000mlee_randtype', 0.10135824850826818), ('ddgk_1000st09_randtype', 0.2524626283363157), ('ddgk_1000all_randtype', -0.29036476271705824)]\n"
          ]
        }
      ]
    },
    {
      "cell_type": "code",
      "metadata": {
        "colab": {
          "base_uri": "https://localhost:8080/"
        },
        "id": "OvsCgTC6F3qO",
        "outputId": "dfb6c0ca-e3c1-4977-e622-70adb40e905c"
      },
      "source": [
        "with open(DIR+'stratified_samples/'+datasets[-1], 'r') as file:\n",
        "    dt = [g['graph']['dataset'] for g in json.load(file)]\n",
        "metrics.silhouette_score(embeddings, dt)"
      ],
      "execution_count": null,
      "outputs": [
        {
          "output_type": "execute_result",
          "data": {
            "text/plain": [
              "7.464487970341629e-05"
            ]
          },
          "metadata": {},
          "execution_count": 14
        }
      ]
    }
  ]
}