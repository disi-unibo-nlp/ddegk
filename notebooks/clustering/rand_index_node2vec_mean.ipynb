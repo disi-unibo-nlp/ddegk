{
  "nbformat": 4,
  "nbformat_minor": 0,
  "metadata": {
    "colab": {
      "name": "rand_index_node2vec_mean.ipynb",
      "provenance": [],
      "collapsed_sections": []
    },
    "kernelspec": {
      "name": "python3",
      "display_name": "Python 3"
    },
    "language_info": {
      "name": "python"
    }
  },
  "cells": [
    {
      "cell_type": "markdown",
      "metadata": {
        "id": "0WmOQPOGWUpj"
      },
      "source": [
        "#Clustering and rand index"
      ]
    },
    {
      "cell_type": "code",
      "metadata": {
        "id": "Caij6bn7MAAx"
      },
      "source": [
        "import json\n",
        "import numpy as np\n",
        "from sklearn import *\n",
        "import networkx as nx\n",
        "from sklearn.metrics.cluster import adjusted_rand_score\n",
        "from sklearn.cluster import KMeans"
      ],
      "execution_count": null,
      "outputs": []
    },
    {
      "cell_type": "code",
      "metadata": {
        "id": "fK2MXfVEGEPq"
      },
      "source": [
        "DIR = ''"
      ],
      "execution_count": null,
      "outputs": []
    },
    {
      "cell_type": "code",
      "metadata": {
        "id": "wiRZN344KOUv"
      },
      "source": [
        "results = ['cg', 'epi', 'pc', 'ge13', 'id11', 'ge11', 'gro13', 'mlee', 'st09', 'all']"
      ],
      "execution_count": null,
      "outputs": []
    },
    {
      "cell_type": "code",
      "metadata": {
        "colab": {
          "base_uri": "https://localhost:8080/"
        },
        "id": "N25mYJgUEwsv",
        "outputId": "2326bd1b-03cb-468d-8f79-8464b502c628"
      },
      "source": [
        "datasets = [r+'_stratified_sample.json' for r in results]\n",
        "datasets[-1] = 'stratified_1000_all.json'\n",
        "datasets"
      ],
      "execution_count": null,
      "outputs": [
        {
          "output_type": "execute_result",
          "data": {
            "text/plain": [
              "['cg_stratified_sample.json',\n",
              " 'epi_stratified_sample.json',\n",
              " 'pc_stratified_sample.json',\n",
              " 'ge13_stratified_sample.json',\n",
              " 'id11_stratified_sample.json',\n",
              " 'ge11_stratified_sample.json',\n",
              " 'gro13_stratified_sample.json',\n",
              " 'mlee_stratified_sample.json',\n",
              " 'st09_stratified_sample.json',\n",
              " 'stratified_1000_all.json']"
            ]
          },
          "metadata": {},
          "execution_count": 36
        }
      ]
    },
    {
      "cell_type": "code",
      "metadata": {
        "id": "8hr-40A7LqfX"
      },
      "source": [
        "results = ['node2vec_mean_1000'+r for r in results]"
      ],
      "execution_count": null,
      "outputs": []
    },
    {
      "cell_type": "code",
      "metadata": {
        "id": "0mWm_zHkFNB0"
      },
      "source": [
        "scores = []\n",
        "for i in range(len(results)):\n",
        "  with open(DIR+'node2vec/'+results[i]+'.json') as ff:\n",
        "    embeddings = [g['embedding'] for g in json.load(ff)] \n",
        "      \n",
        "  with open(DIR+'stratified_samples/'+datasets[i], 'r') as file:\n",
        "    graphs = [nx.node_link_graph(g) for g in json.load(file)]\n",
        "    roots = [g.graph['root'] for g in graphs]\n",
        "    nodes_list = [list(g.nodes.data('type')) for g in graphs]\n",
        "    et = [n[1] for i in range(len(graphs)) for n in nodes_list[i] if n[0]== roots[i]] \n",
        "  \n",
        "  e_names = list(set(et))\n",
        "  labels = [e_names.index(l) for l in et]\n",
        "  KMean= KMeans(n_clusters=len(e_names), random_state=42)\n",
        "  KMean.fit(embeddings)\n",
        "  label=KMean.predict(embeddings)\n",
        "  scores.append((results[i], adjusted_rand_score(labels,label)))"
      ],
      "execution_count": null,
      "outputs": []
    },
    {
      "cell_type": "code",
      "metadata": {
        "colab": {
          "base_uri": "https://localhost:8080/"
        },
        "id": "0KCk2GRGfubE",
        "outputId": "67ac6a9e-7aa0-40e7-d38d-06a438ee5025"
      },
      "source": [
        "print(scores)"
      ],
      "execution_count": null,
      "outputs": [
        {
          "output_type": "stream",
          "name": "stdout",
          "text": [
            "[('node2vec_mean_1000cg', -0.04139396328921611), ('node2vec_mean_1000epi', -0.0023395284174128144), ('node2vec_mean_1000pc', -0.03689055086706913), ('node2vec_mean_1000ge13', -0.037475288729248143), ('node2vec_mean_1000id11', -0.024047617311007484), ('node2vec_mean_1000ge11', -0.025391312412904085), ('node2vec_mean_1000gro13', -0.03148219459155044), ('node2vec_mean_1000mlee', -0.055098972834362124), ('node2vec_mean_1000st09', -0.029870318672852603), ('node2vec_mean_1000all', -0.03830141462863844)]\n"
          ]
        }
      ]
    },
    {
      "cell_type": "code",
      "metadata": {
        "colab": {
          "base_uri": "https://localhost:8080/"
        },
        "id": "OvsCgTC6F3qO",
        "outputId": "10d225e0-607c-4a83-b899-0241a579f4d4"
      },
      "source": [
        "with open(DIR+'stratified_samples/'+datasets[-1], 'r') as file:\n",
        "    dt = [g['graph']['dataset'] for g in json.load(file)]\n",
        "e_names = list(set(dt))\n",
        "labels = [e_names.index(l) for l in dt]\n",
        "KMean= KMeans(n_clusters=len(e_names), random_state=42)\n",
        "KMean.fit(embeddings)\n",
        "label=KMean.predict(embeddings)\n",
        "print(f'index score in all for dataset {adjusted_rand_score(labels,label)}')"
      ],
      "execution_count": null,
      "outputs": [
        {
          "output_type": "stream",
          "name": "stdout",
          "text": [
            "index score in all for dataset 0.00046016030587134647\n"
          ]
        }
      ]
    }
  ]
}